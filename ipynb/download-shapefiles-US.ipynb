{
 "cells": [
  {
   "cell_type": "code",
   "execution_count": 4,
   "metadata": {},
   "outputs": [],
   "source": [
    "from census import Census\n",
    "from us import states\n",
    "import us\n",
    "import requests\n",
    "import zipfile\n",
    "import io\n",
    "import geopandas as gpd\n",
    "import pandas as pd\n",
    "import os\n",
    "import socket\n",
    "from timeit import default_timer as timer"
   ]
  },
  {
   "cell_type": "code",
   "execution_count": 5,
   "metadata": {},
   "outputs": [],
   "source": [
    "country='US'\n",
    "\n",
    "key = '5984786462aaccc39f904bf750cc8274bd40f9f8'\n",
    "\n",
    "if os.getenv('CLUSTER')=='PRINCE':\n",
    "    path_to_data='/scratch/spf248/covid/data'\n",
    "else:\n",
    "    path_to_data='../data'\n",
    "\n",
    "dict_of_states = {'AK':['02','ALASKA'], 'MS':['28','MISSISSIPPI'],'AL':['01','ALABAMA'], 'MT':['30','MONTANA'],\n",
    "'AR':['05','ARKANSAS'],'NC':['37','NORTH CAROLINA'], 'AS':['60','AMERICAN SAMOA'],\n",
    " 'ND':['38','NORTH DAKOTA'], 'AZ':['04','ARIZONA'], 'NE': ['31','NEBRASKA'],\n",
    "'CA':['06','CALIFORNIA'], 'NH':['33','NEW HAMPSHIRE'], 'CO':['08', 'COLORADO'], 'NJ':['34', 'NEW JERSEY'],\n",
    "'CT':['09', 'CONNECTICUT'], 'NM':['35', 'NEW MEXICO'],'DC':['11','DISTRICT OF COLUMBIA'], 'NV':['32','NEVADA'],\n",
    "'DE':['10', 'DELAWARE'], 'NY':['36','NEW YORK'], 'FL':['12','FLORIDA'], 'OH':['39','OHIO'],\n",
    "'GA':['13','GEORGIA'], 'OK':['40','OKLAHOMA'], 'GU':['66','GUAM'], 'OR':['41','OREGON'],\n",
    "'HI':['15','HAWAII'],'PA':['42','PENNSYLVANIA'],'IA':['19','IOWA'], 'PR':['72','PUERTO RICO'],\n",
    "'ID':['16','IDAHO'],'RI':['44','RHODE ISLAND'],'IL':['17','ILLINOIS'],'SC':['45','SOUTH CAROLINA'],\n",
    "'IN':['18','INDIANA'],'SD':['46','SOUTH DAKOTA'],'KS':['20','KANSAS'],'TN':['47','TENNESSEE'],\n",
    "'KY':['21','KENTUCKY'],'TX':['48','TEXAS'],'LA':['22','LOUISIANA'],'UT':['49','UTAH'],'MA':['25','MASSACHUSETTS'],\n",
    "'VA':['51','VIRGINIA'],'MD':['24','MARYLAND'],'VI':['78','VIRGIN ISLANDS'],'ME':['23','MAINE'],\n",
    "'VT':['50','VERMONT'],'MI':['26','MICHIGAN'],'WA':['53','WASHINGTON'],'MN':['27','MINNESOTA'],'WI':['55','WISCONSIN'],\n",
    "'MO':['29','MISSOURI'],'WV':['54','WEST VIRGINIA'],'WY': ['56','WYOMING']}"
   ]
  },
  {
   "cell_type": "code",
   "execution_count": null,
   "metadata": {},
   "outputs": [],
   "source": [
    "def download_shp_and_save():\n",
    "    '''\n",
    "    Creates folders for each state, downloads the shapefile, unzip it and saves it into a folder\n",
    "    for each state\n",
    "    '''\n",
    "    if not os.path.exists(os.path.join(path_to_data,'shapefiles',country)):\n",
    "            os.mkdir(os.path.join(path_to_data,'shapefiles',country))\n",
    "        \n",
    "    for state, state_info in dict_of_states.items():\n",
    "        \n",
    "        if not os.path.exists(os.path.join(path_to_data,'shapefiles',country,state_info[1])):\n",
    "            \n",
    "            os.mkdir(os.path.join(path_to_data,'shapefiles',country,state_info[1]))\n",
    "            \n",
    "            link = 'https://www2.census.gov/geo/tiger/TIGER2010/TABBLOCK/2010/tl_2010_{}_tabblock10.zip'.format(state_info[0])\n",
    "\n",
    "            print(state_info[1])\n",
    "            print(link)\n",
    "\n",
    "            req = requests.get(link)\n",
    "            file = zipfile.ZipFile(io.BytesIO(req.content))\n",
    "            file.extractall(path= os.path.join(path_to_data,'shapefiles',country,state_info[1]))\n",
    "        \n",
    "        else:\n",
    "            \n",
    "            print(state_info[1], 'already downloaded')"
   ]
  },
  {
   "cell_type": "code",
   "execution_count": null,
   "metadata": {},
   "outputs": [],
   "source": [
    "print('Download US Census')\n",
    "start = timer()\n",
    "\n",
    "download_shp_and_save()\n",
    "\n",
    "print(\"Done in\", round(timer()-start), \"sec\")"
   ]
  },
  {
   "cell_type": "code",
   "execution_count": null,
   "metadata": {},
   "outputs": [],
   "source": [
    "def open_shape(state):\n",
    "    '''\n",
    "    Opens a shapefile as a geopandas object\n",
    "    inputs:\n",
    "        state(str): valid values are State FIP codes (\"AK\", \"CA\", etc)\n",
    "    returns:\n",
    "        geopandas dataframe\n",
    "    '''\n",
    "    rv = gpd.read_file(path_to_data + '/shapefiles/' + country + '/' + dict_of_states[state][1] + '/tl_2010_{}_tabblock10.shp'.format(dict_of_states[state][0]))\n",
    "    return rv"
   ]
  },
  {
   "cell_type": "code",
   "execution_count": null,
   "metadata": {},
   "outputs": [],
   "source": [
    "print('Create csvs for Geospark')\n",
    "start = timer()\n",
    "\n",
    "for i,state in enumerate(dict_of_states):\n",
    "    if not os.path.exists(os.path.join(path_to_data,'shapefiles',country,'polygons',state+'.csv')):\n",
    "        print(state)\n",
    "        open_shape(state)[['GEOID10','geometry']].to_csv(\n",
    "        os.path.join(path_to_data,'shapefiles',country,'polygons',state+'.csv'),index=False)\n",
    "    \n",
    "print(\"Done in\", round(timer()-start), \"sec\")"
   ]
  }
 ],
 "metadata": {
  "kernelspec": {
   "display_name": "Python 3",
   "language": "python",
   "name": "python3"
  },
  "language_info": {
   "codemirror_mode": {
    "name": "ipython",
    "version": 3
   },
   "file_extension": ".py",
   "mimetype": "text/x-python",
   "name": "python",
   "nbconvert_exporter": "python",
   "pygments_lexer": "ipython3",
   "version": "3.7.4"
  }
 },
 "nbformat": 4,
 "nbformat_minor": 2
}
