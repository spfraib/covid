{
 "cells": [
  {
   "cell_type": "markdown",
   "source": [
    "https://datasystemslab.github.io/GeoSpark/tutorial/geospark-sql-python/\n",
    "\n",
    "https://github.com/DataSystemsLab/GeoSpark/tree/master/python\n",
    "\n",
    "https://datasystemslab.github.io/GeoSpark/tutorial/geospark-core-python/\n",
    "\n",
    "https://medium.com/@karijdempsey/efficient-geospatial-analysis-with-spark-363ba50c5248"
   ],
   "metadata": {}
  },
  {
   "cell_type": "markdown",
   "source": [
    "spark-submit --master yarn --deploy-mode cluster  --conf spark.yarn.appMasterEnv.SPARK_HOME=/share/apps/spark/spark-2.4.0-bin-hadoop2.6 --conf spark.yarn.submit.waitAppCompletion=false --conf spark.serializer=org.apache.spark.serializer.KryoSerializer --conf spark.speculation=false --conf spark.executorEnv.LANG=en_US.UTF-8 --conf spark.yarn.appMasterEnv.LANG=en_US.UTF-8 --driver-cores 20 --driver-memory 55G --num-executors 40 --executor-cores 15 --executor-memory 55G ./covid/py/merge-census-blocks-pyspark.py"
   ],
   "metadata": {}
  },
  {
   "cell_type": "code",
   "source": [
    "import os\n",
    "from datetime import datetime\n",
    "\n",
    "import pandas as pd\n",
    "from geospark.register import GeoSparkRegistrator\n",
    "from pyspark.sql.functions import to_timestamp\n",
    "from pyspark.sql.types import LongType, StringType, StructType, StructField, FloatType"
   ],
   "metadata": {},
   "outputs": [],
   "execution_count": 3
  },
  {
   "cell_type": "code",
   "source": [
    "GeoSparkRegistrator.registerAll(spark)"
   ],
   "metadata": {},
   "outputs": [],
   "execution_count": 4
  },
  {
   "cell_type": "markdown",
   "source": [
    "# Params"
   ],
   "metadata": {
    "pycharm": {
     "name": "#%% md\n"
    }
   }
  },
  {
   "cell_type": "code",
   "execution_count": null,
   "outputs": [],
   "source": [
    "def dbutils_path_exists(path):\n",
    "  try:\n",
    "    dbutils.fs.ls(path)\n",
    "    return True\n",
    "  except:\n",
    "    print(\"{} not found\".format(path))"
   ],
   "metadata": {
    "collapsed": false,
    "pycharm": {
     "name": "#%%\n"
    }
   }
  },
  {
   "cell_type": "code",
   "source": [
    "source='cuebiq'\n",
    "country='ID'\n",
    "admin_id='ADM4_PCODE'\n",
    "start_date='2020-01-01'\n",
    "end_date=datetime.today().strftime('%Y-%m-%d')\n",
    "days_to_consider=[x.strftime('%Y%m%d00') for x in pd.date_range(start_date,end_date) if dbutils_path_exists(\"mnt/wbgggscecovid19dev-datapartnership/data/cuebiq/covid-19/{}/{}/\".format(country, x.strftime('%Y%m%d00')))]\n",
    "paths_to_data = [\"/mnt/wbgggscecovid19dev-datapartnership/data/cuebiq/covid-19/{}/{}/*.csv.gz\".format(country, day) for day in days_to_consider]\n",
    "admin_path = \"/admin/\"\n",
    "results_path = \"/results/\"\n",
    "\n",
    "schema= StructType([\n",
    "StructField(\"timestamp\", LongType(), False),\n",
    "StructField(\"cuebiq_id\", StringType(), False),\n",
    "StructField(\"device_type\", FloatType(), False),\n",
    "StructField(\"latitude\", FloatType(), False),\n",
    "StructField(\"longitude\", FloatType(), False),\n",
    "StructField(\"accuracy\", FloatType(), False),\n",
    "StructField(\"time_zone_offset\", LongType(), False),\n",
    "StructField(\"classification_type\", StringType(), False),\n",
    "StructField(\"transformation_type\", StringType(), False),])"
   ],
   "metadata": {},
   "outputs": [],
   "execution_count": 6
  },
  {
   "cell_type": "markdown",
   "source": [
    "# Load Admin Data"
   ],
   "metadata": {}
  },
  {
   "cell_type": "code",
   "source": [
    "admin=spark.read.option(\"header\",\"true\").csv(os.path.join(admin_path,country,'admin.csv'))\n",
    "admin.createOrReplaceTempView(\"admin\")\n",
    "\n",
    "query=\"select admin.\"+admin_id+\" as \"+admin_id+\", ST_GeomFromText(admin.geometry) as polygon from admin\"\n",
    "admin=spark.sql(query)\n",
    "admin.createOrReplaceTempView(\"admin\")\n",
    "admin.cache()\n",
    "print('# Admin Units:',admin.count())"
   ],
   "metadata": {},
   "outputs": [],
   "execution_count": 8
  },
  {
   "cell_type": "markdown",
   "source": [
    "# Geocode Pings By Chunk"
   ],
   "metadata": {}
  },
  {
   "cell_type": "code",
   "source": [
    "def geocode_pings(pings):\n",
    "\n",
    "    pings=pings.withColumn(\"time\",to_timestamp(pings[\"timestamp\"]+pings[\"time_zone_offset\"]))\n",
    "    \n",
    "    pings.createOrReplaceTempView(\"pings\")\n",
    "    pings=spark.sql(\"\"\"select time\n",
    "    , cuebiq_id\n",
    "    , latitude\n",
    "    , longitude\n",
    "    , accuracy\n",
    "    , classification_type\n",
    "    , ST_Point(cast(pings.longitude as Decimal(24,20))\n",
    "    , cast(pings.latitude as Decimal(24,20))) as point\n",
    "    from pings\n",
    "    \"\"\")\n",
    "    \n",
    "    pings.createOrReplaceTempView(\"pings\")\n",
    "    query=\"\"\"SELECT p.time\n",
    "    , p.cuebiq_id\n",
    "    , p.latitude\n",
    "    , p.longitude\n",
    "    , p.accuracy\n",
    "    , p.classification_type\n",
    "    , s.\"\"\"+admin_id+\"\"\" \n",
    "    FROM pings AS p, admin AS s WHERE ST_Intersects(p.point, s.polygon)\"\"\"\n",
    "    pings_geocoded=spark.sql(query)\n",
    "    \n",
    "    return pings_geocoded"
   ],
   "metadata": {},
   "outputs": [],
   "execution_count": 10
  },
  {
   "cell_type": "code",
   "source": [
    "pings=spark.read.format(\"csv\").option('header', 'false').option(\"delimiter\", \"\\t\").schema(schema).load(paths_to_data)\n"
   ],
   "metadata": {
    "pycharm": {
     "name": "#%%\n"
    }
   },
   "outputs": [],
   "execution_count": 11
  },
  {
   "cell_type": "code",
   "source": [
    "pings_geocoded=geocode_pings(pings)\n",
    "\n",
    "pings_geocoded.write.mode(\"overwrite\").parquet( os.path.join(results_path,source,'processed',country, 'pings_geocoded'))"
   ],
   "metadata": {
    "pycharm": {
     "name": "#%%\n"
    }
   },
   "outputs": [],
   "execution_count": 12
  }
 ],
 "metadata": {
  "kernelspec": {
   "display_name": "Python 3",
   "language": "python",
   "name": "python3"
  },
  "language_info": {
   "mimetype": "text/x-python",
   "name": "python",
   "pygments_lexer": "ipython3",
   "codemirror_mode": {
    "name": "ipython",
    "version": 3
   },
   "version": "3.7.4",
   "nbconvert_exporter": "python",
   "file_extension": ".py"
  },
  "name": "get-geocoded-pings",
  "notebookId": 4471012258260988
 },
 "nbformat": 4,
 "nbformat_minor": 0
}