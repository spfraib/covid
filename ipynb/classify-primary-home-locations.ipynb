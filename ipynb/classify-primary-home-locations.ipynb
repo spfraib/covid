{
 "cells": [
  {
   "cell_type": "code",
   "execution_count": 8,
   "metadata": {},
   "outputs": [],
   "source": [
    "import os\n",
    "from glob import glob\n",
    "import pandas as pd\n",
    "from timeit import default_timer as timer\n",
    "import numpy as np\n",
    "from collections import Counter\n",
    "import pygeohash as pgh\n",
    "\n",
    "from pyspark.sql import SparkSession\n",
    "from pyspark.sql.functions import udf,desc,row_number,col,year,month,dayofmonth,hour,dayofweek,to_timestamp,size,isnan,lit,date_format,to_timestamp,struct,expr,explode,collect_list,array\n",
    "from pyspark.sql.types import MapType, StringType, IntegerType, StructType, StructField, FloatType, ArrayType, DoubleType"
   ]
  },
  {
   "cell_type": "code",
   "execution_count": 2,
   "metadata": {},
   "outputs": [
    {
     "name": "stdout",
     "output_type": "stream",
     "text": [
      "Create Spark\n"
     ]
    }
   ],
   "source": [
    "try:\n",
    "    spark\n",
    "except NameError:\n",
    "    print('Create Spark')\n",
    "    spark=SparkSession.builder.appName(\"\").getOrCreate()"
   ]
  },
  {
   "cell_type": "code",
   "execution_count": 3,
   "metadata": {},
   "outputs": [
    {
     "name": "stderr",
     "output_type": "stream",
     "text": [
      "/share/apps/anaconda3/2019.10/lib/python3.7/site-packages/statsmodels/tools/_testing.py:19: FutureWarning: pandas.util.testing is deprecated. Use the functions in the public API at pandas.testing instead.\n",
      "  import pandas.util.testing as tm\n"
     ]
    }
   ],
   "source": [
    "source='cuebiq'\n",
    "# country='US'\n",
    "country='MX'\n",
    "\n",
    "if os.getenv('CLUSTER')=='PRINCE':\n",
    "    path_to_data='/scratch/spf248/covid/data' \n",
    "    path_to_fig='/scratch/spf248/covid/fig'    \n",
    "    %matplotlib inline\n",
    "    import matplotlib.pyplot as plt\n",
    "    import seaborn as sns\n",
    "else:\n",
    "    path_to_data='/user/spf248/covid/data'\n",
    "    path_to_fig='/home/spf248/covid/fig'\n",
    "    import matplotlib as mpl\n",
    "    mpl.use('Agg')\n",
    "    import matplotlib.pyplot as plt\n",
    "    import seaborn as sns"
   ]
  },
  {
   "cell_type": "markdown",
   "metadata": {},
   "source": [
    "# Import Aggregated Data"
   ]
  },
  {
   "cell_type": "code",
   "execution_count": 4,
   "metadata": {},
   "outputs": [
    {
     "name": "stdout",
     "output_type": "stream",
     "text": [
      "# Users: 301967\n"
     ]
    }
   ],
   "source": [
    "users_profile=spark.read.parquet(os.path.join(path_to_data,source,'aggregates',country,'users_profile'))\n",
    "users_profile.cache()\n",
    "print('# Users:', users_profile.count()) # 21783569"
   ]
  },
  {
   "cell_type": "code",
   "execution_count": 5,
   "metadata": {},
   "outputs": [
    {
     "name": "stdout",
     "output_type": "stream",
     "text": [
      "# Personal Areas: 442269\n"
     ]
    }
   ],
   "source": [
    "n_pings_id_personal=spark.read.parquet(os.path.join(path_to_data,source,'aggregates',country,'n_pings_id_personal'))\n",
    "n_pings_id_personal.cache()\n",
    "print('# Personal Areas:', n_pings_id_personal.count()) # 34963009"
   ]
  },
  {
   "cell_type": "code",
   "execution_count": 6,
   "metadata": {},
   "outputs": [
    {
     "name": "stdout",
     "output_type": "stream",
     "text": [
      "# Pings at personal Locations: 295165987\n"
     ]
    }
   ],
   "source": [
    "n_pings_id_personal_day_hour=spark.read.parquet(os.path.join(path_to_data,source,'aggregates',country,'n_pings_id_personal_day_hour'))\n",
    "n_pings_id_personal_day_hour.cache()\n",
    "total_pings=n_pings_id_personal_day_hour.select('n_pings').groupby().sum().collect()[0][0]\n",
    "print('# Pings at personal Locations:', total_pings) # 84668795782"
   ]
  },
  {
   "cell_type": "markdown",
   "metadata": {},
   "source": [
    "# Infer Primary Home Location"
   ]
  },
  {
   "cell_type": "code",
   "execution_count": 7,
   "metadata": {
    "collapsed": true
   },
   "outputs": [
    {
     "name": "stdout",
     "output_type": "stream",
     "text": [
      "\n",
      "Cutoff day: 5\n",
      "\n",
      "Cutoff morning: 5\n",
      "Cutoff night: 19\n",
      "Cutoff night: 21\n",
      "Cutoff night: 23\n",
      "\n",
      "Cutoff morning: 7\n",
      "Cutoff night: 19\n",
      "Cutoff night: 21\n",
      "Cutoff night: 23\n",
      "\n",
      "Cutoff morning: 9\n",
      "Cutoff night: 19\n",
      "Cutoff night: 21\n",
      "Cutoff night: 23\n",
      "\n",
      "Cutoff day: 7\n",
      "\n",
      "Cutoff morning: 5\n",
      "Cutoff night: 19\n",
      "Cutoff night: 21\n",
      "Cutoff night: 23\n",
      "\n",
      "Cutoff morning: 7\n",
      "Cutoff night: 19\n",
      "Cutoff night: 21\n",
      "Cutoff night: 23\n",
      "\n",
      "Cutoff morning: 9\n",
      "Cutoff night: 19\n",
      "Cutoff night: 21\n",
      "Cutoff night: 23\n"
     ]
    }
   ],
   "source": [
    "primary_home=users_profile.select('cuebiq_id')\n",
    "\n",
    "for cutoff_day in [5,7]:\n",
    "    print()\n",
    "    print('Cutoff day:',cutoff_day)\n",
    "    for cutoff_morning in [5,7,9]:\n",
    "        print()\n",
    "        print('Cutoff morning:',cutoff_morning)\n",
    "        for cutoff_night in [19,21,23]:\n",
    "            print('Cutoff night:',cutoff_night)\n",
    "            \n",
    "            n_pings_id_personal_filtered=n_pings_id_personal_day_hour.filter(\n",
    "            n_pings_id_personal_day_hour['dayofweek']<=cutoff_day).filter(\n",
    "            (n_pings_id_personal_day_hour['hour']>=cutoff_night)|\\\n",
    "            (n_pings_id_personal_day_hour['hour']<=cutoff_morning)).groupby('cuebiq_id','point').agg(\n",
    "            {'n_pings':'sum'}).withColumnRenamed('sum(n_pings)','n_pings')\n",
    "            \n",
    "            n_pings_id_max=n_pings_id_personal_filtered.groupby('cuebiq_id').agg(\n",
    "            {'n_pings':'max'}).withColumnRenamed('max(n_pings)','n_pings')\n",
    "            \n",
    "            n_pings_id_personal_filtered_max=n_pings_id_personal_filtered.join(\n",
    "            n_pings_id_max,on=['cuebiq_id','n_pings']).drop_duplicates(\n",
    "            subset=['cuebiq_id','n_pings']).drop('n_pings')\n",
    "            \n",
    "            primary_home=primary_home.join(\n",
    "            n_pings_id_personal_filtered_max,on=['cuebiq_id']).withColumnRenamed(\n",
    "            'point','point_'+str(cutoff_day)+'_'+str(cutoff_morning)+'_'+str(cutoff_night))"
   ]
  },
  {
   "cell_type": "code",
   "execution_count": null,
   "metadata": {},
   "outputs": [],
   "source": [
    "geohash = udf(lambda x,y: pgh.encode(x,y))"
   ]
  },
  {
   "cell_type": "code",
   "execution_count": null,
   "metadata": {},
   "outputs": [],
   "source": [
    "# Baseline = Most Frequently Allocated Block Across Specification\n",
    "mode=udf(lambda arr: Counter(arr).most_common(1)[0][0], StructType())\n",
    "primary_home=primary_home.withColumn(\n",
    "'point', mode(array([x for x in primary_home.columns if 'point' in x])))\n",
    "\n",
    "# Check unicity across specifications\n",
    "is_unique=udf(lambda arr: np.int(len(np.unique(arr))==1), IntegerType())\n",
    "primary_home=primary_home.withColumn(\n",
    "'perfect_match', is_unique(array([x for x in primary_home.columns if 'point' in x])))"
   ]
  },
  {
   "cell_type": "code",
   "execution_count": null,
   "metadata": {},
   "outputs": [],
   "source": [
    "print('Save Primary Home Location')\n",
    "start = timer()\n",
    "primary_home.write.mode(\"overwrite\").parquet(os.path.join(path_to_data,source,'aggregates',country,'primary_home'))\n",
    "print(\"Done in\", round(timer()-start), \"sec\")        "
   ]
  },
  {
   "cell_type": "code",
   "execution_count": null,
   "metadata": {},
   "outputs": [],
   "source": [
    "# Personal Locations: 34273578\n",
    "# Users with personal locations: 21417460\n",
    "# Home detected: 20992177\n",
    "# Non-home locations: 13281401\n",
    "# Non-home locations: 11624061"
   ]
  }
 ],
 "metadata": {
  "kernelspec": {
   "display_name": "Python 3",
   "language": "python",
   "name": "python3"
  },
  "language_info": {
   "codemirror_mode": {
    "name": "ipython",
    "version": 3
   },
   "file_extension": ".py",
   "mimetype": "text/x-python",
   "name": "python",
   "nbconvert_exporter": "python",
   "pygments_lexer": "ipython3",
   "version": "3.7.4"
  }
 },
 "nbformat": 4,
 "nbformat_minor": 4
}
