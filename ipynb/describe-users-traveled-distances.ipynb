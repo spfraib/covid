{
 "cells": [
  {
   "cell_type": "code",
   "execution_count": null,
   "metadata": {},
   "outputs": [],
   "source": [
    "import os\n",
    "from timeit import default_timer as timer\n",
    "import pandas as pd\n",
    "from datetime import datetime, timedelta, date\n",
    "from glob import glob\n",
    "from pathlib import Path\n",
    "import pandas as pd\n",
    "import numpy as np\n",
    "from haversine import haversine_vector, Unit"
   ]
  },
  {
   "cell_type": "code",
   "execution_count": null,
   "metadata": {},
   "outputs": [],
   "source": [
    "path_to_data='/scratch/spf248/covid/data'\n",
    "source='cuebiq'\n",
    "country='ID'\n",
    "admin_id='ADM4_PCODE'\n",
    "day=list(range(8,20))\n",
    "night=list(range(8))+list(range(20,24))\n",
    "inputs_folders=sorted([x.split('/')[-1][:-2] for x in glob(os.path.join(path_to_data,source,'s3',country,'*'))])\n",
    "start_date=pd.to_datetime(inputs_folders[0],format='%Y%m%d').strftime('%m/%d/%Y')\n",
    "end_date=pd.to_datetime(inputs_folders[-1],format='%Y%m%d').strftime('%m/%d/%Y')\n",
    "print('Start:',start_date)\n",
    "print('End:',end_date)\n",
    "min_acc=10000"
   ]
  },
  {
   "cell_type": "markdown",
   "metadata": {},
   "source": [
    "# Compute distance traveled"
   ]
  },
  {
   "cell_type": "code",
   "execution_count": null,
   "metadata": {},
   "outputs": [],
   "source": [
    "print('Import')\n",
    "start = timer()\n",
    "data_dirs=glob(os.path.join(path_to_data,source,'processed',country,'pings_geocoded','*'))\n",
    "pings_geocoded = pd.concat(\n",
    "    pd.read_parquet(parquet_file)\n",
    "    for data_dir in data_dirs for parquet_file in Path(data_dir).glob('*.parquet')\n",
    ")\n",
    "print(\"Done in\", round(timer()-start), \"sec\")  "
   ]
  },
  {
   "cell_type": "code",
   "execution_count": null,
   "metadata": {},
   "outputs": [],
   "source": [
    "print('Process')\n",
    "start = timer()\n",
    "pings_geocoded.drop(['classification_type',admin_id],1,inplace=True)\n",
    "pings_geocoded.sort_values(by=['cuebiq_id','time'],inplace=True)\n",
    "pings_geocoded['point'] = list(zip(pings_geocoded.latitude,pings_geocoded.longitude))\n",
    "pings_geocoded.drop(['latitude','longitude'],1,inplace=True)\n",
    "pings_geocoded=pd.concat([pings_geocoded,pings_geocoded.groupby('cuebiq_id')[['accuracy','point']].shift(-1).rename(columns=lambda x:x+'_destination')],1)\n",
    "pings_geocoded=pings_geocoded[(np.abs(pings_geocoded.accuracy)<=min_acc)&(np.abs(pings_geocoded.accuracy_destination)<=min_acc)].copy()\n",
    "pings_geocoded['hour']=pings_geocoded.time.dt.hour\n",
    "pings_geocoded.dropna(inplace=True)\n",
    "pings_geocoded.reset_index(drop=True,inplace=True)\n",
    "print(\"Done in\", round(timer()-start), \"sec\")  "
   ]
  },
  {
   "cell_type": "code",
   "execution_count": null,
   "metadata": {
    "scrolled": false
   },
   "outputs": [],
   "source": [
    "print('Compute distance')\n",
    "start = timer()\n",
    "pings_geocoded['distance']=haversine_vector(pings_geocoded['point'].values.tolist(),pings_geocoded['point_destination'].values.tolist(),Unit.KILOMETERS)\n",
    "pings_geocoded.drop(['point','point_destination'],1,inplace=True)\n",
    "print(\"Done in\", round(timer()-start), \"sec\") "
   ]
  },
  {
   "cell_type": "code",
   "execution_count": null,
   "metadata": {},
   "outputs": [],
   "source": [
    "print('Aggregate Distances')\n",
    "start = timer()\n",
    "distances_date_id=pings_geocoded.groupby([pd.Grouper(key='time',freq='D'),'cuebiq_id'])['distance'].agg(['mean','median','max','count']).reset_index().rename(columns={'time':'date'})\n",
    "distances_daytime_id=pings_geocoded[pings_geocoded['hour'].isin(day)].groupby([pd.Grouper(key='time',freq='D'),'cuebiq_id'])['distance'].agg(['mean','median','max','count']).reset_index().rename(columns={'time':'date'})\n",
    "distances_nighttime_id=pings_geocoded[pings_geocoded['hour'].isin(night)].groupby([pd.Grouper(key='time',freq='D'),'cuebiq_id'])['distance'].agg(['mean','median','max','count']).reset_index().rename(columns={'time':'date'})\n",
    "print(\"Done in\", round(timer()-start), \"sec\") "
   ]
  },
  {
   "cell_type": "code",
   "execution_count": null,
   "metadata": {},
   "outputs": [],
   "source": [
    "print('Process')\n",
    "start = timer()\n",
    "distances_date_id=distances_date_id[(distances_date_id['date']>=pd.to_datetime(start_date))&(distances_date_id['date']<=pd.to_datetime(end_date))].reset_index(drop=True).copy()\n",
    "distances_daytime_id=distances_daytime_id[(distances_daytime_id['date']>=pd.to_datetime(start_date))&(distances_daytime_id['date']<=pd.to_datetime(end_date))].reset_index(drop=True).copy()\n",
    "distances_nighttime_id=distances_nighttime_id[(distances_nighttime_id['date']>=pd.to_datetime(start_date))&(distances_nighttime_id['date']<=pd.to_datetime(end_date))].reset_index(drop=True).copy()\n",
    "distances_date_id.rename(columns={'mean':'mean_distance','median':'median_distance','max':'max_distance','count':'n_pings'},inplace=True)\n",
    "distances_daytime_id.rename(columns={'mean':'mean_distance','median':'median_distance','max':'max_distance','count':'n_pings'},inplace=True)\n",
    "distances_nighttime_id.rename(columns={'mean':'mean_distance','median':'median_distance','max':'max_distance','count':'n_pings'},inplace=True)\n",
    "print(\"Done in\", round(timer()-start), \"sec\") "
   ]
  },
  {
   "cell_type": "code",
   "execution_count": null,
   "metadata": {},
   "outputs": [],
   "source": [
    "print('Save')\n",
    "start = timer()\n",
    "distances_date_id.to_csv(os.path.join(path_to_data,source,'processed',country,'distances_date_id.csv'))\n",
    "distances_daytime_id.to_csv(os.path.join(path_to_data,source,'processed',country,'distances_daytime_id.csv'))\n",
    "distances_nighttime_id.to_csv(os.path.join(path_to_data,source,'processed',country,'distances_nighttime_id.csv'))\n",
    "print(\"Done in\", round(timer()-start), \"sec\")"
   ]
  },
  {
   "cell_type": "markdown",
   "metadata": {},
   "source": [
    "# Figures"
   ]
  }
 ],
 "metadata": {
  "kernelspec": {
   "display_name": "Python 3",
   "language": "python",
   "name": "python3"
  },
  "language_info": {
   "codemirror_mode": {
    "name": "ipython",
    "version": 3
   },
   "file_extension": ".py",
   "mimetype": "text/x-python",
   "name": "python",
   "nbconvert_exporter": "python",
   "pygments_lexer": "ipython3",
   "version": "3.7.4"
  }
 },
 "nbformat": 4,
 "nbformat_minor": 4
}
