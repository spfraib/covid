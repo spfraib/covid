{
 "cells": [
  {
   "cell_type": "code",
   "execution_count": 2,
   "metadata": {},
   "outputs": [],
   "source": [
    "import os\n",
    "from timeit import default_timer as timer\n",
    "from datetime import datetime, timedelta\n",
    "from glob import glob\n",
    "from pathlib import Path\n",
    "import pandas as pd\n",
    "import numpy as np\n",
    "from scipy.stats import entropy"
   ]
  },
  {
   "cell_type": "code",
   "execution_count": 3,
   "metadata": {},
   "outputs": [],
   "source": [
    "path_to_data='/scratch/spf248/covid/data'\n",
    "start_date='01/01/2020'\n",
    "end_date='04/16/2020'\n",
    "source='cuebiq'\n",
    "country='ID'\n",
    "admin_id='ADM4_PCODE'\n",
    "day=list(range(8,20))\n",
    "night=list(range(8))+list(range(20,24))"
   ]
  },
  {
   "cell_type": "markdown",
   "metadata": {},
   "source": [
    "# Compute entropy of neighborhood visits"
   ]
  },
  {
   "cell_type": "code",
   "execution_count": null,
   "metadata": {},
   "outputs": [],
   "source": [
    "print('Import')\n",
    "start = timer()\n",
    "data_dirs=glob(os.path.join(path_to_data,source,'processed',country,'pings_geocoded','*'))\n",
    "pings_geocoded = pd.concat(\n",
    "    pd.read_parquet(parquet_file)\n",
    "    for data_dir in data_dirs for parquet_file in Path(data_dir).glob('*.parquet')\n",
    ")\n",
    "print(\"Done in\", round(timer()-start), \"sec\")  "
   ]
  },
  {
   "cell_type": "code",
   "execution_count": null,
   "metadata": {
    "scrolled": true
   },
   "outputs": [],
   "source": [
    "print('Process')\n",
    "start = timer()\n",
    "pings_geocoded['date']=pd.to_datetime(pings_geocoded.time.dt.date)\n",
    "pings_geocoded['hour']=pings_geocoded.time.dt.hour\n",
    "print(\"Done in\", round(timer()-start), \"sec\")  "
   ]
  },
  {
   "cell_type": "code",
   "execution_count": null,
   "metadata": {},
   "outputs": [],
   "source": [
    "def get_entropy(data):\n",
    "    \"\"\"Calculates entropy of the passed `pd.Series`\n",
    "    \"\"\"\n",
    "    p_data = data.value_counts() # counts occurrence of each value\n",
    "    return entropy(p_data)       # get entropy from counts"
   ]
  },
  {
   "cell_type": "code",
   "execution_count": null,
   "metadata": {},
   "outputs": [],
   "source": [
    "print('Compute entropy of neighborhoods')\n",
    "start = timer()\n",
    "entropy_date_id=pings_geocoded.groupby(['date','cuebiq_id']).agg(entropy=(admin_id,get_entropy),n_pings=('time','count'))\n",
    "entropy_daytime_id=pings_geocoded[pings_geocoded.hour.isin(day)].groupby(['date','cuebiq_id']).agg(entropy=(admin_id,get_entropy),n_pings=('time','count'))\n",
    "entropy_nighttime_id=pings_geocoded[pings_geocoded.hour.isin(night)].groupby(['date','cuebiq_id']).agg(entropy=(admin_id,get_entropy),n_pings=('time','count'))\n",
    "print(\"Done in\", round(timer()-start), \"sec\")"
   ]
  },
  {
   "cell_type": "code",
   "execution_count": null,
   "metadata": {},
   "outputs": [],
   "source": [
    "print('Process')\n",
    "start = timer()\n",
    "entropy_date_id=entropy_date_id[entropy_date_id.index.get_level_values('date').isin(pd.date_range(start_date,end_date))].copy()\n",
    "entropy_daytime_id=entropy_daytime_id[entropy_daytime_id.index.get_level_values('date').isin(pd.date_range(start_date,end_date))].copy()\n",
    "entropy_nighttime_id=entropy_nighttime_id[entropy_nighttime_id.index.get_level_values('date').isin(pd.date_range(start_date,end_date))].copy()\n",
    "print(\"Done in\", round(timer()-start), \"sec\")"
   ]
  },
  {
   "cell_type": "code",
   "execution_count": 6,
   "metadata": {},
   "outputs": [
    {
     "name": "stdout",
     "output_type": "stream",
     "text": [
      "Save\n",
      "Done in 61 sec\n"
     ]
    }
   ],
   "source": [
    "print('Save')\n",
    "start = timer()\n",
    "entropy_date_id.to_csv(os.path.join(path_to_data,source,'processed',country,'entropy_date_id.csv'))\n",
    "entropy_daytime_id.to_csv(os.path.join(path_to_data,source,'processed',country,'entropy_daytime_id.csv'))\n",
    "entropy_nighttime_id.to_csv(os.path.join(path_to_data,source,'processed',country,'entropy_nighttime_id.csv'))\n",
    "print(\"Done in\", round(timer()-start), \"sec\")"
   ]
  },
  {
   "cell_type": "markdown",
   "metadata": {},
   "source": [
    "# Figures"
   ]
  }
 ],
 "metadata": {
  "kernelspec": {
   "display_name": "Python 3",
   "language": "python",
   "name": "python3"
  },
  "language_info": {
   "codemirror_mode": {
    "name": "ipython",
    "version": 3
   },
   "file_extension": ".py",
   "mimetype": "text/x-python",
   "name": "python",
   "nbconvert_exporter": "python",
   "pygments_lexer": "ipython3",
   "version": "3.7.4"
  }
 },
 "nbformat": 4,
 "nbformat_minor": 4
}
