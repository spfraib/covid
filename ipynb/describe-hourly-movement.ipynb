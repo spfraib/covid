{
 "cells": [
  {
   "cell_type": "code",
   "execution_count": 1,
   "metadata": {},
   "outputs": [
    {
     "name": "stderr",
     "output_type": "stream",
     "text": [
      "/share/apps/anaconda3/2019.10/lib/python3.7/site-packages/statsmodels/tools/_testing.py:19: FutureWarning: pandas.util.testing is deprecated. Use the functions in the public API at pandas.testing instead.\n",
      "  import pandas.util.testing as tm\n"
     ]
    }
   ],
   "source": [
    "import os\n",
    "from glob import glob\n",
    "from timeit import default_timer as timer\n",
    "import numpy as np\n",
    "import pandas as pd\n",
    "from datetime import datetime\n",
    "import matplotlib.pyplot as plt\n",
    "import seaborn as sns\n",
    "from pathlib import Path"
   ]
  },
  {
   "cell_type": "code",
   "execution_count": 2,
   "metadata": {},
   "outputs": [],
   "source": [
    "path_to_data='/scratch/spf248/covid/data' \n",
    "path_to_fig='/scratch/spf248/covid/fig'    \n",
    "source='cuebiq'\n",
    "country='ID'"
   ]
  },
  {
   "cell_type": "code",
   "execution_count": 3,
   "metadata": {},
   "outputs": [],
   "source": [
    "def get_coords(df):\n",
    "    df['latitude']=df['point'].apply(lambda x:x['latitude'])\n",
    "    df['longitude']=df['point'].apply(lambda x:x['longitude'])\n",
    "    return df.drop('point',1)"
   ]
  },
  {
   "cell_type": "markdown",
   "metadata": {},
   "source": [
    "# Import Processed Data"
   ]
  },
  {
   "cell_type": "code",
   "execution_count": 4,
   "metadata": {},
   "outputs": [
    {
     "name": "stdout",
     "output_type": "stream",
     "text": [
      "Import Parquet Files\n",
      "Done in 22 sec\n"
     ]
    }
   ],
   "source": [
    "print('Import Parquet Files')\n",
    "start = timer()\n",
    "data_dir = Path(os.path.join(path_to_data,source,'processed',country,'n_pings_id_day_hour'))\n",
    "n_pings_id_day_hour = pd.concat(\n",
    "    pd.read_parquet(parquet_file)\n",
    "    for parquet_file in data_dir.glob('*.parquet')\n",
    ")\n",
    "print(\"Done in\", round(timer()-start), \"sec\") "
   ]
  },
  {
   "cell_type": "code",
   "execution_count": 5,
   "metadata": {},
   "outputs": [
    {
     "name": "stdout",
     "output_type": "stream",
     "text": [
      "Import Parquet Files\n",
      "Done in 22 sec\n"
     ]
    }
   ],
   "source": [
    "print('Import Parquet Files')\n",
    "start = timer()\n",
    "data_dir = Path(os.path.join(path_to_data,source,'processed',country,'n_pings_id_personal_day_hour'))\n",
    "n_pings_id_personal_day_hour = pd.concat(\n",
    "    pd.read_parquet(parquet_file)\n",
    "    for parquet_file in data_dir.glob('*.parquet')\n",
    ")\n",
    "print(\"Done in\", round(timer()-start), \"sec\") "
   ]
  },
  {
   "cell_type": "code",
   "execution_count": 6,
   "metadata": {},
   "outputs": [
    {
     "name": "stdout",
     "output_type": "stream",
     "text": [
      "Import Parquet Files\n",
      "Done in 4 sec\n"
     ]
    }
   ],
   "source": [
    "print('Import Parquet Files')\n",
    "start = timer()\n",
    "data_dir = Path(os.path.join(path_to_data,source,'processed',country,'primary_home'))\n",
    "primary_home = pd.concat(\n",
    "    pd.read_parquet(parquet_file)\n",
    "    for parquet_file in data_dir.glob('*.parquet')\n",
    ")\n",
    "print(\"Done in\", round(timer()-start), \"sec\") "
   ]
  },
  {
   "cell_type": "code",
   "execution_count": 7,
   "metadata": {},
   "outputs": [],
   "source": [
    "n_pings_id_personal_day_hour=get_coords(n_pings_id_personal_day_hour)\n",
    "primary_home=get_coords(primary_home)\n",
    "n_pings_id_home_day_hour=n_pings_id_personal_day_hour.rename(columns={'n_pings':'n_home'}).merge(\n",
    "primary_home.drop('perfect_match',1),on=['cuebiq_id','latitude','longitude']).merge(\n",
    "n_pings_id_day_hour,on=['cuebiq_id','dayofweek','hour'])\n",
    "n_pings_home_hour=n_pings_id_home_day_hour.groupby('hour').agg({'n_home':'sum','n_pings':'sum'})\n",
    "n_pings_home_hour['pct_home']=n_pings_home_hour.n_home.divide(n_pings_home_hour.n_pings)"
   ]
  },
  {
   "cell_type": "code",
   "execution_count": 10,
   "metadata": {},
   "outputs": [
    {
     "data": {
      "image/png": "[encoded data removed]",
      "text/plain": [
       "<Figure size 576x432 with 1 Axes>"
      ]
     },
     "metadata": {
      "needs_background": "light"
     },
     "output_type": "display_data"
    }
   ],
   "source": [
    "fig,ax=plt.subplots(figsize=(8,6))\n",
    "n_pings_home_hour.pct_home.plot(ax=ax,kind='bar',color='k',alpha=0.5)\n",
    "ax.tick_params(which='both',direction='in',pad=3)\n",
    "ax.locator_params(axis='y',nbins=5)\n",
    "plt.xticks(rotation=0)\n",
    "ax.set_xlabel('Hour')\n",
    "ax.set_ylabel('Share of activity at home',fontweight='bold')\n",
    "ax.set_xlim([-1,24])\n",
    "plt.savefig(os.path.join(path_to_fig,country,'home-presence-by-hour.pdf'),bbox_inches='tight')"
   ]
  },
  {
   "cell_type": "code",
   "execution_count": 25,
   "metadata": {},
   "outputs": [
    {
     "data": {
      "image/png": "[encoded data removed]",
      "text/plain": [
       "<Figure size 576x432 with 1 Axes>"
      ]
     },
     "metadata": {
      "needs_background": "light"
     },
     "output_type": "display_data"
    }
   ],
   "source": [
    "fig,ax=plt.subplots(figsize=(8,6))\n",
    "(n_pings_id_day_hour.groupby('hour')['n_pings'].sum()/n_pings_id_day_hour.groupby('hour')['n_pings'].sum().sum()).plot(\n",
    "ax=ax,kind='bar',color='k',alpha=0.5)\n",
    "ax.tick_params(which='both',direction='in',pad=3)\n",
    "ax.locator_params(axis='y',nbins=5)\n",
    "plt.xticks(rotation=0)\n",
    "ax.set_xlabel('Hour')\n",
    "ax.set_ylabel('Share of activity',fontweight='bold')\n",
    "ax.set_xlim([-1,24])\n",
    "plt.savefig(os.path.join(path_to_fig,country,'home-presence-by-hour.pdf'),bbox_inches='tight')"
   ]
  }
 ],
 "metadata": {
  "kernelspec": {
   "display_name": "Python 3",
   "language": "python",
   "name": "python3"
  },
  "language_info": {
   "codemirror_mode": {
    "name": "ipython",
    "version": 3
   },
   "file_extension": ".py",
   "mimetype": "text/x-python",
   "name": "python",
   "nbconvert_exporter": "python",
   "pygments_lexer": "ipython3",
   "version": "3.7.4"
  }
 },
 "nbformat": 4,
 "nbformat_minor": 4
}
