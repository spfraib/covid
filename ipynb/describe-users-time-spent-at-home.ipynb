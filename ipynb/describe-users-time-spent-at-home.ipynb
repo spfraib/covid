{
 "cells": [
  {
   "cell_type": "code",
   "execution_count": null,
   "metadata": {},
   "outputs": [],
   "source": [
    "import os\n",
    "from timeit import default_timer as timer\n",
    "import pandas as pd\n",
    "from datetime import datetime, timedelta, date\n",
    "from glob import glob\n",
    "from pathlib import Path\n",
    "import pandas as pd\n",
    "import numpy as np"
   ]
  },
  {
   "cell_type": "code",
   "execution_count": null,
   "metadata": {},
   "outputs": [],
   "source": [
    "path_to_data='/scratch/spf248/covid/data'\n",
    "source='cuebiq'\n",
    "country='ID'\n",
    "admin_id='ADM4_PCODE'\n",
    "day=list(range(8,20))\n",
    "night=list(range(8))+list(range(20,24))\n",
    "inputs_folders=sorted([x.split('/')[-1][:-2] for x in glob(os.path.join(path_to_data,source,'s3',country,'*'))])\n",
    "start_date=pd.to_datetime(inputs_folders[0],format='%Y%m%d').strftime('%m/%d/%Y')\n",
    "end_date=pd.to_datetime(inputs_folders[-1],format='%Y%m%d').strftime('%m/%d/%Y')\n",
    "print('Start:',start_date)\n",
    "print('End:',end_date)"
   ]
  },
  {
   "cell_type": "markdown",
   "metadata": {},
   "source": [
    "# Compute time spent at home"
   ]
  },
  {
   "cell_type": "code",
   "execution_count": null,
   "metadata": {},
   "outputs": [],
   "source": [
    "def get_coords(df):\n",
    "    df['latitude']=df['point'].apply(lambda x:x['latitude'])\n",
    "    df['longitude']=df['point'].apply(lambda x:x['longitude'])\n",
    "    return df.drop('point',1)"
   ]
  },
  {
   "cell_type": "code",
   "execution_count": null,
   "metadata": {},
   "outputs": [],
   "source": [
    "print('Import')\n",
    "start = timer()\n",
    "data_dirs=glob(os.path.join(path_to_data,source,'processed',country,'pings_geocoded','*'))\n",
    "pings_geocoded = pd.concat(\n",
    "    pd.read_parquet(parquet_file)\n",
    "    for data_dir in data_dirs for parquet_file in Path(data_dir).glob('*.parquet')\n",
    ")\n",
    "print(\"Done in\", round(timer()-start), \"sec\")  "
   ]
  },
  {
   "cell_type": "code",
   "execution_count": null,
   "metadata": {},
   "outputs": [],
   "source": [
    "print('Import')\n",
    "start = timer()\n",
    "data_dir = Path(os.path.join(path_to_data,source,'processed',country,'primary_home'))\n",
    "primary_home = pd.concat(\n",
    "    pd.read_parquet(parquet_file)\n",
    "    for parquet_file in data_dir.glob('*.parquet')\n",
    ")\n",
    "print(\"Done in\", round(timer()-start), \"sec\")  "
   ]
  },
  {
   "cell_type": "code",
   "execution_count": null,
   "metadata": {},
   "outputs": [],
   "source": [
    "print('Process')\n",
    "start = timer()\n",
    "primary_home=get_coords(primary_home)\n",
    "pings_geocoded.drop(['accuracy',admin_id],1,inplace=True)\n",
    "pings_geocoded.sort_values(by=['cuebiq_id','time'],inplace=True)\n",
    "pings_geocoded.reset_index(drop=True,inplace=True)\n",
    "pings_geocoded['hour']=pings_geocoded.time.dt.hour\n",
    "print(\"Done in\", round(timer()-start), \"sec\")"
   ]
  },
  {
   "cell_type": "code",
   "execution_count": null,
   "metadata": {},
   "outputs": [],
   "source": [
    "print('Find home pings')\n",
    "start = timer()\n",
    "pings_home=pings_geocoded[pings_geocoded['classification_type']=='PERSONAL_AREA'].merge(\n",
    "primary_home.drop('perfect_match',1),on=['cuebiq_id','latitude','longitude'],right_index=True)\n",
    "pings_geocoded['home']=0\n",
    "pings_geocoded.loc[pings_home.index,'home']=1\n",
    "pings_geocoded.drop(['latitude','longitude','classification_type'],1,inplace=True)\n",
    "print(\"Done in\", round(timer()-start), \"sec\")"
   ]
  },
  {
   "cell_type": "code",
   "execution_count": null,
   "metadata": {},
   "outputs": [],
   "source": [
    "print('Time spent')\n",
    "start = timer()\n",
    "pings_geocoded['end']=pings_geocoded.groupby('cuebiq_id')['time'].shift(-1).rename('end')\n",
    "pings_geocoded.dropna(inplace=True)\n",
    "pings_geocoded['t_pings']=pings_geocoded.end.subtract(pings_geocoded.time).dt.seconds\n",
    "pings_geocoded['t_home']=pings_geocoded.home.multiply(pings_geocoded.t_pings)\n",
    "pings_geocoded.drop('end',1,inplace=True)\n",
    "print(\"Done in\", round(timer()-start), \"sec\")"
   ]
  },
  {
   "cell_type": "code",
   "execution_count": null,
   "metadata": {},
   "outputs": [],
   "source": [
    "print('Aggregate')\n",
    "start = timer()\n",
    "duration_date_id=pings_geocoded.groupby([pd.Grouper(key='time',freq='D'),'cuebiq_id']).agg(n_home=('home','sum'),t_home=('t_home','sum'),n_pings=('t_pings','count'),t_pings=('t_pings','sum'))\n",
    "duration_date_id.reset_index(inplace=True)\n",
    "duration_date_id.rename(columns={'time':'date'},inplace=True)\n",
    "duration_date_id=duration_date_id[(duration_date_id['date']>=pd.to_datetime(start_date))&(duration_date_id['date']<=pd.to_datetime(end_date))].copy()\n",
    "duration_date_id.dropna(inplace=True)\n",
    "duration_date_id.reset_index(drop=True,inplace=True)\n",
    "duration_date_id['pct_n']=duration_date_id['n_home'].divide(duration_date_id['n_pings'])\n",
    "duration_date_id['pct_t']=duration_date_id['t_home'].divide(duration_date_id['t_pings'])\n",
    "print(\"Done in\", round(timer()-start),\"sec\")"
   ]
  },
  {
   "cell_type": "code",
   "execution_count": null,
   "metadata": {},
   "outputs": [],
   "source": [
    "print('Aggregate Daytime')\n",
    "start = timer()\n",
    "duration_daytime_id=pings_geocoded[pings_geocoded['hour'].isin(day)].groupby([pd.Grouper(key='time',freq='D'),'cuebiq_id']).agg(n_home=('home','sum'),t_home=('t_home','sum'),n_pings=('t_pings','count'),t_pings=('t_pings','sum'))\n",
    "duration_daytime_id.reset_index(inplace=True)\n",
    "duration_daytime_id.rename(columns={'time':'date'},inplace=True)\n",
    "duration_daytime_id=duration_daytime_id[(duration_daytime_id['date']>=pd.to_datetime(start_date))&(duration_daytime_id['date']<=pd.to_datetime(end_date))].copy()\n",
    "duration_daytime_id.dropna(inplace=True)\n",
    "duration_daytime_id.reset_index(drop=True,inplace=True)\n",
    "duration_daytime_id['pct_n']=duration_daytime_id['n_home'].divide(duration_daytime_id['n_pings'])\n",
    "duration_daytime_id['pct_t']=duration_daytime_id['t_home'].divide(duration_daytime_id['t_pings'])\n",
    "print(\"Done in\", round(timer()-start), \"sec\")"
   ]
  },
  {
   "cell_type": "code",
   "execution_count": null,
   "metadata": {},
   "outputs": [],
   "source": [
    "print('Aggregate Nighttime')\n",
    "start = timer()\n",
    "duration_nighttime_id=pings_geocoded[pings_geocoded['hour'].isin(night)].groupby([pd.Grouper(key='time',freq='D'),'cuebiq_id']).agg(n_home=('home','sum'),t_home=('t_home','sum'),n_pings=('t_pings','count'),t_pings=('t_pings','sum'))\n",
    "duration_nighttime_id.reset_index(inplace=True)\n",
    "duration_nighttime_id.rename(columns={'time':'date'},inplace=True)\n",
    "duration_nighttime_id=duration_nighttime_id[(duration_nighttime_id['date']>=pd.to_datetime(start_date))&(duration_nighttime_id['date']<=pd.to_datetime(end_date))].copy()\n",
    "duration_nighttime_id.dropna(inplace=True)\n",
    "duration_nighttime_id.reset_index(drop=True,inplace=True)\n",
    "duration_nighttime_id['pct_n']=duration_nighttime_id['n_home'].divide(duration_nighttime_id['n_pings'])\n",
    "duration_nighttime_id['pct_t']=duration_nighttime_id['t_home'].divide(duration_nighttime_id['t_pings'])\n",
    "print(\"Done in\", round(timer()-start), \"sec\")"
   ]
  },
  {
   "cell_type": "code",
   "execution_count": null,
   "metadata": {},
   "outputs": [],
   "source": [
    "print('Save')\n",
    "start = timer()\n",
    "duration_date_id.to_csv(os.path.join(path_to_data,source,'processed',country,'duration_date_id.csv'))\n",
    "duration_daytime_id.to_csv(os.path.join(path_to_data,source,'processed',country,'duration_daytime_id.csv'))\n",
    "duration_nighttime_id.to_csv(os.path.join(path_to_data,source,'processed',country,'duration_nighttime_id.csv'))\n",
    "print(\"Done in\", round(timer()-start), \"sec\")"
   ]
  },
  {
   "cell_type": "markdown",
   "metadata": {},
   "source": [
    "# Figures"
   ]
  }
 ],
 "metadata": {
  "kernelspec": {
   "display_name": "Python 3",
   "language": "python",
   "name": "python3"
  },
  "language_info": {
   "codemirror_mode": {
    "name": "ipython",
    "version": 3
   },
   "file_extension": ".py",
   "mimetype": "text/x-python",
   "name": "python",
   "nbconvert_exporter": "python",
   "pygments_lexer": "ipython3",
   "version": "3.7.4"
  }
 },
 "nbformat": 4,
 "nbformat_minor": 4
}
