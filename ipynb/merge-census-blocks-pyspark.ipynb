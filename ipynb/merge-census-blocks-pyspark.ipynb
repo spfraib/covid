{
 "cells": [
  {
   "cell_type": "markdown",
   "metadata": {},
   "source": [
    "https://datasystemslab.github.io/GeoSpark/tutorial/geospark-sql-python/\n",
    "\n",
    "https://github.com/DataSystemsLab/GeoSpark/tree/master/python\n",
    "\n",
    "https://datasystemslab.github.io/GeoSpark/tutorial/geospark-core-python/\n",
    "\n",
    "https://medium.com/@karijdempsey/efficient-geospatial-analysis-with-spark-363ba50c5248\n"
   ]
  },
  {
   "cell_type": "markdown",
   "metadata": {},
   "source": [
    "spark-submit --master yarn --deploy-mode cluster  --conf spark.yarn.appMasterEnv.SPARK_HOME=/share/apps/spark/spark-2.4.0-bin-hadoop2.6 --conf spark.yarn.submit.waitAppCompletion=false --conf spark.serializer=org.apache.spark.serializer.KryoSerializer --conf spark.speculation=false --conf spark.executorEnv.LANG=en_US.UTF-8 --conf spark.yarn.appMasterEnv.LANG=en_US.UTF-8 --driver-cores 20 --driver-memory 55G --num-executors 40 --executor-cores 15 --executor-memory 55G ./covid/py/merge-census-blocks-pyspark.py"
   ]
  },
  {
   "cell_type": "code",
   "execution_count": 1,
   "metadata": {},
   "outputs": [],
   "source": [
    "import os\n",
    "import pandas as pd\n",
    "\n",
    "from pyspark.sql import SparkSession\n",
    "from pyspark.sql.functions import udf,desc,row_number,col,year,month,dayofmonth,dayofweek,to_timestamp,size,isnan,lit,date_format,from_json,broadcast\n",
    "from pyspark.sql.types import MapType, StringType, IntegerType, StructType, StructField, FloatType, ArrayType, DoubleType\n",
    "\n",
    "from geospark.register import GeoSparkRegistrator\n",
    "from geospark.utils import GeoSparkKryoRegistrator, KryoSerializer\n",
    "from geospark.register import upload_jars\n",
    "from geospark.utils.adapter import Adapter"
   ]
  },
  {
   "cell_type": "code",
   "execution_count": 2,
   "metadata": {},
   "outputs": [
    {
     "data": {
      "text/plain": [
       "True"
      ]
     },
     "execution_count": 2,
     "metadata": {},
     "output_type": "execute_result"
    }
   ],
   "source": [
    "upload_jars()"
   ]
  },
  {
   "cell_type": "code",
   "execution_count": 3,
   "metadata": {},
   "outputs": [
    {
     "name": "stdout",
     "output_type": "stream",
     "text": [
      "Create Spark\n"
     ]
    }
   ],
   "source": [
    "try:\n",
    "    spark\n",
    "except NameError:\n",
    "    print('Create Spark')\n",
    "    spark=SparkSession.builder.appName(\"\").config(\n",
    "    \"spark.serializer\", KryoSerializer.getName).config(\n",
    "    \"spark.kryo.registrator\", GeoSparkKryoRegistrator.getName).getOrCreate()"
   ]
  },
  {
   "cell_type": "code",
   "execution_count": 4,
   "metadata": {},
   "outputs": [
    {
     "data": {
      "text/plain": [
       "True"
      ]
     },
     "execution_count": 4,
     "metadata": {},
     "output_type": "execute_result"
    }
   ],
   "source": [
    "GeoSparkRegistrator.registerAll(spark)"
   ]
  },
  {
   "cell_type": "code",
   "execution_count": 5,
   "metadata": {},
   "outputs": [],
   "source": [
    "source='cuebiq'\n",
    "country='US'\n",
    "start_date='2020-01-01'\n",
    "end_date='2020-03-19'\n",
    "states=['AK', 'AL', 'AR', 'AS', 'AZ', 'CA', 'CO', 'CT', 'DC', 'DE', 'FL', 'GA', 'GU', 'HI', 'IA', 'ID', 'IL', 'IN', 'KS', 'KY', 'LA', 'MA', 'MD', 'ME', 'MI', 'MN', 'MO', 'MS', 'MT', 'NC', 'ND', 'NE', 'NH', 'NJ', 'NM', 'NV', 'NY', 'OH', 'OK', 'OR', 'PA', 'PR', 'RI', 'SC', 'SD', 'TN', 'TX', 'UT', 'VA', 'VI', 'VT', 'WA', 'WI', 'WV', 'WY']\n",
    "\n",
    "if os.getenv('CLUSTER')=='PRINCE':\n",
    "    path_to_data='/scratch/spf248/covid/data'\n",
    "    directories=[x.strftime('%Y%m%d')+'00' for x in pd.date_range(start_date,end_date)][:1]\n",
    "    file='part-00000-0428e20d-9019-4cbf-b5ce-bc9414007fec-c000.csv.gz'\n",
    "    states=['NJ']\n",
    "else:\n",
    "    path_to_data='/user/spf248/covid/data'\n",
    "    directories=[x.strftime('%Y%m%d')+'00' for x in pd.date_range(start_date,end_date)]\n",
    "    file='*'"
   ]
  },
  {
   "cell_type": "code",
   "execution_count": 6,
   "metadata": {},
   "outputs": [],
   "source": [
    "schema= StructType([\n",
    "StructField(\"_c0\", FloatType(), False),\n",
    "StructField(\"_c1\", StringType(), False),\n",
    "StructField(\"_c2\", FloatType(), False),\n",
    "StructField(\"_c3\", FloatType(), False),\n",
    "StructField(\"_c4\", FloatType(), False),\n",
    "StructField(\"_c5\", FloatType(), False),\n",
    "StructField(\"_c6\", FloatType(), False),\n",
    "StructField(\"_c7\", StringType(), False),\n",
    "StructField(\"_c8\", StringType(), False),])"
   ]
  },
  {
   "cell_type": "code",
   "execution_count": 7,
   "metadata": {},
   "outputs": [],
   "source": [
    "def load_pings(directory):\n",
    "    \n",
    "    pings=spark.read.option(\n",
    "    'compression', 'gzip').option(\n",
    "    'header','false').option(\n",
    "    \"multiLine\", \"true\").option(\n",
    "    'escape','\"').option(\n",
    "    \"encoding\", \"UTF-8\").option(\n",
    "    \"delimiter\", \"\\t\").schema(schema).csv(\n",
    "    os.path.join(\n",
    "    path_to_data,\n",
    "    source,\n",
    "    country,\n",
    "    directory,\n",
    "    file))\n",
    "    \n",
    "    column_names=[\n",
    "    'timestamp',\n",
    "    'cuebiq_id',\n",
    "    'device_type',\n",
    "    'latitude',\n",
    "    'longitude',\n",
    "    'accuracy',\n",
    "    'time_zone_offset',\n",
    "    'classification_type',\n",
    "    'transformation_type']\n",
    "    pings=pings.toDF(*column_names)\n",
    "    pings=pings.withColumn(\"time\",to_timestamp(pings[\"timestamp\"]+pings[\"time_zone_offset\"]))\n",
    "    pings.createOrReplaceTempView(\"pings\")\n",
    "\n",
    "    pings=spark.sql(\"\"\"select time\n",
    "    , cuebiq_id\n",
    "    , latitude\n",
    "    , longitude\n",
    "    , accuracy\n",
    "    , classification_type\n",
    "    , ST_Point(cast(pings.longitude as Decimal(24,20))\n",
    "    , cast(pings.latitude as Decimal(24,20))) as point\n",
    "    from pings\n",
    "    \"\"\")\n",
    "    pings.createOrReplaceTempView(\"pings\")\n",
    "    \n",
    "    return pings"
   ]
  },
  {
   "cell_type": "code",
   "execution_count": 8,
   "metadata": {},
   "outputs": [],
   "source": [
    "def load_admin(state):\n",
    "    \n",
    "    admin=spark.read.option(\n",
    "    \"header\", \"true\").csv(\n",
    "    os.path.join(\n",
    "    path_to_data,\n",
    "    'shapefiles',\n",
    "    country,\n",
    "    'polygons',\n",
    "    state+'.csv'))\n",
    "    admin.createOrReplaceTempView(\"admin\")\n",
    "\n",
    "    admin=spark.sql(\"\"\"select admin.GEOID10 as GEOID10\n",
    "    , ST_GeomFromText(admin.geometry) as polygon\n",
    "    from admin\n",
    "    \"\"\")\n",
    "    \n",
    "    admin.createOrReplaceTempView(\"admin\")\n",
    "    \n",
    "    return admin"
   ]
  },
  {
   "cell_type": "code",
   "execution_count": 9,
   "metadata": {},
   "outputs": [],
   "source": [
    "for directory in directories:\n",
    "    \n",
    "    pings=load_pings(directory)\n",
    "    \n",
    "    for state in states:\n",
    "        \n",
    "        admin=load_admin(state)\n",
    "        admin.cache()\n",
    "        \n",
    "#         admin_broadcast=broadcast(admin)\n",
    "        \n",
    "#         admin_rdd = Adapter.toSpatialRdd(admin)\n",
    "\n",
    "        pings_geocoded=spark.sql(\n",
    "        \"\"\"\n",
    "            SELECT p.time\n",
    "            , p.cuebiq_id\n",
    "            , p.latitude\n",
    "            , p.longitude\n",
    "            , p.accuracy\n",
    "            , p.classification_type\n",
    "            , s.GEOID10\n",
    "            FROM pings AS p, admin AS s\n",
    "            WHERE ST_Intersects(p.point, s.polygon)\n",
    "        \"\"\"\n",
    "        )\n",
    "\n",
    "        pings_geocoded.write.mode(\"overwrite\").parquet(\n",
    "        os.path.join(path_to_data,source,country,'geocoded',state,directory))"
   ]
  },
  {
   "cell_type": "code",
   "execution_count": 10,
   "metadata": {
    "scrolled": true
   },
   "outputs": [
    {
     "name": "stdout",
     "output_type": "stream",
     "text": [
      "+--------------------+--------------------+--------+---------+--------+-------------------+---------------+\n",
      "|                time|           cuebiq_id|latitude|longitude|accuracy|classification_type|        GEOID10|\n",
      "+--------------------+--------------------+--------+---------+--------+-------------------+---------------+\n",
      "|2020-01-01 11:01:...|222a36f677448d751...|40.86519|-74.13686|    15.0|      PERSONAL_AREA|340311755003010|\n",
      "|2020-01-01 11:21:...|222a36f677448d751...|40.86519|-74.13686|     8.0|      PERSONAL_AREA|340311755003010|\n",
      "|2020-01-01 11:21:...|222a36f677448d751...|40.86519|-74.13686|     8.0|      PERSONAL_AREA|340311755003010|\n",
      "|2020-01-01 07:24:...|222a36f677448d751...|40.86519|-74.13686|     5.0|      PERSONAL_AREA|340311755003010|\n",
      "|2020-01-01 07:22:...|222a36f677448d751...|40.86519|-74.13686|    15.0|      PERSONAL_AREA|340311755003010|\n",
      "|2020-01-01 10:32:...|222a36f677448d751...|40.86519|-74.13686|    15.0|      PERSONAL_AREA|340311755003010|\n",
      "|2020-01-01 08:11:...|222a36f677448d751...|40.86519|-74.13686|    15.0|      PERSONAL_AREA|340311755003010|\n",
      "|2020-01-01 07:24:...|222a36f677448d751...|40.86519|-74.13686|    15.0|      PERSONAL_AREA|340311755003010|\n",
      "|2020-01-01 08:40:...|222a36f677448d751...|40.86519|-74.13686|    15.0|      PERSONAL_AREA|340311755003010|\n",
      "|2020-01-01 07:48:...|222a36f677448d751...|40.86519|-74.13686|     8.0|      PERSONAL_AREA|340311755003010|\n",
      "|2020-01-01 09:18:...|222a36f677448d751...|40.86519|-74.13686|    14.0|      PERSONAL_AREA|340311755003010|\n",
      "|2020-01-01 11:10:...|222a36f677448d751...|40.86519|-74.13686|    13.0|      PERSONAL_AREA|340311755003010|\n",
      "|2020-01-01 09:31:...|222a36f677448d751...|40.86519|-74.13686|    14.0|      PERSONAL_AREA|340311755003010|\n",
      "|2020-01-01 08:51:...|222a36f677448d751...|40.86519|-74.13686|     7.0|      PERSONAL_AREA|340311755003010|\n",
      "|2020-01-01 07:24:...|222a36f677448d751...|40.86519|-74.13686|    15.0|      PERSONAL_AREA|340311755003010|\n",
      "|2020-01-01 07:24:...|222a36f677448d751...|40.86519|-74.13686|    15.0|      PERSONAL_AREA|340311755003010|\n",
      "|2020-01-01 11:41:...|222a36f677448d751...|40.86519|-74.13686|    15.0|      PERSONAL_AREA|340311755003010|\n",
      "|2020-01-01 11:50:...|222a36f677448d751...|40.86519|-74.13686|    15.0|      PERSONAL_AREA|340311755003010|\n",
      "|2020-01-01 08:31:...|222a36f677448d751...|40.86519|-74.13686|    15.0|      PERSONAL_AREA|340311755003010|\n",
      "|2020-01-01 09:49:...|222a36f677448d751...|40.86519|-74.13686|     7.0|      PERSONAL_AREA|340311755003010|\n",
      "+--------------------+--------------------+--------+---------+--------+-------------------+---------------+\n",
      "only showing top 20 rows\n",
      "\n"
     ]
    }
   ],
   "source": [
    "pings_geocoded.show()"
   ]
  }
 ],
 "metadata": {
  "kernelspec": {
   "display_name": "Python 3",
   "language": "python",
   "name": "python3"
  },
  "language_info": {
   "codemirror_mode": {
    "name": "ipython",
    "version": 3
   },
   "file_extension": ".py",
   "mimetype": "text/x-python",
   "name": "python",
   "nbconvert_exporter": "python",
   "pygments_lexer": "ipython3",
   "version": "3.7.4"
  }
 },
 "nbformat": 4,
 "nbformat_minor": 2
}
