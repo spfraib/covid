{
 "cells": [
  {
   "cell_type": "code",
   "execution_count": 28,
   "metadata": {},
   "outputs": [],
   "source": [
    "import os\n",
    "import matplotlib as mpl\n",
    "if os.environ.get('DISPLAY','') == '':\n",
    "    mpl.use('Agg')\n",
    "\n",
    "import matplotlib.pyplot as plt\n",
    "import seaborn as sns\n",
    "from glob import glob\n",
    "import pandas as pd\n",
    "from timeit import default_timer as timer\n",
    "\n",
    "from pyspark.sql import SparkSession\n",
    "from pyspark.sql.functions import udf,desc,row_number,col,year,month,dayofmonth,hour,dayofweek,to_timestamp,size,isnan,lit,date_format,to_timestamp,struct,expr,explode,collect_list\n",
    "from pyspark.sql.types import MapType, StringType, IntegerType, StructType, StructField, FloatType, ArrayType, DoubleType\n",
    "import pyspark.sql.functions as F\n",
    "from pyspark.sql import Window"
   ]
  },
  {
   "cell_type": "code",
   "execution_count": 2,
   "metadata": {},
   "outputs": [
    {
     "name": "stdout",
     "output_type": "stream",
     "text": [
      "Create Spark\n"
     ]
    }
   ],
   "source": [
    "try:\n",
    "    spark\n",
    "except NameError:\n",
    "    print('Create Spark')\n",
    "    spark=SparkSession.builder.appName(\"\").getOrCreate()"
   ]
  },
  {
   "cell_type": "code",
   "execution_count": 42,
   "metadata": {},
   "outputs": [],
   "source": [
    "source='cuebiq'\n",
    "country='US'\n",
    "cutoff_morning=8\n",
    "cutoff_night=20\n",
    "\n",
    "if os.getenv('CLUSTER')=='PRINCE':\n",
    "    path_to_data='/scratch/spf248/covid/data'\n",
    "    file_week='*00-099fe598-7adb-4411-b68c-a60d0c28cb7a-c000.snappy.parquet'\n",
    "    file_weekend='*00-54e95071-216b-4a7a-89f3-de881c0bf379-c000.snappy.parquet'\n",
    "    file_users='*0-ca003b73-1dea-4468-acde-e43360e39ed4-c000.snappy.parquet'\n",
    "else:\n",
    "    path_to_data='/user/spf248/covid/data'\n",
    "    file_week='*'\n",
    "    file_weekend='*'\n",
    "    file_users='*'"
   ]
  },
  {
   "cell_type": "markdown",
   "metadata": {},
   "source": [
    "# Distributions of Personal Hours"
   ]
  },
  {
   "cell_type": "code",
   "execution_count": 5,
   "metadata": {},
   "outputs": [
    {
     "data": {
      "text/plain": [
       "DataFrame[cuebiq_id: string, n_days: bigint, device_type: float, n_pings: bigint]"
      ]
     },
     "execution_count": 5,
     "metadata": {},
     "output_type": "execute_result"
    }
   ],
   "source": [
    "users=spark.read.parquet(os.path.join(path_to_data,source,country,'users',file_users))\n",
    "users.cache()"
   ]
  },
  {
   "cell_type": "code",
   "execution_count": 6,
   "metadata": {},
   "outputs": [
    {
     "data": {
      "text/plain": [
       "DataFrame[cuebiq_id: string, point: struct<longitude:float,latitude:float>, hour: int, count: bigint]"
      ]
     },
     "execution_count": 6,
     "metadata": {},
     "output_type": "execute_result"
    }
   ],
   "source": [
    "personal_week=spark.read.parquet(os.path.join(path_to_data,source,country,'personal_week',file_week))\n",
    "personal_week.cache()\n",
    "personal_weekend=spark.read.parquet(os.path.join(path_to_data,source,country,'personal_weekend',file_weekend))\n",
    "personal_weekend.cache()"
   ]
  },
  {
   "cell_type": "code",
   "execution_count": 9,
   "metadata": {},
   "outputs": [],
   "source": [
    "personal_counts=(personal_week.unionByName(personal_weekend)).groupby(\n",
    "'cuebiq_id','point').agg({'count':'sum'}).withColumnRenamed('sum(count)','count')\n",
    "\n",
    "users=users.join(personal_counts.groupby('cuebiq_id').count().withColumnRenamed(\n",
    "'count','n_personal'),on='cuebiq_id')"
   ]
  },
  {
   "cell_type": "code",
   "execution_count": 52,
   "metadata": {},
   "outputs": [],
   "source": [
    "window = Window.partitionBy(\"cuebiq_id\")\n",
    "\n",
    "personal_home=personal_week.filter(\n",
    "(personal_week['hour']<=cutoff_morning)|(personal_week['hour']>=cutoff_night)).groupby(\n",
    "'cuebiq_id','point').agg({'count':'sum'}).withColumnRenamed('sum(count)','count').withColumn(\n",
    "'max_count', F.max('count').over(window)).select('cuebiq_id','point')\n",
    "\n",
    "personal_others=personal_counts.join(personal_home, on=['cuebiq_id','point'], how='left_anti')"
   ]
  },
  {
   "cell_type": "code",
   "execution_count": 64,
   "metadata": {},
   "outputs": [
    {
     "name": "stdout",
     "output_type": "stream",
     "text": [
      "+--------------------+--------------------+-----+\n",
      "|           cuebiq_id|               point|count|\n",
      "+--------------------+--------------------+-----+\n",
      "|0013e58eddce6e000...|[-71.408295, 42.5...|    2|\n",
      "|001b9e8dba94897bc...|[-121.24312, 37.7...|  565|\n",
      "|001da3968dd884d3e...|[-90.66987, 42.71...|    1|\n",
      "|0023f8ad4466c55da...|[-75.24996, 39.73...|  295|\n",
      "|002b6489da17cb3ad...|[-98.39718, 29.38...|    1|\n",
      "|002f30e939deb6193...|[-115.07455, 36.1...|    5|\n",
      "|003256136e933886d...|[-98.48584, 29.58...|   13|\n",
      "|00348fbf9cef92d8c...|[-77.4644, 37.45237]|   12|\n",
      "|00379da09103a77fc...|[-81.243546, 34.1...|  391|\n",
      "|004139e03dd5342aa...|[-102.145386, 31....|  345|\n",
      "|0041c28ed5c01b65c...|[-83.67403, 34.02...|  139|\n",
      "|0044e720c222c49db...|[-86.86765, 34.22...|  161|\n",
      "|0045a6949e0402970...|[-118.007416, 34....|  429|\n",
      "|0045c75fcb9552d5b...|[-84.874054, 32.5...|  148|\n",
      "|0049734b96a4e77eb...|[-82.1938, 34.23725]|  107|\n",
      "|004bc78f9d027894a...|[-87.65749, 41.83...|    2|\n",
      "|00651a98bd8e60254...|[-83.96301, 39.66...|   13|\n",
      "|00696148ffcf55d61...|[-112.244995, 40....|  148|\n",
      "|006b2d778cc6ae540...|[-74.62868, 40.53...|   56|\n",
      "|007069193241b2248...|[-84.32154, 39.88...|   13|\n",
      "+--------------------+--------------------+-----+\n",
      "only showing top 20 rows\n",
      "\n"
     ]
    }
   ],
   "source": [
    "personal_others.show()"
   ]
  },
  {
   "cell_type": "code",
   "execution_count": null,
   "metadata": {},
   "outputs": [],
   "source": [
    "hours_week={}\n",
    "hours_weekend={}\n",
    "\n",
    "for personal_value in range(1,4):\n",
    "    \n",
    "    print('Personal Value:', personal_value)\n",
    "    \n",
    "    for device_type in [0,1]:\n",
    "    \n",
    "        hours_week[(personal_value,device_type)]=personal_week.join(users.filter(\n",
    "        users['n_personal']==personal_value).filter(\n",
    "        users['device_type']==device_type),on='cuebiq_id').groupby(\n",
    "        'hour').agg({'count':'sum'}).withColumnRenamed('sum(count)','count').write.mode(\"overwrite\").parquet(\n",
    "        os.path.join(path_to_data,source,country,'personal_hours','week',str(personal_value),str(device_type)))\n",
    "\n",
    "        hours_weekend[(personal_value,device_type)]=personal_weekend.join(\n",
    "        users.filter(users['n_personal']==personal_value).filter(\n",
    "        users['device_type']==device_type),on='cuebiq_id').groupby(\n",
    "        'hour').agg({'count':'sum'}).withColumnRenamed('sum(count)','count').write.mode(\"overwrite\").parquet(\n",
    "        os.path.join(path_to_data,source,country,'personal_hours','weekend',str(personal_value),str(device_type)))"
   ]
  },
  {
   "cell_type": "markdown",
   "metadata": {},
   "source": [
    "# Load and Plots"
   ]
  },
  {
   "cell_type": "code",
   "execution_count": 28,
   "metadata": {},
   "outputs": [
    {
     "name": "stdout",
     "output_type": "stream",
     "text": [
      "Personal Value: 1\n",
      "Personal Value: 2\n",
      "Personal Value: 3\n"
     ]
    }
   ],
   "source": [
    "hours_week={}\n",
    "hours_weekend={}\n",
    "\n",
    "for personal_value in range(1,4):\n",
    "    \n",
    "    print('Personal Value:', personal_value)\n",
    "    \n",
    "    for device_type in [0,1]:\n",
    "    \n",
    "        hours_week[(personal_value,device_type)]=spark.read.parquet(\n",
    "        os.path.join(path_to_data,source,country,'personal_hours','week',str(personal_value),str(device_type))).toPandas()\n",
    "\n",
    "        hours_weekend[(personal_value,device_type)]=spark.read.parquet(\n",
    "        os.path.join(path_to_data,source,country,'personal_hours','weekend',str(personal_value),str(device_type))).toPandas()"
   ]
  },
  {
   "cell_type": "code",
   "execution_count": 29,
   "metadata": {},
   "outputs": [
    {
     "name": "stdout",
     "output_type": "stream",
     "text": [
      "Personal Value: 1\n",
      "Personal Value: 2\n"
     ]
    },
    {
     "name": "stderr",
     "output_type": "stream",
     "text": [
      "/scratch/spf248/pyenv/py3.7/lib/python3.7/site-packages/ipykernel_launcher.py:15: RuntimeWarning: More than 20 figures have been opened. Figures created through the pyplot interface (`matplotlib.pyplot.figure`) are retained until explicitly closed and may consume too much memory. (To control this warning, see the rcParam `figure.max_open_warning`).\n",
      "  from ipykernel import kernelapp as app\n"
     ]
    },
    {
     "name": "stdout",
     "output_type": "stream",
     "text": [
      "Personal Value: 3\n"
     ]
    },
    {
     "name": "stderr",
     "output_type": "stream",
     "text": [
      "/scratch/spf248/pyenv/py3.7/lib/python3.7/site-packages/ipykernel_launcher.py:7: RuntimeWarning: More than 20 figures have been opened. Figures created through the pyplot interface (`matplotlib.pyplot.figure`) are retained until explicitly closed and may consume too much memory. (To control this warning, see the rcParam `figure.max_open_warning`).\n",
      "  import sys\n",
      "/scratch/spf248/pyenv/py3.7/lib/python3.7/site-packages/ipykernel_launcher.py:15: RuntimeWarning: More than 20 figures have been opened. Figures created through the pyplot interface (`matplotlib.pyplot.figure`) are retained until explicitly closed and may consume too much memory. (To control this warning, see the rcParam `figure.max_open_warning`).\n",
      "  from ipykernel import kernelapp as app\n",
      "/scratch/spf248/pyenv/py3.7/lib/python3.7/site-packages/ipykernel_launcher.py:7: RuntimeWarning: More than 20 figures have been opened. Figures created through the pyplot interface (`matplotlib.pyplot.figure`) are retained until explicitly closed and may consume too much memory. (To control this warning, see the rcParam `figure.max_open_warning`).\n",
      "  import sys\n",
      "/scratch/spf248/pyenv/py3.7/lib/python3.7/site-packages/ipykernel_launcher.py:15: RuntimeWarning: More than 20 figures have been opened. Figures created through the pyplot interface (`matplotlib.pyplot.figure`) are retained until explicitly closed and may consume too much memory. (To control this warning, see the rcParam `figure.max_open_warning`).\n",
      "  from ipykernel import kernelapp as app\n"
     ]
    }
   ],
   "source": [
    "for personal_value in range(1,4):\n",
    "    \n",
    "    print('Personal Value:', personal_value)\n",
    "    \n",
    "    for device_type in [0,1]:\n",
    "    \n",
    "        fig,ax=plt.subplots(figsize=(8,5))\n",
    "        hours_week[(personal_value,device_type)].set_index('hour')['count'].sort_index().plot(ax=ax,kind='bar',color='k')\n",
    "        ax.tick_params(which='both',direction='in',pad=3)\n",
    "        plt.xticks(rotation=0)\n",
    "        ax.set_xlabel('Hour at Personal Location')\n",
    "        ax.set_ylabel('Number of Pings')\n",
    "        plt.savefig(os.path.join(path_to_data+'/../fig','hours-week-'+str(personal_value)+'-device-'+str(device_type)+'.pdf'),bbox_inches='tight')\n",
    "\n",
    "        fig,ax=plt.subplots(figsize=(8,5))\n",
    "        hours_weekend[(personal_value,device_type)].set_index('hour')['count'].sort_index().plot(ax=ax,kind='bar',color='k')\n",
    "        ax.tick_params(which='both',direction='in',pad=3)\n",
    "        plt.xticks(rotation=0)\n",
    "        ax.set_xlabel('Hour at Personal Location')\n",
    "        ax.set_ylabel('Number of Pings')\n",
    "        plt.savefig(os.path.join(path_to_data+'/../fig','hours-weekend-'+str(personal_value)+'-device-'+str(device_type)+'.pdf'),bbox_inches='tight')"
   ]
  }
 ],
 "metadata": {
  "kernelspec": {
   "display_name": "Python 3",
   "language": "python",
   "name": "python3"
  },
  "language_info": {
   "codemirror_mode": {
    "name": "ipython",
    "version": 3
   },
   "file_extension": ".py",
   "mimetype": "text/x-python",
   "name": "python",
   "nbconvert_exporter": "python",
   "pygments_lexer": "ipython3",
   "version": "3.7.4"
  }
 },
 "nbformat": 4,
 "nbformat_minor": 4
}
