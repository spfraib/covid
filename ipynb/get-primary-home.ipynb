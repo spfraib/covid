{
 "cells": [
  {
   "cell_type": "code",
   "source": [
    "dbutils.library.installPyPI(\"pygeohash\")\n",
    "dbutils.library.restartPython()"
   ],
   "metadata": {},
   "outputs": [
    {
     "metadata": {},
     "output_type": "display_data",
     "data": {
      "text/html": [
       "<style scoped>\n  .ansiout {\n    display: block;\n    unicode-bidi: embed;\n    white-space: pre-wrap;\n    word-wrap: break-word;\n    word-break: break-all;\n    font-family: \"Source Code Pro\", \"Menlo\", monospace;;\n    font-size: 13px;\n    color: #555;\n    margin-left: 4px;\n    line-height: 19px;\n  }\n</style>\n<div class=\"ansiout\"></div>"
      ]
     }
    }
   ],
   "execution_count": 1
  },
  {
   "cell_type": "code",
   "source": [
    "import os\n",
    "from collections import Counter\n",
    "from timeit import default_timer as timer\n",
    "\n",
    "import numpy as np\n",
    "import pygeohash as pgh\n",
    "import pyspark.sql.functions as F\n",
    "from pyspark.sql.functions import udf, col, array\n",
    "from pyspark.sql.types import StringType, IntegerType, StructType, StructField, FloatType"
   ],
   "metadata": {},
   "outputs": [
    {
     "metadata": {},
     "output_type": "display_data",
     "data": {
      "text/html": [
       "<style scoped>\n  .ansiout {\n    display: block;\n    unicode-bidi: embed;\n    white-space: pre-wrap;\n    word-wrap: break-word;\n    word-break: break-all;\n    font-family: \"Source Code Pro\", \"Menlo\", monospace;;\n    font-size: 13px;\n    color: #555;\n    margin-left: 4px;\n    line-height: 19px;\n  }\n</style>\n<div class=\"ansiout\"></div>"
      ]
     }
    }
   ],
   "execution_count": 2
  },
  {
   "cell_type": "code",
   "source": [
    "source='cuebiq'\n",
    "country='ID'\n",
    "geohash_precision=15 # Max precision for MX is 10 \n",
    "day_cutoffs=[5,7]\n",
    "morning_cutoffs=[7,9]\n",
    "night_cutoffs=[21,23]\n",
    "\n",
    "results_path = \"/results/\""
   ],
   "metadata": {},
   "outputs": [
    {
     "metadata": {},
     "output_type": "display_data",
     "data": {
      "text/html": [
       "<style scoped>\n  .ansiout {\n    display: block;\n    unicode-bidi: embed;\n    white-space: pre-wrap;\n    word-wrap: break-word;\n    word-break: break-all;\n    font-family: \"Source Code Pro\", \"Menlo\", monospace;;\n    font-size: 13px;\n    color: #555;\n    margin-left: 4px;\n    line-height: 19px;\n  }\n</style>\n<div class=\"ansiout\"></div>"
      ]
     }
    }
   ],
   "execution_count": 3
  },
  {
   "cell_type": "markdown",
   "source": [
    "# Import Processed Data"
   ],
   "metadata": {}
  },
  {
   "cell_type": "code",
   "source": [
    "device_id=spark.read.parquet(os.path.join(results_path,source,'processed',country,'device_id'))\n",
    "device_id.cache()\n",
    "print('# Users:', device_id.count()) "
   ],
   "metadata": {},
   "outputs": [
    {
     "metadata": {},
     "output_type": "display_data",
     "data": {
      "text/html": [
       "<style scoped>\n  .ansiout {\n    display: block;\n    unicode-bidi: embed;\n    white-space: pre-wrap;\n    word-wrap: break-word;\n    word-break: break-all;\n    font-family: \"Source Code Pro\", \"Menlo\", monospace;;\n    font-size: 13px;\n    color: #555;\n    margin-left: 4px;\n    line-height: 19px;\n  }\n</style>\n<div class=\"ansiout\"># Users: 277344\n</div>"
      ]
     }
    }
   ],
   "execution_count": 5
  },
  {
   "cell_type": "code",
   "source": [
    "n_pings_id_personal_day_hour=spark.read.parquet(os.path.join(results_path,source,'processed',country,'n_pings_id_personal_day_hour'))\n",
    "n_pings_id_personal_day_hour.cache()\n",
    "total_pings=n_pings_id_personal_day_hour.select(F.sum(\"n_pings\")).collect()[0][0]\n",
    "print('# Pings at personal Locations:', total_pings)"
   ],
   "metadata": {},
   "outputs": [
    {
     "metadata": {},
     "output_type": "display_data",
     "data": {
      "text/html": [
       "<style scoped>\n  .ansiout {\n    display: block;\n    unicode-bidi: embed;\n    white-space: pre-wrap;\n    word-wrap: break-word;\n    word-break: break-all;\n    font-family: \"Source Code Pro\", \"Menlo\", monospace;;\n    font-size: 13px;\n    color: #555;\n    margin-left: 4px;\n    line-height: 19px;\n  }\n</style>\n<div class=\"ansiout\"># Pings at personal Locations: 49192751\n</div>"
      ]
     }
    }
   ],
   "execution_count": 6
  },
  {
   "cell_type": "markdown",
   "source": [
    "# Compute Primary Home Specifications"
   ],
   "metadata": {}
  },
  {
   "cell_type": "code",
   "source": [
    "point2geohash=udf(lambda x,y: pgh.encode(x,y,precision=geohash_precision))\n",
    "def geohash2point(geohash):\n",
    "    (x,y)=pgh.decode(geohash)\n",
    "    return (y,x)\n",
    "schema=StructType([StructField(\"longitude\", FloatType(), False),StructField(\"latitude\", FloatType(), False)])\n",
    "geohash2point_udf=udf(geohash2point, schema)"
   ],
   "metadata": {},
   "outputs": [
    {
     "metadata": {},
     "output_type": "display_data",
     "data": {
      "text/html": [
       "<style scoped>\n  .ansiout {\n    display: block;\n    unicode-bidi: embed;\n    white-space: pre-wrap;\n    word-wrap: break-word;\n    word-break: break-all;\n    font-family: \"Source Code Pro\", \"Menlo\", monospace;;\n    font-size: 13px;\n    color: #555;\n    margin-left: 4px;\n    line-height: 19px;\n  }\n</style>\n<div class=\"ansiout\"></div>"
      ]
     }
    }
   ],
   "execution_count": 8
  },
  {
   "cell_type": "code",
   "source": [
    "primary_home=device_id.select('cuebiq_id')\n",
    "for day_cutoff in day_cutoffs:\n",
    "    print()\n",
    "    print('Cutoff day:',day_cutoff)\n",
    "    for morning_cutoff in morning_cutoffs:\n",
    "        print('Cutoff morning:',morning_cutoff)\n",
    "        for night_cutoff in night_cutoffs:\n",
    "            print('Cutoff night:',night_cutoff)\n",
    "            # Count Pings at Night For Each Personal Area\n",
    "            n_pings_id_personal_filtered=n_pings_id_personal_day_hour.filter(\n",
    "            n_pings_id_personal_day_hour['dayofweek']<=day_cutoff).filter(\n",
    "            (n_pings_id_personal_day_hour['hour']>=night_cutoff)|\\\n",
    "            (n_pings_id_personal_day_hour['hour']<=morning_cutoff)).groupby('cuebiq_id','point').agg(\n",
    "            {'n_pings':'sum'}).withColumnRenamed('sum(n_pings)','n_pings')\n",
    "            # Find Max Ping Count\n",
    "            n_pings_id_max=n_pings_id_personal_filtered.groupby('cuebiq_id').agg(\n",
    "            {'n_pings':'max'}).withColumnRenamed('max(n_pings)','n_pings')\n",
    "            # Find Personal Area With Max Ping Count\n",
    "            n_pings_id_personal_filtered_max=n_pings_id_personal_filtered.join(\n",
    "            n_pings_id_max,on=['cuebiq_id','n_pings']).drop_duplicates(\n",
    "            subset=['cuebiq_id','n_pings']).drop('n_pings')\n",
    "            # Include As Home Candidate\n",
    "            primary_home=primary_home.join(n_pings_id_personal_filtered_max,on=['cuebiq_id'])\n",
    "            # Convert to Geohash\n",
    "            primary_home=primary_home.withColumn('geohash',point2geohash(col('point.latitude'),col('point.longitude')))\n",
    "            # Rename\n",
    "            primary_home=primary_home.withColumnRenamed(\n",
    "            'point','point_'+str(day_cutoff)+'_'+str(morning_cutoff)+'_'+str(night_cutoff)).withColumnRenamed(\n",
    "            'geohash','geohash_'+str(day_cutoff)+'_'+str(morning_cutoff)+'_'+str(night_cutoff))"
   ],
   "metadata": {},
   "outputs": [
    {
     "metadata": {},
     "output_type": "display_data",
     "data": {
      "text/html": [
       "<style scoped>\n  .ansiout {\n    display: block;\n    unicode-bidi: embed;\n    white-space: pre-wrap;\n    word-wrap: break-word;\n    word-break: break-all;\n    font-family: \"Source Code Pro\", \"Menlo\", monospace;;\n    font-size: 13px;\n    color: #555;\n    margin-left: 4px;\n    line-height: 19px;\n  }\n</style>\n<div class=\"ansiout\">\nCutoff day: 5\nCutoff morning: 7\nCutoff night: 21\nCutoff night: 23\nCutoff morning: 9\nCutoff night: 21\nCutoff night: 23\n\nCutoff day: 7\nCutoff morning: 7\nCutoff night: 21\nCutoff night: 23\nCutoff morning: 9\nCutoff night: 21\nCutoff night: 23\n</div>"
      ]
     }
    }
   ],
   "execution_count": 9
  },
  {
   "cell_type": "markdown",
   "source": [
    "# Infer Primary Home"
   ],
   "metadata": {}
  },
  {
   "cell_type": "code",
   "source": [
    "# Home = personal area with the most pings across specifications of morning/night/week\n",
    "mode=udf(lambda arr: Counter(arr).most_common(1)[0][0], StringType())\n",
    "primary_home=primary_home.withColumn(\n",
    "'geohash', mode(array([x for x in primary_home.columns if 'geohash' in x])))\n",
    "\n",
    "# Create index if home is identical across specifications\n",
    "is_unique=udf(lambda arr: np.int(len(np.unique(arr))==1), IntegerType())\n",
    "primary_home=primary_home.withColumn(\n",
    "'perfect_match', is_unique(array([x for x in primary_home.columns if 'geohash' in x])))\n",
    "\n",
    "# Map baseline home back to coordinates\n",
    "primary_home=primary_home.withColumn('point',geohash2point_udf('geohash'))"
   ],
   "metadata": {},
   "outputs": [
    {
     "metadata": {},
     "output_type": "display_data",
     "data": {
      "text/html": [
       "<style scoped>\n  .ansiout {\n    display: block;\n    unicode-bidi: embed;\n    white-space: pre-wrap;\n    word-wrap: break-word;\n    word-break: break-all;\n    font-family: \"Source Code Pro\", \"Menlo\", monospace;;\n    font-size: 13px;\n    color: #555;\n    margin-left: 4px;\n    line-height: 19px;\n  }\n</style>\n<div class=\"ansiout\"></div>"
      ]
     }
    }
   ],
   "execution_count": 11
  },
  {
   "cell_type": "markdown",
   "source": [
    "# Save"
   ],
   "metadata": {}
  },
  {
   "cell_type": "code",
   "source": [
    "print('Save')\n",
    "start = timer()\n",
    "primary_home.select('cuebiq_id','point','perfect_match').write.mode(\"overwrite\").parquet(\n",
    "os.path.join(results_path,source,'processed',country,'primary_home'))\n",
    "print(\"Done in\", round(timer()-start), \"sec\")        "
   ],
   "metadata": {},
   "outputs": [
    {
     "metadata": {},
     "output_type": "display_data",
     "data": {
      "text/html": [
       "<style scoped>\n  .ansiout {\n    display: block;\n    unicode-bidi: embed;\n    white-space: pre-wrap;\n    word-wrap: break-word;\n    word-break: break-all;\n    font-family: \"Source Code Pro\", \"Menlo\", monospace;;\n    font-size: 13px;\n    color: #555;\n    margin-left: 4px;\n    line-height: 19px;\n  }\n</style>\n<div class=\"ansiout\">Save\nDone in 29 sec\n</div>"
      ]
     }
    }
   ],
   "execution_count": 13
  }
 ],
 "metadata": {
  "kernelspec": {
   "display_name": "Python 3",
   "language": "python",
   "name": "python3"
  },
  "language_info": {
   "mimetype": "text/x-python",
   "name": "python",
   "pygments_lexer": "ipython3",
   "codemirror_mode": {
    "name": "ipython",
    "version": 3
   },
   "version": "3.7.4",
   "nbconvert_exporter": "python",
   "file_extension": ".py"
  },
  "name": "get-primary-home",
  "notebookId": 4471012258261016
 },
 "nbformat": 4,
 "nbformat_minor": 0
}