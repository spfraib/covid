{
 "cells": [
  {
   "cell_type": "code",
   "source": [
    "import os\n",
    "\n",
    "import pyspark.sql.functions as F\n",
    "from pyspark.sql.functions import col, lag, lit\n",
    "from pyspark.sql.window import Window"
   ],
   "metadata": {},
   "outputs": [
    {
     "metadata": {},
     "output_type": "display_data",
     "data": {
      "text/html": [
       "<style scoped>\n  .ansiout {\n    display: block;\n    unicode-bidi: embed;\n    white-space: pre-wrap;\n    word-wrap: break-word;\n    word-break: break-all;\n    font-family: \"Source Code Pro\", \"Menlo\", monospace;;\n    font-size: 13px;\n    color: #555;\n    margin-left: 4px;\n    line-height: 19px;\n  }\n</style>\n<div class=\"ansiout\"></div>"
      ]
     }
    }
   ],
   "execution_count": 1
  },
  {
   "cell_type": "code",
   "source": [
    "results_path = \"/results/\"\n",
    "start_date='2020-01-01'\n",
    "end_date='2020-04-16'\n",
    "source='cuebiq'\n",
    "country='ID'\n",
    "admin_id='ADM4_PCODE'\n",
    "start_hour_day = 8\n",
    "end_hour_day = 20"
   ],
   "metadata": {},
   "outputs": [
    {
     "metadata": {},
     "output_type": "display_data",
     "data": {
      "text/html": [
       "<style scoped>\n  .ansiout {\n    display: block;\n    unicode-bidi: embed;\n    white-space: pre-wrap;\n    word-wrap: break-word;\n    word-break: break-all;\n    font-family: \"Source Code Pro\", \"Menlo\", monospace;;\n    font-size: 13px;\n    color: #555;\n    margin-left: 4px;\n    line-height: 19px;\n  }\n</style>\n<div class=\"ansiout\"></div>"
      ]
     }
    }
   ],
   "execution_count": 2
  },
  {
   "cell_type": "markdown",
   "source": [
    "# Compute distance traveled"
   ],
   "metadata": {}
  },
  {
   "cell_type": "code",
   "source": [
    "pings_geocoded = spark.read.parquet(os.path.join(results_path,source, 'processed',country,'pings_geocoded'))"
   ],
   "metadata": {},
   "outputs": [
    {
     "metadata": {},
     "output_type": "display_data",
     "data": {
      "text/html": [
       "<style scoped>\n  .ansiout {\n    display: block;\n    unicode-bidi: embed;\n    white-space: pre-wrap;\n    word-wrap: break-word;\n    word-break: break-all;\n    font-family: \"Source Code Pro\", \"Menlo\", monospace;;\n    font-size: 13px;\n    color: #555;\n    margin-left: 4px;\n    line-height: 19px;\n  }\n</style>\n<div class=\"ansiout\"></div>"
      ]
     }
    }
   ],
   "execution_count": 4
  },
  {
   "cell_type": "code",
   "source": [
    "pings_geocoded = pings_geocoded.where((pings_geocoded.time >= start_date) & (pings_geocoded.time <= end_date))"
   ],
   "metadata": {},
   "outputs": [
    {
     "metadata": {},
     "output_type": "display_data",
     "data": {
      "text/html": [
       "<style scoped>\n  .ansiout {\n    display: block;\n    unicode-bidi: embed;\n    white-space: pre-wrap;\n    word-wrap: break-word;\n    word-break: break-all;\n    font-family: \"Source Code Pro\", \"Menlo\", monospace;;\n    font-size: 13px;\n    color: #555;\n    margin-left: 4px;\n    line-height: 19px;\n  }\n</style>\n<div class=\"ansiout\"></div>"
      ]
     }
    }
   ],
   "execution_count": 5
  },
  {
   "cell_type": "code",
   "source": [
    "# return distance in km. input should be in radians\n",
    "def spark_haversine(lat_x, lon_x, lat_y, lon_y):\n",
    "  d_lat = lat_y - lat_x \n",
    "  d_lon = lon_y - lon_x\n",
    "  area = F.sin(d_lat/2)**2 + F.cos(lat_x) * F.cos(lat_y) * F.sin(d_lon/2)**2\n",
    "  return 2 * F.asin(F.sqrt(area)) * lit(6371)"
   ],
   "metadata": {},
   "outputs": [
    {
     "metadata": {},
     "output_type": "display_data",
     "data": {
      "text/html": [
       "<style scoped>\n  .ansiout {\n    display: block;\n    unicode-bidi: embed;\n    white-space: pre-wrap;\n    word-wrap: break-word;\n    word-break: break-all;\n    font-family: \"Source Code Pro\", \"Menlo\", monospace;;\n    font-size: 13px;\n    color: #555;\n    margin-left: 4px;\n    line-height: 19px;\n  }\n</style>\n<div class=\"ansiout\"></div>"
      ]
     }
    }
   ],
   "execution_count": 6
  },
  {
   "cell_type": "code",
   "source": [
    "pings_geocoded = pings_geocoded.drop('classification_type','ADM4_PCODE')\n",
    "w = Window().partitionBy(\"cuebiq_id\").orderBy(\"time\")\n",
    "pings_geocoded = pings_geocoded.withColumn(\"lat_rad\", F.radians(col(\"latitude\"))).withColumn(\"lon_rad\", F.radians(col(\"longitude\")))\n",
    "pings_geocoded = pings_geocoded.withColumn(\"distance\", spark_haversine(F.col(\"lat_rad\"), F.col(\"lon_rad\"), lag(\"lat_rad\", 1).over(w), lag(\"lon_rad\", 1).over(w)))\n",
    "pings_geocoded = pings_geocoded.dropna()\n",
    "ping_geocoded = pings_geocoded.withColumn(\"hour\", F.hour('time'))\n",
    "ping_geocoded = ping_geocoded.drop(\"lat_rad\", \"lon_rad\")"
   ],
   "metadata": {},
   "outputs": [
    {
     "metadata": {},
     "output_type": "display_data",
     "data": {
      "text/html": [
       "<style scoped>\n  .ansiout {\n    display: block;\n    unicode-bidi: embed;\n    white-space: pre-wrap;\n    word-wrap: break-word;\n    word-break: break-all;\n    font-family: \"Source Code Pro\", \"Menlo\", monospace;;\n    font-size: 13px;\n    color: #555;\n    margin-left: 4px;\n    line-height: 19px;\n  }\n</style>\n<div class=\"ansiout\"></div>"
      ]
     }
    }
   ],
   "execution_count": 7
  },
  {
   "cell_type": "code",
   "source": [
    "# https://stackoverflow.com/questions/46845672/median-quantiles-within-pyspark-groupby\n",
    "magic_percentile = F.expr('percentile_approx(distance, 0.5, 100)')"
   ],
   "metadata": {},
   "outputs": [
    {
     "metadata": {},
     "output_type": "display_data",
     "data": {
      "text/html": [
       "<style scoped>\n  .ansiout {\n    display: block;\n    unicode-bidi: embed;\n    white-space: pre-wrap;\n    word-wrap: break-word;\n    word-break: break-all;\n    font-family: \"Source Code Pro\", \"Menlo\", monospace;;\n    font-size: 13px;\n    color: #555;\n    margin-left: 4px;\n    line-height: 19px;\n  }\n</style>\n<div class=\"ansiout\"></div>"
      ]
     }
    }
   ],
   "execution_count": 8
  },
  {
   "cell_type": "code",
   "source": [
    "tmp = ping_geocoded.withColumn(\"date\", F.date_format('time','yyyy-MM-dd')).groupby(\"date\", \"cuebiq_id\").agg( F.mean(\"distance\").alias(\"mean_distance\"),magic_percentile.alias(\"median_distance\") , F.max(\"distance\").alias(\"max_distance\"), F.count(\"distance\").alias(\"n_pings\"))"
   ],
   "metadata": {},
   "outputs": [
    {
     "metadata": {},
     "output_type": "display_data",
     "data": {
      "text/html": [
       "<style scoped>\n  .ansiout {\n    display: block;\n    unicode-bidi: embed;\n    white-space: pre-wrap;\n    word-wrap: break-word;\n    word-break: break-all;\n    font-family: \"Source Code Pro\", \"Menlo\", monospace;;\n    font-size: 13px;\n    color: #555;\n    margin-left: 4px;\n    line-height: 19px;\n  }\n</style>\n<div class=\"ansiout\"></div>"
      ]
     }
    }
   ],
   "execution_count": 9
  },
  {
   "cell_type": "code",
   "source": [
    "distances_date_id = ping_geocoded.withColumn(\"date\", F.date_format('time','yyyy-MM-dd')).groupby(\"date\", \"cuebiq_id\").agg( F.mean(\"distance\").alias(\"mean_distance\"),magic_percentile.alias(\"median_distance\") , F.max(\"distance\").alias(\"max_distance\"), F.count(\"distance\").alias(\"n_pings\"))\n",
    "\n",
    "distances_daytime_id = ping_geocoded.filter((F.hour(col(\"time\")) >= 8) & (F.hour(col(\"time\")) < 20))\\\n",
    "                                            .withColumn(\"date\", F.date_format('time','yyyy-MM-dd'))\\\n",
    "                                            .groupby(\"date\", \"cuebiq_id\")\\\n",
    "                                            .agg(F.mean(\"distance\").alias(\"mean_distance\"),magic_percentile.alias(\"median_distance\") , F.max(\"distance\").alias(\"max_distance\"), F.count(\"distance\").alias(\"n_pings\"))\n",
    "\n",
    "distances_nighttime_id=ping_geocoded.filter(((F.hour(col(\"time\")) >= 20) & (F.hour(col(\"time\")) <= 23)) |((F.hour(col(\"time\")) >= 0) & (F.hour(col(\"time\")) < 8)))\\\n",
    "                                            .withColumn(\"date\", F.date_format('time','yyyy-MM-dd')).groupby(\"date\", \"cuebiq_id\")\\\n",
    "                                            .agg( F.mean(\"distance\").alias(\"mean_distance\"),magic_percentile.alias(\"median_distance\") , F.max(\"distance\").alias(\"max_distance\"), F.count(\"distance\").alias(\"n_pings\"))\n"
   ],
   "metadata": {},
   "outputs": [
    {
     "metadata": {},
     "output_type": "display_data",
     "data": {
      "text/html": [
       "<style scoped>\n  .ansiout {\n    display: block;\n    unicode-bidi: embed;\n    white-space: pre-wrap;\n    word-wrap: break-word;\n    word-break: break-all;\n    font-family: \"Source Code Pro\", \"Menlo\", monospace;;\n    font-size: 13px;\n    color: #555;\n    margin-left: 4px;\n    line-height: 19px;\n  }\n</style>\n<div class=\"ansiout\"></div>"
      ]
     }
    }
   ],
   "execution_count": 10
  },
  {
   "cell_type": "code",
   "source": [
    "results_path = '/dbfs/results/'"
   ],
   "metadata": {},
   "outputs": [
    {
     "metadata": {},
     "output_type": "display_data",
     "data": {
      "text/html": [
       "<style scoped>\n  .ansiout {\n    display: block;\n    unicode-bidi: embed;\n    white-space: pre-wrap;\n    word-wrap: break-word;\n    word-break: break-all;\n    font-family: \"Source Code Pro\", \"Menlo\", monospace;;\n    font-size: 13px;\n    color: #555;\n    margin-left: 4px;\n    line-height: 19px;\n  }\n</style>\n<div class=\"ansiout\"></div>"
      ]
     }
    }
   ],
   "execution_count": 11
  },
  {
   "cell_type": "code",
   "source": [
    "\ndistances_date_id.toPandas().to_csv(os.path.join(results_path,source,'processed',country,'distances_date_id.csv'), index=False)\ndistances_daytime_id.toPandas().to_csv(os.path.join(results_path,source,'processed',country,'distances_daytime_id.csv'), index = False)\ndistances_nighttime_id.toPandas().to_csv(os.path.join(results_path,source,'processed',country,'distances_nighttime_id.csv'), index = False)\n"
   ],
   "metadata": {},
   "outputs": [
    {
     "metadata": {},
     "output_type": "display_data",
     "data": {
      "text/html": [
       "<style scoped>\n  .ansiout {\n    display: block;\n    unicode-bidi: embed;\n    white-space: pre-wrap;\n    word-wrap: break-word;\n    word-break: break-all;\n    font-family: \"Source Code Pro\", \"Menlo\", monospace;;\n    font-size: 13px;\n    color: #555;\n    margin-left: 4px;\n    line-height: 19px;\n  }\n</style>\n<div class=\"ansiout\"></div>"
      ]
     }
    }
   ],
   "execution_count": 12
  },
  {
   "cell_type": "markdown",
   "source": [
    "# Figures"
   ],
   "metadata": {}
  }
 ],
 "metadata": {
  "kernelspec": {
   "display_name": "Python 3",
   "language": "python",
   "name": "python3"
  },
  "language_info": {
   "mimetype": "text/x-python",
   "name": "python",
   "pygments_lexer": "ipython3",
   "codemirror_mode": {
    "name": "ipython",
    "version": 3
   },
   "version": "3.7.4",
   "nbconvert_exporter": "python",
   "file_extension": ".py"
  },
  "name": "describe-users-traveled-distances-spark",
  "notebookId": 1574726512621368
 },
 "nbformat": 4,
 "nbformat_minor": 0
}