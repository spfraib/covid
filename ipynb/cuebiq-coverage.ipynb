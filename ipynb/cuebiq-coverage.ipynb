{
 "cells": [
  {
   "cell_type": "code",
   "execution_count": 47,
   "metadata": {},
   "outputs": [],
   "source": [
    "from countryinfo import CountryInfo\n",
    "import pandas as pd\n",
    "import numpy as np\n",
    "import world_bank_data as wb"
   ]
  },
  {
   "cell_type": "code",
   "execution_count": 27,
   "metadata": {},
   "outputs": [],
   "source": [
    "coverage=pd.read_excel('cuebiq-coverage.xlsx',header=None,names=['code','name','MAU','DAU'])"
   ]
  },
  {
   "cell_type": "code",
   "execution_count": 59,
   "metadata": {},
   "outputs": [],
   "source": [
    "pops=wb.get_series('SP.POP.TOTL', mrv=1,simplify_index=True)\n",
    "pops.index.name='name'"
   ]
  },
  {
   "cell_type": "code",
   "execution_count": 41,
   "metadata": {},
   "outputs": [],
   "source": [
    "coverage['name']=coverage['name'].replace('Great Britain','United Kingdom')"
   ]
  },
  {
   "cell_type": "code",
   "execution_count": 69,
   "metadata": {},
   "outputs": [],
   "source": [
    "merged=pd.merge(coverage,pops.reset_index())"
   ]
  },
  {
   "cell_type": "code",
   "execution_count": 73,
   "metadata": {},
   "outputs": [],
   "source": [
    "merged['%MAU']=merged.MAU/merged['SP.POP.TOTL']\n",
    "merged['%DAU']=merged.DAU/merged['SP.POP.TOTL']"
   ]
  },
  {
   "cell_type": "code",
   "execution_count": 75,
   "metadata": {},
   "outputs": [],
   "source": [
    "merged.to_csv('coverage.csv')"
   ]
  },
  {
   "cell_type": "code",
   "execution_count": 76,
   "metadata": {},
   "outputs": [
    {
     "data": {
      "text/html": [
       "<div>\n",
       "<style scoped>\n",
       "    .dataframe tbody tr th:only-of-type {\n",
       "        vertical-align: middle;\n",
       "    }\n",
       "\n",
       "    .dataframe tbody tr th {\n",
       "        vertical-align: top;\n",
       "    }\n",
       "\n",
       "    .dataframe thead th {\n",
       "        text-align: right;\n",
       "    }\n",
       "</style>\n",
       "<table border=\"1\" class=\"dataframe\">\n",
       "  <thead>\n",
       "    <tr style=\"text-align: right;\">\n",
       "      <th></th>\n",
       "      <th>code</th>\n",
       "      <th>name</th>\n",
       "      <th>MAU</th>\n",
       "      <th>DAU</th>\n",
       "      <th>SP.POP.TOTL</th>\n",
       "      <th>%MAU</th>\n",
       "      <th>%DAU</th>\n",
       "    </tr>\n",
       "  </thead>\n",
       "  <tbody>\n",
       "    <tr>\n",
       "      <th>0</th>\n",
       "      <td>US</td>\n",
       "      <td>United States</td>\n",
       "      <td>30000000</td>\n",
       "      <td>20000000</td>\n",
       "      <td>3.271674e+08</td>\n",
       "      <td>0.091696</td>\n",
       "      <td>0.061131</td>\n",
       "    </tr>\n",
       "    <tr>\n",
       "      <th>1</th>\n",
       "      <td>CA</td>\n",
       "      <td>Canada</td>\n",
       "      <td>1997914</td>\n",
       "      <td>685624</td>\n",
       "      <td>3.705886e+07</td>\n",
       "      <td>0.053912</td>\n",
       "      <td>0.018501</td>\n",
       "    </tr>\n",
       "    <tr>\n",
       "      <th>2</th>\n",
       "      <td>IT</td>\n",
       "      <td>Italy</td>\n",
       "      <td>1502215</td>\n",
       "      <td>754765</td>\n",
       "      <td>6.043128e+07</td>\n",
       "      <td>0.024858</td>\n",
       "      <td>0.012490</td>\n",
       "    </tr>\n",
       "    <tr>\n",
       "      <th>3</th>\n",
       "      <td>MX</td>\n",
       "      <td>Mexico</td>\n",
       "      <td>968340</td>\n",
       "      <td>322984</td>\n",
       "      <td>1.261908e+08</td>\n",
       "      <td>0.007674</td>\n",
       "      <td>0.002559</td>\n",
       "    </tr>\n",
       "    <tr>\n",
       "      <th>4</th>\n",
       "      <td>IN</td>\n",
       "      <td>India</td>\n",
       "      <td>918252</td>\n",
       "      <td>504603</td>\n",
       "      <td>1.352617e+09</td>\n",
       "      <td>0.000679</td>\n",
       "      <td>0.000373</td>\n",
       "    </tr>\n",
       "  </tbody>\n",
       "</table>\n",
       "</div>"
      ],
      "text/plain": [
       "  code           name       MAU       DAU   SP.POP.TOTL      %MAU      %DAU\n",
       "0   US  United States  30000000  20000000  3.271674e+08  0.091696  0.061131\n",
       "1   CA         Canada   1997914    685624  3.705886e+07  0.053912  0.018501\n",
       "2   IT          Italy   1502215    754765  6.043128e+07  0.024858  0.012490\n",
       "3   MX         Mexico    968340    322984  1.261908e+08  0.007674  0.002559\n",
       "4   IN          India    918252    504603  1.352617e+09  0.000679  0.000373"
      ]
     },
     "execution_count": 76,
     "metadata": {},
     "output_type": "execute_result"
    }
   ],
   "source": [
    "merged.head()"
   ]
  }
 ],
 "metadata": {
  "kernelspec": {
   "display_name": "Python 3",
   "language": "python",
   "name": "python3"
  },
  "language_info": {
   "codemirror_mode": {
    "name": "ipython",
    "version": 3
   },
   "file_extension": ".py",
   "mimetype": "text/x-python",
   "name": "python",
   "nbconvert_exporter": "python",
   "pygments_lexer": "ipython3",
   "version": "3.7.6"
  }
 },
 "nbformat": 4,
 "nbformat_minor": 4
}
