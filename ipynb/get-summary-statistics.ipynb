{
 "cells": [
  {
   "cell_type": "markdown",
   "source": [
    "spark-submit --master yarn --deploy-mode cluster  --conf spark.yarn.appMasterEnv.SPARK_HOME=/share/apps/spark/^Cark-2.4.0-bin-hadoop2.6 --conf spark.yarn.submit.waitAppCompletion=false --conf spark.serializer=org.apache.spark.serializer.KryoSerializer --conf spark.speculation=false --conf spark.executorEnv.LANG=en_US.UTF-8 --conf spark.yarn.appMasterEnv.LANG=en_US.UTF-8 --driver-cores 20 --driver-memory 40G --num-executors 40 --executor-cores 15 --executor-memory 40G ./covid/py/get-summary-statistics.py"
   ],
   "metadata": {}
  },
  {
   "cell_type": "code",
   "source": [
    "import os\n",
    "from datetime import datetime\n",
    "\n",
    "import pandas as pd\n",
    "import pyspark.sql.functions as F\n",
    "from pyspark.sql.functions import col, hour, date_format, to_timestamp, struct\n",
    "from pyspark.sql.types import LongType, StringType, StructType, StructField, FloatType"
   ],
   "metadata": {},
   "outputs": [
    {
     "metadata": {},
     "output_type": "display_data",
     "data": {
      "text/html": [
       "<style scoped>\n  .ansiout {\n    display: block;\n    unicode-bidi: embed;\n    white-space: pre-wrap;\n    word-wrap: break-word;\n    word-break: break-all;\n    font-family: \"Source Code Pro\", \"Menlo\", monospace;;\n    font-size: 13px;\n    color: #555;\n    margin-left: 4px;\n    line-height: 19px;\n  }\n</style>\n<div class=\"ansiout\"></div>"
      ]
     }
    }
   ],
   "execution_count": 2
  },
  {
   "cell_type": "markdown",
   "source": [
    "# Params"
   ],
   "metadata": {
    "pycharm": {
     "name": "#%% md\n"
    }
   }
  },
  {
   "cell_type": "code",
   "source": [
    "def dbutils_path_exists(path):\n",
    "  try:\n",
    "    dbutils.fs.ls(path)\n",
    "    return True\n",
    "  except:\n",
    "    print(\"{} not found\".format(path))"
   ],
   "metadata": {
    "pycharm": {
     "name": "#%%\n"
    }
   },
   "outputs": [
    {
     "metadata": {},
     "output_type": "display_data",
     "data": {
      "text/html": [
       "<style scoped>\n  .ansiout {\n    display: block;\n    unicode-bidi: embed;\n    white-space: pre-wrap;\n    word-wrap: break-word;\n    word-break: break-all;\n    font-family: \"Source Code Pro\", \"Menlo\", monospace;;\n    font-size: 13px;\n    color: #555;\n    margin-left: 4px;\n    line-height: 19px;\n  }\n</style>\n<div class=\"ansiout\"></div>"
      ]
     }
    }
   ],
   "execution_count": 4
  },
  {
   "cell_type": "code",
   "source": [
    "source='cuebiq'\n",
    "country='ID'\n",
    "admin_id='ADM4_PCODE'\n",
    "start_date='2020-01-01'\n",
    "end_date=datetime.today().strftime('%Y-%m-%d')\n",
    "days_to_consider=[x.strftime('%Y%m%d00') for x in pd.date_range(start_date,end_date) if dbutils_path_exists(\"mnt/wbgggscecovid19dev-datapartnership/data/cuebiq/covid-19/{}/{}/\".format(country, x.strftime('%Y%m%d00')))]\n",
    "paths_to_data = [\"/mnt/wbgggscecovid19dev-datapartnership/data/cuebiq/covid-19/{}/{}/*.csv.gz\".format(country, day) for day in days_to_consider]\n",
    "admin_path = \"/admin/\"\n",
    "results_path = \"/results/\"\n",
    "\n",
    "schema= StructType([\n",
    "StructField(\"timestamp\", LongType(), False),\n",
    "StructField(\"cuebiq_id\", StringType(), False),\n",
    "StructField(\"device_type\", FloatType(), False),\n",
    "StructField(\"latitude\", FloatType(), False),\n",
    "StructField(\"longitude\", FloatType(), False),\n",
    "StructField(\"accuracy\", FloatType(), False),\n",
    "StructField(\"time_zone_offset\", LongType(), False),\n",
    "StructField(\"classification_type\", StringType(), False),\n",
    "StructField(\"transformation_type\", StringType(), False),])"
   ],
   "metadata": {},
   "outputs": [
    {
     "metadata": {},
     "output_type": "display_data",
     "data": {
      "text/html": [
       "<style scoped>\n  .ansiout {\n    display: block;\n    unicode-bidi: embed;\n    white-space: pre-wrap;\n    word-wrap: break-word;\n    word-break: break-all;\n    font-family: \"Source Code Pro\", \"Menlo\", monospace;;\n    font-size: 13px;\n    color: #555;\n    margin-left: 4px;\n    line-height: 19px;\n  }\n</style>\n<div class=\"ansiout\">mnt/wbgggscecovid19dev-datapartnership/data/cuebiq/covid-19/ID/2020050100/ not found\nmnt/wbgggscecovid19dev-datapartnership/data/cuebiq/covid-19/ID/2020050200/ not found\nmnt/wbgggscecovid19dev-datapartnership/data/cuebiq/covid-19/ID/2020050300/ not found\nmnt/wbgggscecovid19dev-datapartnership/data/cuebiq/covid-19/ID/2020050400/ not found\nmnt/wbgggscecovid19dev-datapartnership/data/cuebiq/covid-19/ID/2020050500/ not found\n</div>"
      ]
     }
    }
   ],
   "execution_count": 5
  },
  {
   "cell_type": "markdown",
   "source": [
    "# Load Data By Chunk"
   ],
   "metadata": {}
  },
  {
   "cell_type": "code",
   "source": [
    "def load_data(paths_to_data):\n",
    "  if not paths_to_data:\n",
    "    raise Exception(\"No paths given as input!\")\n",
    "  df=spark.read.format(\"csv\").option('header', 'false').option(\"delimiter\", \"\\t\").schema(schema).load(paths_to_data)\n",
    "  df=df.withColumn(\n",
    "      \"time\",to_timestamp(df[\"timestamp\"]+df[\"time_zone_offset\"])).withColumn(\n",
    "      \"date\", date_format(col(\"time\"), \"yyyy-MM-dd\")).withColumn(\n",
    "      'hour',hour(\"time\")).withColumn(\n",
    "      'point', struct('longitude','latitude'))\n",
    "  return df.select('cuebiq_id','device_type','time','date','hour','point','classification_type')"
   ],
   "metadata": {},
   "outputs": [
    {
     "metadata": {},
     "output_type": "display_data",
     "data": {
      "text/html": [
       "<style scoped>\n  .ansiout {\n    display: block;\n    unicode-bidi: embed;\n    white-space: pre-wrap;\n    word-wrap: break-word;\n    word-break: break-all;\n    font-family: \"Source Code Pro\", \"Menlo\", monospace;;\n    font-size: 13px;\n    color: #555;\n    margin-left: 4px;\n    line-height: 19px;\n  }\n</style>\n<div class=\"ansiout\"></div>"
      ]
     }
    }
   ],
   "execution_count": 7
  },
  {
   "cell_type": "markdown",
   "source": [
    "# Summary Statistics"
   ],
   "metadata": {}
  },
  {
   "cell_type": "code",
   "source": [
    "\n",
    "df=load_data(paths_to_data)\n",
    "df.cache()\n",
    "\n",
    "device_id=df.groupby('cuebiq_id').agg(F.first(\"device_type\").alias(\"device_type\"))\n",
    "n_pings_id_date_hour=df.groupby('cuebiq_id','date','hour').count().withColumnRenamed('count','n_pings')\n",
    "\n",
    "n_pings_id_personal_date_hour=df.filter(df['classification_type']=='PERSONAL_AREA').groupby(\n",
    "'cuebiq_id','point','date','hour').count().withColumnRenamed('count','n_pings')\n",
    "df.unpersist()"
   ],
   "metadata": {},
   "outputs": [
    {
     "metadata": {},
     "output_type": "display_data",
     "data": {
      "text/html": [
       "<style scoped>\n  .ansiout {\n    display: block;\n    unicode-bidi: embed;\n    white-space: pre-wrap;\n    word-wrap: break-word;\n    word-break: break-all;\n    font-family: \"Source Code Pro\", \"Menlo\", monospace;;\n    font-size: 13px;\n    color: #555;\n    margin-left: 4px;\n    line-height: 19px;\n  }\n</style>\n<div class=\"ansiout\">Out[6]: DataFrame[cuebiq_id: string, device_type: float, time: timestamp, date: string, hour: int, point: struct&lt;longitude:float,latitude:float&gt;, classification_type: string]</div>"
      ]
     }
    }
   ],
   "execution_count": 9
  },
  {
   "cell_type": "markdown",
   "source": [
    "# Aggregate Chunks"
   ],
   "metadata": {}
  },
  {
   "cell_type": "code",
   "source": [
    "n_pings_id_date_hour=n_pings_id_date_hour.groupby('cuebiq_id','date','hour').agg({'n_pings':'sum'}).withColumnRenamed('sum(n_pings)','n_pings')\n",
    "n_pings_id_personal_date_hour=n_pings_id_personal_date_hour.groupby('cuebiq_id','point','date','hour').agg({'n_pings':'sum'}).withColumnRenamed('sum(n_pings)','n_pings')\n",
    "n_pings_id_day_hour=n_pings_id_date_hour.withColumn('dayofweek',date_format(\"date\",\"u\")).groupby('cuebiq_id','dayofweek','hour').agg({'n_pings':'sum'}).withColumnRenamed('sum(n_pings)','n_pings')\n",
    "n_pings_id_personal_day_hour=n_pings_id_personal_date_hour.withColumn('dayofweek',date_format(\"date\",\"u\")).groupby('cuebiq_id','point','dayofweek','hour').agg({'n_pings':'sum'}).withColumnRenamed('sum(n_pings)','n_pings')"
   ],
   "metadata": {},
   "outputs": [
    {
     "metadata": {},
     "output_type": "display_data",
     "data": {
      "text/html": [
       "<style scoped>\n  .ansiout {\n    display: block;\n    unicode-bidi: embed;\n    white-space: pre-wrap;\n    word-wrap: break-word;\n    word-break: break-all;\n    font-family: \"Source Code Pro\", \"Menlo\", monospace;;\n    font-size: 13px;\n    color: #555;\n    margin-left: 4px;\n    line-height: 19px;\n  }\n</style>\n<div class=\"ansiout\"></div>"
      ]
     }
    }
   ],
   "execution_count": 11
  },
  {
   "cell_type": "markdown",
   "source": [
    "# Save"
   ],
   "metadata": {}
  },
  {
   "cell_type": "code",
   "source": [
    "device_id.write.mode(\"overwrite\").parquet(os.path.join(results_path,source,'processed',country,'device_id'))\n",
    "n_pings_id_date_hour.write.mode(\"overwrite\").parquet(os.path.join(results_path,source,'processed',country,'n_pings_id_date_hour'))\n",
    "n_pings_id_day_hour.write.mode(\"overwrite\").parquet(os.path.join(results_path,source,'processed',country,'n_pings_id_day_hour'))\n",
    "n_pings_id_personal_date_hour.write.mode(\"overwrite\").parquet(os.path.join(results_path,source,'processed',country,'n_pings_id_personal_date_hour'))\n",
    "n_pings_id_personal_day_hour.write.mode(\"overwrite\").parquet(os.path.join(results_path,source,'processed',country,'n_pings_id_personal_day_hour'))"
   ],
   "metadata": {},
   "outputs": [
    {
     "metadata": {},
     "output_type": "display_data",
     "data": {
      "text/html": [
       "<style scoped>\n  .ansiout {\n    display: block;\n    unicode-bidi: embed;\n    white-space: pre-wrap;\n    word-wrap: break-word;\n    word-break: break-all;\n    font-family: \"Source Code Pro\", \"Menlo\", monospace;;\n    font-size: 13px;\n    color: #555;\n    margin-left: 4px;\n    line-height: 19px;\n  }\n</style>\n<div class=\"ansiout\"></div>"
      ]
     }
    }
   ],
   "execution_count": 13
  }
 ],
 "metadata": {
  "kernelspec": {
   "display_name": "Python 3",
   "language": "python",
   "name": "python3"
  },
  "language_info": {
   "mimetype": "text/x-python",
   "name": "python",
   "pygments_lexer": "ipython3",
   "codemirror_mode": {
    "name": "ipython",
    "version": 3
   },
   "version": "3.7.4",
   "nbconvert_exporter": "python",
   "file_extension": ".py"
  },
  "name": "get-summary-statistics",
  "notebookId": 4471012258261030
 },
 "nbformat": 4,
 "nbformat_minor": 0
}