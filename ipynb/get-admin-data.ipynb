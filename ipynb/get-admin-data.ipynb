{
 "cells": [
  {
   "cell_type": "markdown",
   "metadata": {},
   "source": [
    "https://docs.safegraph.com/docs/open-census-data#section-census-demographic-data"
   ]
  },
  {
   "cell_type": "code",
   "execution_count": 13,
   "metadata": {},
   "outputs": [],
   "source": [
    "import os\n",
    "from requests import get\n",
    "import pandas as pd\n",
    "import geopandas as gpd\n",
    "from timeit import default_timer as timer\n",
    "import numpy as np"
   ]
  },
  {
   "cell_type": "code",
   "execution_count": 14,
   "metadata": {},
   "outputs": [],
   "source": [
    "path_to_data='/scratch/spf248/covid/data'"
   ]
  },
  {
   "cell_type": "markdown",
   "metadata": {},
   "source": [
    "# US"
   ]
  },
  {
   "cell_type": "code",
   "execution_count": null,
   "metadata": {},
   "outputs": [],
   "source": [
    "country='US'"
   ]
  },
  {
   "cell_type": "code",
   "execution_count": null,
   "metadata": {},
   "outputs": [],
   "source": [
    "def download(url, file_name):\n",
    "    # open in binary mode\n",
    "    with open(file_name, \"wb\") as file:\n",
    "        # get request\n",
    "        response = get(url)\n",
    "        # write to file\n",
    "        file.write(response.content)\n",
    "        \n",
    "url='https://safegraph.apms5.com/anywhere/m?s=safegraph&m=tr_f6c66439-7622-4661-b5ac-6eede6fccafd&u=e1jq4wvfdtfkjha46n342e265mvk4d265mu42e1n5mwkcdtn5mrk8da18ct36hhr8n2mc&r2=d1u78w3k78qjywtk5nuq6bbqcntq8b9j5tgpurbudxq62xvk5thpyv9fedgpctb7e9gq0u1de1jq4v9fedgpctb7e9gq0u2zdxr6avjzcdjpwwvnedfp8rbmc4qq6rb6cnkq4rbgd1fpyw35dtfp6tbeeduq6qv4c5u62bkmc5t2wtvu&n=1'\n",
    "file_name=os.path.join(path_to_data,'admin',country,'safegraph_open_census_data.tar')\n",
    "\n",
    "if not os.path.exists(file_name):\n",
    "    download(url, file_name)"
   ]
  },
  {
   "cell_type": "code",
   "execution_count": 11,
   "metadata": {},
   "outputs": [
    {
     "name": "stdout",
     "output_type": "stream",
     "text": [
      "Prepare Shapefile\n",
      "Done in 294 sec\n"
     ]
    }
   ],
   "source": [
    "print('Prepare Shapefile')\n",
    "start = timer()\n",
    "\n",
    "df1 = pd.read_csv(os.path.join(file_name.replace('.tar',''),'data','cbg_b01.csv'))\n",
    "df2 = pd.read_csv(os.path.join(file_name.replace('.tar',''),'data','cbg_b19.csv'))\n",
    "\n",
    "# Merge dataset with population, median age and median income\n",
    "df = df1.merge(df2, on='census_block_group')\n",
    "df = df[['census_block_group','B01001e1','B01002e1','B19013e1']].copy()\n",
    "df = df.rename(columns={\"B01001e1\": \"population\", \"B01002e1\": \"median_age\", \"B19013e1\": \"median_income\"}).copy()\n",
    "\n",
    "# Merge dataset with geolocation - this needs a bit of preprocessing\n",
    "df3 = pd.read_csv(os.path.join(file_name.replace('.tar',''),'metadata','cbg_fips_codes.csv'))\n",
    "df3['state_fips'] = df3['state_fips'].astype(str).str.zfill(2) #add leading 0\n",
    "df3['county_fips'] = df3['county_fips'].astype(str).str.zfill(3) #add leading 0\n",
    "df3['county_fips_full'] = df3['state_fips'] + df3['county_fips'] # create unique FIPS county code (for merging) - geolocation dataframe\n",
    "df['census_block_group'] = df['census_block_group'].astype(str).str.zfill(12)\n",
    "df['county_fips_full'] = df['census_block_group'].str[:5]  # create unique FIPS county code (for merging) - pop/income/age dataframe\n",
    "df = df.merge(df3, on='county_fips_full')\n",
    "\n",
    "df4 = gpd.read_file(os.path.join(file_name.replace('.tar',''),'geometry','cbg.geojson'))\n",
    "df4.rename(columns={\"CensusBlockGroup\": \"census_block_group\"},inplace=True)\n",
    "df = df.merge(df4[['census_block_group','geometry']], on='census_block_group')\n",
    "\n",
    "df.population=df.population.astype(np.float)\n",
    "df.median_age=df.median_age.astype(np.float)\n",
    "df.median_income=df.median_income.astype(np.float)\n",
    "\n",
    "print('# Admin Units:', df.shape[0])\n",
    "\n",
    "#Export to table\n",
    "df.to_csv(os.path.join(path_to_data,'admin',country,'admin.csv'), index = False, header=True)\n",
    "\n",
    "print(\"Done in\", round(timer()-start), \"sec\")"
   ]
  },
  {
   "cell_type": "markdown",
   "metadata": {},
   "source": [
    "# MX"
   ]
  },
  {
   "cell_type": "code",
   "execution_count": 6,
   "metadata": {},
   "outputs": [],
   "source": [
    "country='MX'"
   ]
  },
  {
   "cell_type": "code",
   "execution_count": 22,
   "metadata": {},
   "outputs": [
    {
     "name": "stdout",
     "output_type": "stream",
     "text": [
      "Prepare Shapefile\n",
      "# Admin Units: 56195\n",
      "# Admin Units: 56177\n",
      "Done in 7 sec\n"
     ]
    }
   ],
   "source": [
    "print('Prepare Shapefile')\n",
    "start = timer()\n",
    "\n",
    "file_name = os.path.join(path_to_data,'admin',country,'asset_index_ageb_MEX.csv')\n",
    "\n",
    "cols=[\n",
    "'geometry',\n",
    "'ageb',\n",
    "'locality',\n",
    "'mun',\n",
    "'municipality_name',\n",
    "'state_code',\n",
    "'state_name',\n",
    "'total_population',\n",
    "'pop0_14',\n",
    "'pop15_64',\n",
    "'pob65_mas',\n",
    "'wealth_index_10k',\n",
    "]\n",
    "\n",
    "df = pd.read_csv(file_name,usecols=cols)\n",
    "print('# Admin Units:', df.shape[0])\n",
    "df.rename(columns={'mun':'municipality','state_code':'state'},inplace=True)\n",
    "df=df.loc[df['ageb'].dropna().index].copy()\n",
    "print('# Admin Units:', df.shape[0])\n",
    "\n",
    "df.to_csv(os.path.join(path_to_data,'admin',country,'admin.csv'), index = False, header=True)\n",
    "\n",
    "print(\"Done in\", round(timer()-start), \"sec\")"
   ]
  },
  {
   "cell_type": "code",
   "execution_count": 11,
   "metadata": {},
   "outputs": [
    {
     "data": {
      "text/html": [
       "<div>\n",
       "<style scoped>\n",
       "    .dataframe tbody tr th:only-of-type {\n",
       "        vertical-align: middle;\n",
       "    }\n",
       "\n",
       "    .dataframe tbody tr th {\n",
       "        vertical-align: top;\n",
       "    }\n",
       "\n",
       "    .dataframe thead th {\n",
       "        text-align: right;\n",
       "    }\n",
       "</style>\n",
       "<table border=\"1\" class=\"dataframe\">\n",
       "  <thead>\n",
       "    <tr style=\"text-align: right;\">\n",
       "      <th></th>\n",
       "      <th>geometry</th>\n",
       "      <th>ageb</th>\n",
       "      <th>municipality</th>\n",
       "      <th>municipality_name</th>\n",
       "      <th>state</th>\n",
       "      <th>state_name</th>\n",
       "      <th>locality</th>\n",
       "      <th>total_population</th>\n",
       "      <th>pop0_14</th>\n",
       "      <th>pop15_64</th>\n",
       "      <th>pob65_mas</th>\n",
       "      <th>wealth_index_10k</th>\n",
       "    </tr>\n",
       "  </thead>\n",
       "  <tbody>\n",
       "    <tr>\n",
       "      <th>0</th>\n",
       "      <td>POLYGON ((-102.2429897033714 21.9054604847799,...</td>\n",
       "      <td>0100100013204</td>\n",
       "      <td>1.0</td>\n",
       "      <td>Aguascalientes</td>\n",
       "      <td>1.0</td>\n",
       "      <td>Aguascalientes</td>\n",
       "      <td>1.0</td>\n",
       "      <td>1831.0</td>\n",
       "      <td>686.0</td>\n",
       "      <td>1119.0</td>\n",
       "      <td>23.0</td>\n",
       "      <td>0.497066</td>\n",
       "    </tr>\n",
       "    <tr>\n",
       "      <th>1</th>\n",
       "      <td>POLYGON ((-102.2386086773723 21.9076445136008,...</td>\n",
       "      <td>0100100013721</td>\n",
       "      <td>1.0</td>\n",
       "      <td>Aguascalientes</td>\n",
       "      <td>1.0</td>\n",
       "      <td>Aguascalientes</td>\n",
       "      <td>1.0</td>\n",
       "      <td>2820.0</td>\n",
       "      <td>1164.0</td>\n",
       "      <td>1635.0</td>\n",
       "      <td>21.0</td>\n",
       "      <td>0.435400</td>\n",
       "    </tr>\n",
       "    <tr>\n",
       "      <th>2</th>\n",
       "      <td>POLYGON ((-102.284093386003 21.88241849062115,...</td>\n",
       "      <td>0100100010657</td>\n",
       "      <td>1.0</td>\n",
       "      <td>Aguascalientes</td>\n",
       "      <td>1.0</td>\n",
       "      <td>Aguascalientes</td>\n",
       "      <td>1.0</td>\n",
       "      <td>2126.0</td>\n",
       "      <td>404.0</td>\n",
       "      <td>1339.0</td>\n",
       "      <td>328.0</td>\n",
       "      <td>0.571910</td>\n",
       "    </tr>\n",
       "    <tr>\n",
       "      <th>3</th>\n",
       "      <td>POLYGON ((-102.2848812827596 21.89669252671616...</td>\n",
       "      <td>0100100011528</td>\n",
       "      <td>1.0</td>\n",
       "      <td>Aguascalientes</td>\n",
       "      <td>1.0</td>\n",
       "      <td>Aguascalientes</td>\n",
       "      <td>1.0</td>\n",
       "      <td>187.0</td>\n",
       "      <td>63.0</td>\n",
       "      <td>112.0</td>\n",
       "      <td>9.0</td>\n",
       "      <td>0.656236</td>\n",
       "    </tr>\n",
       "    <tr>\n",
       "      <th>4</th>\n",
       "      <td>POLYGON ((-102.3209134854875 21.87213891008895...</td>\n",
       "      <td>0100100011674</td>\n",
       "      <td>1.0</td>\n",
       "      <td>Aguascalientes</td>\n",
       "      <td>1.0</td>\n",
       "      <td>Aguascalientes</td>\n",
       "      <td>1.0</td>\n",
       "      <td>1238.0</td>\n",
       "      <td>388.0</td>\n",
       "      <td>774.0</td>\n",
       "      <td>70.0</td>\n",
       "      <td>0.651430</td>\n",
       "    </tr>\n",
       "  </tbody>\n",
       "</table>\n",
       "</div>"
      ],
      "text/plain": [
       "                                            geometry           ageb  \\\n",
       "0  POLYGON ((-102.2429897033714 21.9054604847799,...  0100100013204   \n",
       "1  POLYGON ((-102.2386086773723 21.9076445136008,...  0100100013721   \n",
       "2  POLYGON ((-102.284093386003 21.88241849062115,...  0100100010657   \n",
       "3  POLYGON ((-102.2848812827596 21.89669252671616...  0100100011528   \n",
       "4  POLYGON ((-102.3209134854875 21.87213891008895...  0100100011674   \n",
       "\n",
       "   municipality municipality_name  state      state_name  locality  \\\n",
       "0           1.0    Aguascalientes    1.0  Aguascalientes       1.0   \n",
       "1           1.0    Aguascalientes    1.0  Aguascalientes       1.0   \n",
       "2           1.0    Aguascalientes    1.0  Aguascalientes       1.0   \n",
       "3           1.0    Aguascalientes    1.0  Aguascalientes       1.0   \n",
       "4           1.0    Aguascalientes    1.0  Aguascalientes       1.0   \n",
       "\n",
       "   total_population  pop0_14  pop15_64  pob65_mas  wealth_index_10k  \n",
       "0            1831.0    686.0    1119.0       23.0          0.497066  \n",
       "1            2820.0   1164.0    1635.0       21.0          0.435400  \n",
       "2            2126.0    404.0    1339.0      328.0          0.571910  \n",
       "3             187.0     63.0     112.0        9.0          0.656236  \n",
       "4            1238.0    388.0     774.0       70.0          0.651430  "
      ]
     },
     "execution_count": 11,
     "metadata": {},
     "output_type": "execute_result"
    }
   ],
   "source": [
    "df.head()"
   ]
  },
  {
   "cell_type": "markdown",
   "metadata": {},
   "source": [
    "# ID"
   ]
  },
  {
   "cell_type": "code",
   "execution_count": 12,
   "metadata": {},
   "outputs": [],
   "source": [
    "country='ID'"
   ]
  },
  {
   "cell_type": "code",
   "execution_count": 55,
   "metadata": {},
   "outputs": [
    {
     "name": "stdout",
     "output_type": "stream",
     "text": [
      "Prepare Shapefile\n",
      "# Admin Units: 72300\n",
      "Done in 56 sec\n"
     ]
    }
   ],
   "source": [
    "print('Prepare Shapefile')\n",
    "start = timer()\n",
    "\n",
    "shp=gpd.read_file(os.path.join(path_to_data,'admin',country,'Indonesia admin4','idn_admbnda_adm4_bps_20200401.shp'))\n",
    "print('# Admin Units:', shp.shape[0])\n",
    "data=pd.read_csv(os.path.join(path_to_data,'admin',country,'indonesia_index.csv'))\n",
    "pops=pd.read_csv(os.path.join(path_to_data,'admin',country,'pop.csv')).rename(columns={'count':'total_population'})\n",
    "\n",
    "df=shp[['ADM4_PCODE','ADM3_EN','ADM3_PCODE','ADM2_EN','ADM2_PCODE','ADM1_EN','ADM1_PCODE','geometry']].merge(\n",
    "data[['ID_village','age','index_01_all_vars']],left_on='ADM4_PCODE',right_on='ID_village')\n",
    "df=df.merge(pops,on='ID_village').drop('ID_village',1)\n",
    "df.rename(columns={'age':'median_age','index_01_all_vars':'wealth_index'},inplace=True)\n",
    "print('# Admin Units:', df.shape[0])\n",
    "\n",
    "df.to_csv(os.path.join(path_to_data,'admin',country,'admin.csv'), index=False, header=True)\n",
    "\n",
    "print(\"Done in\", round(timer()-start), \"sec\")"
   ]
  }
 ],
 "metadata": {
  "kernelspec": {
   "display_name": "Python 3",
   "language": "python",
   "name": "python3"
  },
  "language_info": {
   "codemirror_mode": {
    "name": "ipython",
    "version": 3
   },
   "file_extension": ".py",
   "mimetype": "text/x-python",
   "name": "python",
   "nbconvert_exporter": "python",
   "pygments_lexer": "ipython3",
   "version": "3.7.4"
  }
 },
 "nbformat": 4,
 "nbformat_minor": 4
}
