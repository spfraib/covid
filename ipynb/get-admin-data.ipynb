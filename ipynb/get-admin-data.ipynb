{
 "cells": [
  {
   "cell_type": "markdown",
   "metadata": {},
   "source": [
    "https://docs.safegraph.com/docs/open-census-data#section-census-demographic-data"
   ]
  },
  {
   "cell_type": "code",
   "execution_count": 1,
   "metadata": {},
   "outputs": [],
   "source": [
    "import os\n",
    "from requests import get\n",
    "import pandas as pd\n",
    "import geopandas as gpd\n",
    "from timeit import default_timer as timer\n",
    "import numpy as np"
   ]
  },
  {
   "cell_type": "code",
   "execution_count": 2,
   "metadata": {},
   "outputs": [],
   "source": [
    "path_to_data='/scratch/spf248/covid/data'"
   ]
  },
  {
   "cell_type": "markdown",
   "metadata": {},
   "source": [
    "# US"
   ]
  },
  {
   "cell_type": "code",
   "execution_count": 10,
   "metadata": {},
   "outputs": [],
   "source": [
    "country='US'"
   ]
  },
  {
   "cell_type": "code",
   "execution_count": 11,
   "metadata": {},
   "outputs": [],
   "source": [
    "def download(url, file_name):\n",
    "    # open in binary mode\n",
    "    with open(file_name, \"wb\") as file:\n",
    "        # get request\n",
    "        response = get(url)\n",
    "        # write to file\n",
    "        file.write(response.content)\n",
    "        \n",
    "url='https://safegraph.apms5.com/anywhere/m?s=safegraph&m=tr_f6c66439-7622-4661-b5ac-6eede6fccafd&u=e1jq4wvfdtfkjha46n342e265mvk4d265mu42e1n5mwkcdtn5mrk8da18ct36hhr8n2mc&r2=d1u78w3k78qjywtk5nuq6bbqcntq8b9j5tgpurbudxq62xvk5thpyv9fedgpctb7e9gq0u1de1jq4v9fedgpctb7e9gq0u2zdxr6avjzcdjpwwvnedfp8rbmc4qq6rb6cnkq4rbgd1fpyw35dtfp6tbeeduq6qv4c5u62bkmc5t2wtvu&n=1'\n",
    "file_name=os.path.join(path_to_data,'admin',country,'safegraph_open_census_data.tar')\n",
    "\n",
    "if not os.path.exists(file_name):\n",
    "    download(url, file_name)"
   ]
  },
  {
   "cell_type": "code",
   "execution_count": 30,
   "metadata": {
    "scrolled": true
   },
   "outputs": [
    {
     "name": "stdout",
     "output_type": "stream",
     "text": [
      "Prepare Shapefile\n",
      "# Admin Units: 220333\n",
      "Done in 0 sec\n"
     ]
    }
   ],
   "source": [
    "print('Prepare Shapefile')\n",
    "start = timer()\n",
    "\n",
    "df1 = pd.read_csv(os.path.join(file_name.replace('.tar',''),'data','cbg_b01.csv'))\n",
    "df2 = pd.read_csv(os.path.join(file_name.replace('.tar',''),'data','cbg_b19.csv'))\n",
    "\n",
    "# Merge dataset with population, median age and median income\n",
    "df = df1.merge(df2, on='census_block_group')\n",
    "df = df[['census_block_group','B01001e1','B01002e1','B19013e1']].copy()\n",
    "df = df.rename(columns={\"B01001e1\": \"population\", \"B01002e1\": \"median_age\", \"B19013e1\": \"median_income\"}).copy()\n",
    "\n",
    "# Merge dataset with geolocation - this needs a bit of preprocessing\n",
    "df3 = pd.read_csv(os.path.join(file_name.replace('.tar',''),'metadata','cbg_fips_codes.csv'))\n",
    "df3['state_fips'] = df3['state_fips'].astype(str).str.zfill(2) #add leading 0\n",
    "df3['county_fips'] = df3['county_fips'].astype(str).str.zfill(3) #add leading 0\n",
    "df3['county_fips_full'] = df3['state_fips'] + df3['county_fips'] # create unique FIPS county code (for merging) - geolocation dataframe\n",
    "df['census_block_group'] = df['census_block_group'].astype(str).str.zfill(12)\n",
    "df['county_fips_full'] = df['census_block_group'].str[:5]  # create unique FIPS county code (for merging) - pop/income/age dataframe\n",
    "df = df.merge(df3, on='county_fips_full')\n",
    "\n",
    "# Merge with Shapefiles\n",
    "df4 = gpd.read_file(os.path.join(file_name.replace('.tar',''),'geometry','cbg.geojson'))\n",
    "df4.rename(columns={\"CensusBlockGroup\": \"census_block_group\"},inplace=True)\n",
    "df = df.merge(df4[['census_block_group','geometry']], on='census_block_group', how='right')\n",
    "\n",
    "df.population=df.population.astype(np.float)\n",
    "df.median_age=df.median_age.astype(np.float)\n",
    "df.median_income=df.median_income.astype(np.float)\n",
    "\n",
    "print('# Admin Units:', df.shape[0])\n",
    "\n",
    "df=df[[\n",
    "'census_block_group',\n",
    "'state_fips',\n",
    "'state',\n",
    "'county_fips',\n",
    "'county',\n",
    "'population',\n",
    "'median_age',\n",
    "'median_income',\n",
    "'geometry']].copy()\n",
    "\n",
    "print(\"Done in\", round(timer()-start), \"sec\")"
   ]
  },
  {
   "cell_type": "code",
   "execution_count": 34,
   "metadata": {},
   "outputs": [
    {
     "name": "stdout",
     "output_type": "stream",
     "text": [
      "Save\n",
      "Done in 1225 sec\n"
     ]
    }
   ],
   "source": [
    "print('Save')\n",
    "start = timer()\n",
    "df.to_csv(os.path.join(path_to_data,'admin',country,'admin.csv'), index = False, header=True)\n",
    "gpd.GeoDataFrame(df,geometry=df.geometry).to_file(os.path.join(path_to_data,'admin',country,'admin.geojson'),driver='GeoJSON')\n",
    "print(\"Done in\", round(timer()-start), \"sec\")"
   ]
  },
  {
   "cell_type": "markdown",
   "metadata": {},
   "source": [
    "# MX"
   ]
  },
  {
   "cell_type": "code",
   "execution_count": 11,
   "metadata": {},
   "outputs": [],
   "source": [
    "country='MX'"
   ]
  },
  {
   "cell_type": "code",
   "execution_count": null,
   "metadata": {},
   "outputs": [],
   "source": [
    "file_name = os.path.join(path_to_data,'admin',country,'MUNIC','mex_admbnda_adm2_govmex','mex_admbnda_adm2_govmex.shp')\n",
    "shp=gpd.read_file(file_name)\n",
    "shp=shp[['ADM1_ES','ADM1_PCODE','ADM2_ES','ADM2_PCODE','Shape_Area','geometry']].copy()\n",
    "\n",
    "file_name=os.path.join(path_to_data,'admin',country,'MUNIC','mex_popa_adm2_govmex.xlsx')\n",
    "data=pd.read_excel(file_name,usecols=['adm2code','total_population','pop0_14','pop15_64','pop65_mas',])\n",
    "\n",
    "df=shp.merge(data,left_on='ADM2_PCODE',right_on='adm2code').drop('adm2code',1)\n",
    "print('# Admin Units:', df.shape[0])\n",
    "\n",
    "df.to_csv(os.path.join(path_to_data,'admin',country,'admin.csv'), index = False, header=True)\n"
   ]
  },
  {
   "cell_type": "code",
   "execution_count": null,
   "metadata": {},
   "outputs": [],
   "source": [
    "df.head()"
   ]
  },
  {
   "cell_type": "code",
   "execution_count": null,
   "metadata": {},
   "outputs": [],
   "source": [
    "print('Prepare Shapefile')\n",
    "start = timer()\n",
    "\n",
    "file_name = os.path.join(path_to_data,'admin',country,'asset_index_ageb_MEX.csv')\n",
    "\n",
    "cols=[\n",
    "'geometry',\n",
    "'ageb',\n",
    "'locality',\n",
    "'mun',\n",
    "'municipality_name',\n",
    "'state_code',\n",
    "'state_name',\n",
    "'total_population',\n",
    "'pop0_14',\n",
    "'pop15_64',\n",
    "'pob65_mas',\n",
    "'wealth_index_10k',\n",
    "]\n",
    "\n",
    "df = pd.read_csv(file_name,usecols=cols)\n",
    "print('# Admin Units:', df.shape[0])\n",
    "df.rename(columns={'mun':'municipality','state_code':'state'},inplace=True)\n",
    "df=df.loc[df['ageb'].dropna().index].copy()\n",
    "print('# Admin Units:', df.shape[0])\n",
    "\n",
    "df.to_csv(os.path.join(path_to_data,'admin',country,'admin_ageb.csv'), index = False, header=True)\n",
    "\n",
    "print(\"Done in\", round(timer()-start), \"sec\")"
   ]
  },
  {
   "cell_type": "code",
   "execution_count": null,
   "metadata": {},
   "outputs": [],
   "source": [
    "df.head()"
   ]
  },
  {
   "cell_type": "markdown",
   "metadata": {},
   "source": [
    "# ID"
   ]
  },
  {
   "cell_type": "code",
   "execution_count": 12,
   "metadata": {},
   "outputs": [],
   "source": [
    "country='ID'"
   ]
  },
  {
   "cell_type": "code",
   "execution_count": 13,
   "metadata": {},
   "outputs": [
    {
     "name": "stdout",
     "output_type": "stream",
     "text": [
      "Prepare Shapefile\n",
      "# Admin Units: 81912\n",
      "# Admin Units: 81912\n",
      "Done in 58 sec\n"
     ]
    }
   ],
   "source": [
    "print('Prepare Shapefile')\n",
    "start = timer()\n",
    "\n",
    "shp=gpd.read_file(os.path.join(path_to_data,'admin',country,'idn_adm_bps_20200401_area','idn_admbnda_adm4_bps_area.shp'))\n",
    "shp=shp.to_crs(\"epsg:4326\")\n",
    "print('# Admin Units:', shp.shape[0])\n",
    "\n",
    "data=pd.read_csv(os.path.join(path_to_data,'admin',country,'indonesia_index.csv'))\n",
    "pops=pd.read_csv(os.path.join(path_to_data,'admin',country,'pop.csv')).rename(columns={'count':'total_population'})\n",
    "\n",
    "df=shp[['ADM4_EN','ADM4_PCODE','ADM3_EN','ADM3_PCODE','ADM2_EN','ADM2_PCODE','ADM1_EN','ADM1_PCODE','a_km2','geometry']].merge(\n",
    "data[['ID_village','age','index_01_all_vars']],left_on='ADM4_PCODE',right_on='ID_village',how='left')\n",
    "df=df.merge(pops,on='ID_village',how='left').drop('ID_village',1)\n",
    "df.rename(columns={'age':'median_age','index_01_all_vars':'wealth_index'},inplace=True)\n",
    "print('# Admin Units:', df.shape[0])\n",
    "\n",
    "\n",
    "\n",
    "print(\"Done in\", round(timer()-start), \"sec\")"
   ]
  },
  {
   "cell_type": "code",
   "execution_count": 14,
   "metadata": {},
   "outputs": [
    {
     "data": {
      "text/html": [
       "<div>\n",
       "<style scoped>\n",
       "    .dataframe tbody tr th:only-of-type {\n",
       "        vertical-align: middle;\n",
       "    }\n",
       "\n",
       "    .dataframe tbody tr th {\n",
       "        vertical-align: top;\n",
       "    }\n",
       "\n",
       "    .dataframe thead th {\n",
       "        text-align: right;\n",
       "    }\n",
       "</style>\n",
       "<table border=\"1\" class=\"dataframe\">\n",
       "  <thead>\n",
       "    <tr style=\"text-align: right;\">\n",
       "      <th></th>\n",
       "      <th>ADM4_EN</th>\n",
       "      <th>ADM4_PCODE</th>\n",
       "      <th>ADM3_EN</th>\n",
       "      <th>ADM3_PCODE</th>\n",
       "      <th>ADM2_EN</th>\n",
       "      <th>ADM2_PCODE</th>\n",
       "      <th>ADM1_EN</th>\n",
       "      <th>ADM1_PCODE</th>\n",
       "      <th>a_km2</th>\n",
       "      <th>geometry</th>\n",
       "      <th>median_age</th>\n",
       "      <th>wealth_index</th>\n",
       "      <th>total_population</th>\n",
       "    </tr>\n",
       "  </thead>\n",
       "  <tbody>\n",
       "    <tr>\n",
       "      <th>0</th>\n",
       "      <td>1 Ilir</td>\n",
       "      <td>ID1671060006</td>\n",
       "      <td>Ilir Timur II</td>\n",
       "      <td>ID1671060</td>\n",
       "      <td>Kota Palembang</td>\n",
       "      <td>ID1671</td>\n",
       "      <td>Sumatera Selatan</td>\n",
       "      <td>ID16</td>\n",
       "      <td>2.086247</td>\n",
       "      <td>POLYGON ((104.82248 -2.98102, 104.82165 -2.985...</td>\n",
       "      <td>26.0</td>\n",
       "      <td>0.589971</td>\n",
       "      <td>5792.0</td>\n",
       "    </tr>\n",
       "    <tr>\n",
       "      <th>1</th>\n",
       "      <td>1 Ulu</td>\n",
       "      <td>ID1671020008</td>\n",
       "      <td>Seberang Ulu I</td>\n",
       "      <td>ID1671020</td>\n",
       "      <td>Kota Palembang</td>\n",
       "      <td>ID1671</td>\n",
       "      <td>Sumatera Selatan</td>\n",
       "      <td>ID16</td>\n",
       "      <td>0.209298</td>\n",
       "      <td>POLYGON ((104.75516 -3.01316, 104.75480 -3.013...</td>\n",
       "      <td>25.0</td>\n",
       "      <td>0.606387</td>\n",
       "      <td>12058.0</td>\n",
       "    </tr>\n",
       "    <tr>\n",
       "      <th>2</th>\n",
       "      <td>10 Ilir</td>\n",
       "      <td>ID1671062001</td>\n",
       "      <td>Ilir Timur III</td>\n",
       "      <td>ID1671062</td>\n",
       "      <td>Kota Palembang</td>\n",
       "      <td>ID1671</td>\n",
       "      <td>Sumatera Selatan</td>\n",
       "      <td>ID16</td>\n",
       "      <td>0.156444</td>\n",
       "      <td>POLYGON ((104.77081 -2.98185, 104.77082 -2.981...</td>\n",
       "      <td>NaN</td>\n",
       "      <td>NaN</td>\n",
       "      <td>NaN</td>\n",
       "    </tr>\n",
       "    <tr>\n",
       "      <th>3</th>\n",
       "      <td>11 Ilir</td>\n",
       "      <td>ID1671062002</td>\n",
       "      <td>Ilir Timur III</td>\n",
       "      <td>ID1671062</td>\n",
       "      <td>Kota Palembang</td>\n",
       "      <td>ID1671</td>\n",
       "      <td>Sumatera Selatan</td>\n",
       "      <td>ID16</td>\n",
       "      <td>0.077040</td>\n",
       "      <td>POLYGON ((104.77081 -2.98185, 104.77070 -2.981...</td>\n",
       "      <td>NaN</td>\n",
       "      <td>NaN</td>\n",
       "      <td>NaN</td>\n",
       "    </tr>\n",
       "    <tr>\n",
       "      <th>4</th>\n",
       "      <td>11 Ulu</td>\n",
       "      <td>ID1671030014</td>\n",
       "      <td>Seberang Ulu II</td>\n",
       "      <td>ID1671030</td>\n",
       "      <td>Kota Palembang</td>\n",
       "      <td>ID1671</td>\n",
       "      <td>Sumatera Selatan</td>\n",
       "      <td>ID16</td>\n",
       "      <td>0.227913</td>\n",
       "      <td>POLYGON ((104.77317 -2.99340, 104.77316 -2.993...</td>\n",
       "      <td>24.0</td>\n",
       "      <td>0.529232</td>\n",
       "      <td>7543.0</td>\n",
       "    </tr>\n",
       "  </tbody>\n",
       "</table>\n",
       "</div>"
      ],
      "text/plain": [
       "   ADM4_EN    ADM4_PCODE          ADM3_EN ADM3_PCODE         ADM2_EN  \\\n",
       "0   1 Ilir  ID1671060006    Ilir Timur II  ID1671060  Kota Palembang   \n",
       "1    1 Ulu  ID1671020008   Seberang Ulu I  ID1671020  Kota Palembang   \n",
       "2  10 Ilir  ID1671062001   Ilir Timur III  ID1671062  Kota Palembang   \n",
       "3  11 Ilir  ID1671062002   Ilir Timur III  ID1671062  Kota Palembang   \n",
       "4   11 Ulu  ID1671030014  Seberang Ulu II  ID1671030  Kota Palembang   \n",
       "\n",
       "  ADM2_PCODE           ADM1_EN ADM1_PCODE     a_km2  \\\n",
       "0     ID1671  Sumatera Selatan       ID16  2.086247   \n",
       "1     ID1671  Sumatera Selatan       ID16  0.209298   \n",
       "2     ID1671  Sumatera Selatan       ID16  0.156444   \n",
       "3     ID1671  Sumatera Selatan       ID16  0.077040   \n",
       "4     ID1671  Sumatera Selatan       ID16  0.227913   \n",
       "\n",
       "                                            geometry  median_age  \\\n",
       "0  POLYGON ((104.82248 -2.98102, 104.82165 -2.985...        26.0   \n",
       "1  POLYGON ((104.75516 -3.01316, 104.75480 -3.013...        25.0   \n",
       "2  POLYGON ((104.77081 -2.98185, 104.77082 -2.981...         NaN   \n",
       "3  POLYGON ((104.77081 -2.98185, 104.77070 -2.981...         NaN   \n",
       "4  POLYGON ((104.77317 -2.99340, 104.77316 -2.993...        24.0   \n",
       "\n",
       "   wealth_index  total_population  \n",
       "0      0.589971            5792.0  \n",
       "1      0.606387           12058.0  \n",
       "2           NaN               NaN  \n",
       "3           NaN               NaN  \n",
       "4      0.529232            7543.0  "
      ]
     },
     "execution_count": 14,
     "metadata": {},
     "output_type": "execute_result"
    }
   ],
   "source": [
    "df.head()"
   ]
  },
  {
   "cell_type": "code",
   "execution_count": 15,
   "metadata": {},
   "outputs": [
    {
     "name": "stdout",
     "output_type": "stream",
     "text": [
      "Save\n",
      "Done in 198 sec\n"
     ]
    }
   ],
   "source": [
    "print('Save')\n",
    "start = timer()\n",
    "\n",
    "df.to_file(os.path.join(path_to_data,'admin',country,'admin.geojson'), driver='GeoJSON')\n",
    "df.to_csv(os.path.join(path_to_data,'admin',country,'admin.csv'), index=False, header=True)\n",
    "\n",
    "print(\"Done in\", round(timer()-start), \"sec\")"
   ]
  },
  {
   "cell_type": "markdown",
   "metadata": {},
   "source": [
    "# IN"
   ]
  },
  {
   "cell_type": "code",
   "execution_count": null,
   "metadata": {},
   "outputs": [],
   "source": [
    "country='IN'"
   ]
  },
  {
   "cell_type": "code",
   "execution_count": null,
   "metadata": {},
   "outputs": [],
   "source": [
    "shp=gpd.read_file(os.path.join(path_to_data,'admin',country,'admin3','IND_adm3.shp'))\n",
    "print('# Admin Units:', shp.shape[0])\n",
    "df=shp[['NAME_1','ID_1','NAME_2','ID_2','geometry']].copy()\n",
    "df.to_csv(os.path.join(path_to_data,'admin',country,'admin.csv'), index=False, header=True)"
   ]
  }
 ],
 "metadata": {
  "kernelspec": {
   "display_name": "Python 3",
   "language": "python",
   "name": "python3"
  },
  "language_info": {
   "codemirror_mode": {
    "name": "ipython",
    "version": 3
   },
   "file_extension": ".py",
   "mimetype": "text/x-python",
   "name": "python",
   "nbconvert_exporter": "python",
   "pygments_lexer": "ipython3",
   "version": "3.7.4"
  }
 },
 "nbformat": 4,
 "nbformat_minor": 4
}
