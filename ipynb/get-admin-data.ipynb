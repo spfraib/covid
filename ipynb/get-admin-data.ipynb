{
 "cells": [
  {
   "cell_type": "markdown",
   "metadata": {},
   "source": [
    "https://docs.safegraph.com/docs/open-census-data#section-census-demographic-data"
   ]
  },
  {
   "cell_type": "code",
   "execution_count": 1,
   "metadata": {},
   "outputs": [],
   "source": [
    "import os\n",
    "from requests import get\n",
    "import pandas as pd\n",
    "import geopandas as gpd\n",
    "from timeit import default_timer as timer\n",
    "import numpy as np"
   ]
  },
  {
   "cell_type": "code",
   "execution_count": 2,
   "metadata": {},
   "outputs": [],
   "source": [
    "path_to_data='/scratch/spf248/covid/data'"
   ]
  },
  {
   "cell_type": "markdown",
   "metadata": {},
   "source": [
    "# MX"
   ]
  },
  {
   "cell_type": "code",
   "execution_count": 3,
   "metadata": {},
   "outputs": [],
   "source": [
    "country='MX'"
   ]
  },
  {
   "cell_type": "code",
   "execution_count": 4,
   "metadata": {},
   "outputs": [
    {
     "name": "stdout",
     "output_type": "stream",
     "text": [
      "Load data\n",
      "Done in 27 sec\n"
     ]
    }
   ],
   "source": [
    "print('Load data')\n",
    "start = timer()\n",
    "data=pd.read_csv(os.path.join(path_to_data,'admin',country,'data.csv'),dtype='object')\n",
    "shp=gpd.read_file(os.path.join(path_to_data,'admin',country,'MX_4326.shp'))\n",
    "admin2city=pd.read_excel(os.path.join(path_to_data,'admin',country,'city2adminGHSL.xlsx'))\n",
    "print(\"Done in\", round(timer()-start), \"sec\")"
   ]
  },
  {
   "cell_type": "code",
   "execution_count": 5,
   "metadata": {
    "scrolled": true
   },
   "outputs": [
    {
     "name": "stdout",
     "output_type": "stream",
     "text": [
      "Prepare data\n",
      "Done in 2 sec\n"
     ]
    }
   ],
   "source": [
    "print('Prepare data')\n",
    "start = timer()\n",
    "\n",
    "df=shp.merge(data,on='ID_n',how='left').merge(admin2city.drop_duplicates('ID_n'),on='ID_n',how='left')\n",
    "df['pct_65_mas']=df['pob65_mas'].astype(float).divide(df['pobtot'].astype(float))\n",
    "df=df.rename(columns={\n",
    "'ID_n':'id_',\n",
    "'pobtot':'pop',\n",
    "'index_pca':'wealth_index',\n",
    "'ENTIDAD':'entidad_code',\n",
    "'NOM_ENT':'entidad_name',\n",
    "'MUN':'mun_code',\n",
    "'NOM_MUN':'entidad_name',\n",
    "'LOC':'loc_code',\n",
    "'NOM_LOC':'loc_name',\n",
    "}).drop(['pca','pob65_mas','pob15_64'],1)\n",
    "\n",
    "df.rename(columns=lambda x:x.upper() if x!='geometry' else x,inplace=True)\n",
    "for col in ['POP','AREA_KM2','POP_DENS','WEALTH_INDEX']:\n",
    "    df[col]=df[col].astype(float)\n",
    "\n",
    "print(\"Done in\", round(timer()-start), \"sec\")"
   ]
  },
  {
   "cell_type": "code",
   "execution_count": 6,
   "metadata": {},
   "outputs": [
    {
     "name": "stdout",
     "output_type": "stream",
     "text": [
      "Save data\n",
      "Done in 207 sec\n"
     ]
    }
   ],
   "source": [
    "print('Save data')\n",
    "start = timer()\n",
    "df.to_file(os.path.join(path_to_data,'admin',country,'admin.geojson'), driver='GeoJSON')\n",
    "df.to_csv(os.path.join(path_to_data,'admin',country,'admin.csv'), index=False, header=True)\n",
    "print(\"Done in\", round(timer()-start), \"sec\")"
   ]
  },
  {
   "cell_type": "code",
   "execution_count": 7,
   "metadata": {},
   "outputs": [
    {
     "name": "stdout",
     "output_type": "stream",
     "text": [
      "<class 'geopandas.geodataframe.GeoDataFrame'>\n",
      "Int64Index: 345116 entries, 0 to 345115\n",
      "Data columns (total 15 columns):\n",
      " #   Column        Non-Null Count   Dtype   \n",
      "---  ------        --------------   -----   \n",
      " 0   ID_           345116 non-null  object  \n",
      " 1   geometry      345116 non-null  geometry\n",
      " 2   POP           238282 non-null  float64 \n",
      " 3   AREA_KM2      238282 non-null  float64 \n",
      " 4   POP_DENS      238282 non-null  float64 \n",
      " 5   WEALTH_INDEX  238282 non-null  float64 \n",
      " 6   ENTIDAD_CODE  238282 non-null  object  \n",
      " 7   ENTIDAD_NAME  238282 non-null  object  \n",
      " 8   MUN_CODE      238282 non-null  object  \n",
      " 9   ENTIDAD_NAME  238282 non-null  object  \n",
      " 10  LOC_CODE      238282 non-null  object  \n",
      " 11  LOC_NAME      238282 non-null  object  \n",
      " 12  UC_NM_MN      34209 non-null   object  \n",
      " 13  UC_NM_LST     34209 non-null   object  \n",
      " 14  PCT_65_MAS    235627 non-null  float64 \n",
      "dtypes: float64(5), geometry(1), object(9)\n",
      "memory usage: 42.1+ MB\n"
     ]
    }
   ],
   "source": [
    "df.info()"
   ]
  },
  {
   "cell_type": "code",
   "execution_count": 8,
   "metadata": {},
   "outputs": [
    {
     "data": {
      "text/html": [
       "<div>\n",
       "<style scoped>\n",
       "    .dataframe tbody tr th:only-of-type {\n",
       "        vertical-align: middle;\n",
       "    }\n",
       "\n",
       "    .dataframe tbody tr th {\n",
       "        vertical-align: top;\n",
       "    }\n",
       "\n",
       "    .dataframe thead th {\n",
       "        text-align: right;\n",
       "    }\n",
       "</style>\n",
       "<table border=\"1\" class=\"dataframe\">\n",
       "  <thead>\n",
       "    <tr style=\"text-align: right;\">\n",
       "      <th></th>\n",
       "      <th>ID_</th>\n",
       "      <th>geometry</th>\n",
       "      <th>POP</th>\n",
       "      <th>AREA_KM2</th>\n",
       "      <th>POP_DENS</th>\n",
       "      <th>WEALTH_INDEX</th>\n",
       "      <th>ENTIDAD_CODE</th>\n",
       "      <th>ENTIDAD_NAME</th>\n",
       "      <th>MUN_CODE</th>\n",
       "      <th>ENTIDAD_NAME</th>\n",
       "      <th>LOC_CODE</th>\n",
       "      <th>LOC_NAME</th>\n",
       "      <th>UC_NM_MN</th>\n",
       "      <th>UC_NM_LST</th>\n",
       "      <th>PCT_65_MAS</th>\n",
       "    </tr>\n",
       "  </thead>\n",
       "  <tbody>\n",
       "    <tr>\n",
       "      <th>0</th>\n",
       "      <td>050230309</td>\n",
       "      <td>POLYGON ((-102.80543 28.20811, -102.80212 28.1...</td>\n",
       "      <td>NaN</td>\n",
       "      <td>NaN</td>\n",
       "      <td>NaN</td>\n",
       "      <td>NaN</td>\n",
       "      <td>NaN</td>\n",
       "      <td>NaN</td>\n",
       "      <td>NaN</td>\n",
       "      <td>NaN</td>\n",
       "      <td>NaN</td>\n",
       "      <td>NaN</td>\n",
       "      <td>NaN</td>\n",
       "      <td>NaN</td>\n",
       "      <td>NaN</td>\n",
       "    </tr>\n",
       "    <tr>\n",
       "      <th>1</th>\n",
       "      <td>080470057</td>\n",
       "      <td>POLYGON ((-108.57084 28.04528, -108.58444 27.9...</td>\n",
       "      <td>1.0</td>\n",
       "      <td>19.834613</td>\n",
       "      <td>0.050417</td>\n",
       "      <td>0.492315</td>\n",
       "      <td>08</td>\n",
       "      <td>Chihuahua</td>\n",
       "      <td>047</td>\n",
       "      <td>Moris</td>\n",
       "      <td>0057</td>\n",
       "      <td>Los Lobos</td>\n",
       "      <td>NaN</td>\n",
       "      <td>NaN</td>\n",
       "      <td>0.000000</td>\n",
       "    </tr>\n",
       "    <tr>\n",
       "      <th>2</th>\n",
       "      <td>240150002</td>\n",
       "      <td>POLYGON ((-101.00987 23.10039, -101.01985 23.0...</td>\n",
       "      <td>574.0</td>\n",
       "      <td>12.837316</td>\n",
       "      <td>44.713398</td>\n",
       "      <td>0.242564</td>\n",
       "      <td>24</td>\n",
       "      <td>San Luis Potosí</td>\n",
       "      <td>015</td>\n",
       "      <td>Charcas</td>\n",
       "      <td>0002</td>\n",
       "      <td>Álvaro Obregón (Estación los Charcos)</td>\n",
       "      <td>NaN</td>\n",
       "      <td>NaN</td>\n",
       "      <td>0.156794</td>\n",
       "    </tr>\n",
       "    <tr>\n",
       "      <th>3</th>\n",
       "      <td>270120004</td>\n",
       "      <td>POLYGON ((-92.29374 17.75034, -92.29052 17.743...</td>\n",
       "      <td>664.0</td>\n",
       "      <td>11.723325</td>\n",
       "      <td>56.639224</td>\n",
       "      <td>0.195166</td>\n",
       "      <td>27</td>\n",
       "      <td>Tabasco</td>\n",
       "      <td>012</td>\n",
       "      <td>Macuspana</td>\n",
       "      <td>0004</td>\n",
       "      <td>Alcalde Mayor</td>\n",
       "      <td>NaN</td>\n",
       "      <td>NaN</td>\n",
       "      <td>0.063253</td>\n",
       "    </tr>\n",
       "    <tr>\n",
       "      <th>4</th>\n",
       "      <td>201510005</td>\n",
       "      <td>POLYGON ((-97.52340 17.97540, -97.52057 17.960...</td>\n",
       "      <td>NaN</td>\n",
       "      <td>NaN</td>\n",
       "      <td>NaN</td>\n",
       "      <td>NaN</td>\n",
       "      <td>NaN</td>\n",
       "      <td>NaN</td>\n",
       "      <td>NaN</td>\n",
       "      <td>NaN</td>\n",
       "      <td>NaN</td>\n",
       "      <td>NaN</td>\n",
       "      <td>NaN</td>\n",
       "      <td>NaN</td>\n",
       "      <td>NaN</td>\n",
       "    </tr>\n",
       "  </tbody>\n",
       "</table>\n",
       "</div>"
      ],
      "text/plain": [
       "         ID_                                           geometry    POP  \\\n",
       "0  050230309  POLYGON ((-102.80543 28.20811, -102.80212 28.1...    NaN   \n",
       "1  080470057  POLYGON ((-108.57084 28.04528, -108.58444 27.9...    1.0   \n",
       "2  240150002  POLYGON ((-101.00987 23.10039, -101.01985 23.0...  574.0   \n",
       "3  270120004  POLYGON ((-92.29374 17.75034, -92.29052 17.743...  664.0   \n",
       "4  201510005  POLYGON ((-97.52340 17.97540, -97.52057 17.960...    NaN   \n",
       "\n",
       "    AREA_KM2   POP_DENS  WEALTH_INDEX ENTIDAD_CODE     ENTIDAD_NAME MUN_CODE  \\\n",
       "0        NaN        NaN           NaN          NaN              NaN      NaN   \n",
       "1  19.834613   0.050417      0.492315           08        Chihuahua      047   \n",
       "2  12.837316  44.713398      0.242564           24  San Luis Potosí      015   \n",
       "3  11.723325  56.639224      0.195166           27          Tabasco      012   \n",
       "4        NaN        NaN           NaN          NaN              NaN      NaN   \n",
       "\n",
       "  ENTIDAD_NAME LOC_CODE                               LOC_NAME UC_NM_MN  \\\n",
       "0          NaN      NaN                                    NaN      NaN   \n",
       "1        Moris     0057                              Los Lobos      NaN   \n",
       "2      Charcas     0002  Álvaro Obregón (Estación los Charcos)      NaN   \n",
       "3    Macuspana     0004                          Alcalde Mayor      NaN   \n",
       "4          NaN      NaN                                    NaN      NaN   \n",
       "\n",
       "  UC_NM_LST  PCT_65_MAS  \n",
       "0       NaN         NaN  \n",
       "1       NaN    0.000000  \n",
       "2       NaN    0.156794  \n",
       "3       NaN    0.063253  \n",
       "4       NaN         NaN  "
      ]
     },
     "execution_count": 8,
     "metadata": {},
     "output_type": "execute_result"
    }
   ],
   "source": [
    "df.head()"
   ]
  },
  {
   "cell_type": "markdown",
   "metadata": {},
   "source": [
    "# ID"
   ]
  },
  {
   "cell_type": "code",
   "execution_count": 9,
   "metadata": {},
   "outputs": [],
   "source": [
    "country='ID'"
   ]
  },
  {
   "cell_type": "code",
   "execution_count": 10,
   "metadata": {},
   "outputs": [
    {
     "name": "stdout",
     "output_type": "stream",
     "text": [
      "Load data\n",
      "Done in 12 sec\n"
     ]
    }
   ],
   "source": [
    "print('Load data')\n",
    "start = timer()\n",
    "data=pd.read_csv(os.path.join(path_to_data,'admin',country,'data.csv'),dtype='object')\n",
    "shp=gpd.read_file(os.path.join(path_to_data,'admin',country,'ID_4326.shp'))\n",
    "admin2city=pd.read_excel(os.path.join(path_to_data,'admin',country,'city2adminGHSL.xlsx'))\n",
    "print(\"Done in\", round(timer()-start), \"sec\")"
   ]
  },
  {
   "cell_type": "code",
   "execution_count": 11,
   "metadata": {},
   "outputs": [
    {
     "name": "stdout",
     "output_type": "stream",
     "text": [
      "Prepare data\n",
      "Done in 2 sec\n"
     ]
    }
   ],
   "source": [
    "print('Prepare data')\n",
    "start = timer()\n",
    "\n",
    "df=shp[['ADM4_PCODE','geometry']].merge(data,on='ADM4_PCODE',how='left').merge(admin2city.drop_duplicates('ADM4_PCODE'),on='ADM4_PCODE',how='left')\n",
    "df=df.rename(columns={'Pop':'pop','index':'wealth_index','a_km2':'area_km2'}).drop(['pca'],1)\n",
    "df.rename(columns=lambda x:x.upper() if x!='geometry' else x,inplace=True)\n",
    "for col in ['POP','AGE','AREA_KM2','POP_DENS','WEALTH_INDEX']:\n",
    "    df[col]=df[col].astype(float)\n",
    "\n",
    "print(\"Done in\", round(timer()-start), \"sec\")"
   ]
  },
  {
   "cell_type": "code",
   "execution_count": 12,
   "metadata": {},
   "outputs": [
    {
     "name": "stdout",
     "output_type": "stream",
     "text": [
      "Save data\n",
      "Done in 217 sec\n"
     ]
    }
   ],
   "source": [
    "print('Save data')\n",
    "start = timer()\n",
    "df.to_file(os.path.join(path_to_data,'admin',country,'admin.geojson'), driver='GeoJSON')\n",
    "df.to_csv(os.path.join(path_to_data,'admin',country,'admin.csv'), index=False, header=True)\n",
    "print(\"Done in\", round(timer()-start), \"sec\")"
   ]
  },
  {
   "cell_type": "code",
   "execution_count": 13,
   "metadata": {},
   "outputs": [
    {
     "name": "stdout",
     "output_type": "stream",
     "text": [
      "<class 'geopandas.geodataframe.GeoDataFrame'>\n",
      "Int64Index: 81912 entries, 0 to 81911\n",
      "Data columns (total 16 columns):\n",
      " #   Column        Non-Null Count  Dtype   \n",
      "---  ------        --------------  -----   \n",
      " 0   ADM4_PCODE    81912 non-null  object  \n",
      " 1   geometry      81912 non-null  geometry\n",
      " 2   AGE           72300 non-null  float64 \n",
      " 3   WEALTH_INDEX  72300 non-null  float64 \n",
      " 4   POP           72300 non-null  float64 \n",
      " 5   AREA_KM2      72300 non-null  float64 \n",
      " 6   POP_DENS      72300 non-null  float64 \n",
      " 7   ADM4_EN       72300 non-null  object  \n",
      " 8   ADM3_EN       72300 non-null  object  \n",
      " 9   ADM3_PCODE    72300 non-null  object  \n",
      " 10  ADM2_EN       72300 non-null  object  \n",
      " 11  ADM2_PCODE    72300 non-null  object  \n",
      " 12  ADM1_EN       72300 non-null  object  \n",
      " 13  ADM1_PCODE    72300 non-null  object  \n",
      " 14  UC_NM_MN      17194 non-null  object  \n",
      " 15  UC_NM_LST     17198 non-null  object  \n",
      "dtypes: float64(5), geometry(1), object(10)\n",
      "memory usage: 10.6+ MB\n"
     ]
    }
   ],
   "source": [
    "df.info()"
   ]
  },
  {
   "cell_type": "code",
   "execution_count": 14,
   "metadata": {},
   "outputs": [
    {
     "data": {
      "text/html": [
       "<div>\n",
       "<style scoped>\n",
       "    .dataframe tbody tr th:only-of-type {\n",
       "        vertical-align: middle;\n",
       "    }\n",
       "\n",
       "    .dataframe tbody tr th {\n",
       "        vertical-align: top;\n",
       "    }\n",
       "\n",
       "    .dataframe thead th {\n",
       "        text-align: right;\n",
       "    }\n",
       "</style>\n",
       "<table border=\"1\" class=\"dataframe\">\n",
       "  <thead>\n",
       "    <tr style=\"text-align: right;\">\n",
       "      <th></th>\n",
       "      <th>ADM4_PCODE</th>\n",
       "      <th>geometry</th>\n",
       "      <th>AGE</th>\n",
       "      <th>WEALTH_INDEX</th>\n",
       "      <th>POP</th>\n",
       "      <th>AREA_KM2</th>\n",
       "      <th>POP_DENS</th>\n",
       "      <th>ADM4_EN</th>\n",
       "      <th>ADM3_EN</th>\n",
       "      <th>ADM3_PCODE</th>\n",
       "      <th>ADM2_EN</th>\n",
       "      <th>ADM2_PCODE</th>\n",
       "      <th>ADM1_EN</th>\n",
       "      <th>ADM1_PCODE</th>\n",
       "      <th>UC_NM_MN</th>\n",
       "      <th>UC_NM_LST</th>\n",
       "    </tr>\n",
       "  </thead>\n",
       "  <tbody>\n",
       "    <tr>\n",
       "      <th>0</th>\n",
       "      <td>ID1671060006</td>\n",
       "      <td>POLYGON ((104.82248 -2.98102, 104.82165 -2.985...</td>\n",
       "      <td>26.0</td>\n",
       "      <td>0.487570</td>\n",
       "      <td>5792.0</td>\n",
       "      <td>2.086247</td>\n",
       "      <td>2776.276967</td>\n",
       "      <td>1 Ilir</td>\n",
       "      <td>Ilir Timur II</td>\n",
       "      <td>ID1671060</td>\n",
       "      <td>Kota Palembang</td>\n",
       "      <td>ID1671</td>\n",
       "      <td>Sumatera Selatan</td>\n",
       "      <td>ID16</td>\n",
       "      <td>Palembang</td>\n",
       "      <td>Palembang</td>\n",
       "    </tr>\n",
       "    <tr>\n",
       "      <th>1</th>\n",
       "      <td>ID1671020008</td>\n",
       "      <td>POLYGON ((104.75516 -3.01316, 104.75480 -3.013...</td>\n",
       "      <td>25.0</td>\n",
       "      <td>0.499906</td>\n",
       "      <td>12058.0</td>\n",
       "      <td>0.209298</td>\n",
       "      <td>57611.629454</td>\n",
       "      <td>1 Ulu</td>\n",
       "      <td>Seberang Ulu I</td>\n",
       "      <td>ID1671020</td>\n",
       "      <td>Kota Palembang</td>\n",
       "      <td>ID1671</td>\n",
       "      <td>Sumatera Selatan</td>\n",
       "      <td>ID16</td>\n",
       "      <td>Palembang</td>\n",
       "      <td>Palembang</td>\n",
       "    </tr>\n",
       "    <tr>\n",
       "      <th>2</th>\n",
       "      <td>ID1671062001</td>\n",
       "      <td>POLYGON ((104.77081 -2.98185, 104.77082 -2.981...</td>\n",
       "      <td>NaN</td>\n",
       "      <td>NaN</td>\n",
       "      <td>NaN</td>\n",
       "      <td>NaN</td>\n",
       "      <td>NaN</td>\n",
       "      <td>NaN</td>\n",
       "      <td>NaN</td>\n",
       "      <td>NaN</td>\n",
       "      <td>NaN</td>\n",
       "      <td>NaN</td>\n",
       "      <td>NaN</td>\n",
       "      <td>NaN</td>\n",
       "      <td>Palembang</td>\n",
       "      <td>Palembang</td>\n",
       "    </tr>\n",
       "    <tr>\n",
       "      <th>3</th>\n",
       "      <td>ID1671062002</td>\n",
       "      <td>POLYGON ((104.77081 -2.98185, 104.77070 -2.981...</td>\n",
       "      <td>NaN</td>\n",
       "      <td>NaN</td>\n",
       "      <td>NaN</td>\n",
       "      <td>NaN</td>\n",
       "      <td>NaN</td>\n",
       "      <td>NaN</td>\n",
       "      <td>NaN</td>\n",
       "      <td>NaN</td>\n",
       "      <td>NaN</td>\n",
       "      <td>NaN</td>\n",
       "      <td>NaN</td>\n",
       "      <td>NaN</td>\n",
       "      <td>Palembang</td>\n",
       "      <td>Palembang</td>\n",
       "    </tr>\n",
       "    <tr>\n",
       "      <th>4</th>\n",
       "      <td>ID1671030014</td>\n",
       "      <td>POLYGON ((104.77317 -2.99340, 104.77316 -2.993...</td>\n",
       "      <td>24.0</td>\n",
       "      <td>0.409127</td>\n",
       "      <td>7543.0</td>\n",
       "      <td>0.227913</td>\n",
       "      <td>33096.015996</td>\n",
       "      <td>11 Ulu</td>\n",
       "      <td>Seberang Ulu II</td>\n",
       "      <td>ID1671030</td>\n",
       "      <td>Kota Palembang</td>\n",
       "      <td>ID1671</td>\n",
       "      <td>Sumatera Selatan</td>\n",
       "      <td>ID16</td>\n",
       "      <td>Palembang</td>\n",
       "      <td>Palembang</td>\n",
       "    </tr>\n",
       "  </tbody>\n",
       "</table>\n",
       "</div>"
      ],
      "text/plain": [
       "     ADM4_PCODE                                           geometry   AGE  \\\n",
       "0  ID1671060006  POLYGON ((104.82248 -2.98102, 104.82165 -2.985...  26.0   \n",
       "1  ID1671020008  POLYGON ((104.75516 -3.01316, 104.75480 -3.013...  25.0   \n",
       "2  ID1671062001  POLYGON ((104.77081 -2.98185, 104.77082 -2.981...   NaN   \n",
       "3  ID1671062002  POLYGON ((104.77081 -2.98185, 104.77070 -2.981...   NaN   \n",
       "4  ID1671030014  POLYGON ((104.77317 -2.99340, 104.77316 -2.993...  24.0   \n",
       "\n",
       "   WEALTH_INDEX      POP  AREA_KM2      POP_DENS ADM4_EN          ADM3_EN  \\\n",
       "0      0.487570   5792.0  2.086247   2776.276967  1 Ilir    Ilir Timur II   \n",
       "1      0.499906  12058.0  0.209298  57611.629454   1 Ulu   Seberang Ulu I   \n",
       "2           NaN      NaN       NaN           NaN     NaN              NaN   \n",
       "3           NaN      NaN       NaN           NaN     NaN              NaN   \n",
       "4      0.409127   7543.0  0.227913  33096.015996  11 Ulu  Seberang Ulu II   \n",
       "\n",
       "  ADM3_PCODE         ADM2_EN ADM2_PCODE           ADM1_EN ADM1_PCODE  \\\n",
       "0  ID1671060  Kota Palembang     ID1671  Sumatera Selatan       ID16   \n",
       "1  ID1671020  Kota Palembang     ID1671  Sumatera Selatan       ID16   \n",
       "2        NaN             NaN        NaN               NaN        NaN   \n",
       "3        NaN             NaN        NaN               NaN        NaN   \n",
       "4  ID1671030  Kota Palembang     ID1671  Sumatera Selatan       ID16   \n",
       "\n",
       "    UC_NM_MN  UC_NM_LST  \n",
       "0  Palembang  Palembang  \n",
       "1  Palembang  Palembang  \n",
       "2  Palembang  Palembang  \n",
       "3  Palembang  Palembang  \n",
       "4  Palembang  Palembang  "
      ]
     },
     "execution_count": 14,
     "metadata": {},
     "output_type": "execute_result"
    }
   ],
   "source": [
    "df.head()"
   ]
  }
 ],
 "metadata": {
  "kernelspec": {
   "display_name": "Python 3",
   "language": "python",
   "name": "python3"
  },
  "language_info": {
   "codemirror_mode": {
    "name": "ipython",
    "version": 3
   },
   "file_extension": ".py",
   "mimetype": "text/x-python",
   "name": "python",
   "nbconvert_exporter": "python",
   "pygments_lexer": "ipython3",
   "version": "3.7.4"
  }
 },
 "nbformat": 4,
 "nbformat_minor": 4
}
