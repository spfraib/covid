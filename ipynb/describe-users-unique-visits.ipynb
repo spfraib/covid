{
 "cells": [
  {
   "cell_type": "code",
   "execution_count": 2,
   "metadata": {},
   "outputs": [],
   "source": [
    "import os\n",
    "from timeit import default_timer as timer\n",
    "import pandas as pd\n",
    "from datetime import datetime, timedelta\n",
    "from glob import glob\n",
    "from pathlib import Path\n",
    "import pandas as pd\n",
    "import numpy as np\n",
    "import geopandas as gpd"
   ]
  },
  {
   "cell_type": "code",
   "execution_count": 3,
   "metadata": {},
   "outputs": [],
   "source": [
    "path_to_data='/scratch/spf248/covid/data'\n",
    "start_date='01/01/2020'\n",
    "end_date='04/16/2020'\n",
    "source='cuebiq'\n",
    "country='ID'\n",
    "admin_id='ADM4_PCODE'\n",
    "city_id='UC_NM_MN'\n",
    "demographics=[\n",
    "'wealth_index',\n",
    "'population_density',\n",
    "]\n",
    "day=list(range(8,20))\n",
    "night=list(range(8))+list(range(20,24))\n",
    "q_days=0.5\n",
    "min_pings=20"
   ]
  },
  {
   "cell_type": "markdown",
   "metadata": {},
   "source": [
    "# Compute share of activity in unique neighborhoods"
   ]
  },
  {
   "cell_type": "code",
   "execution_count": 3,
   "metadata": {},
   "outputs": [],
   "source": [
    "def get_coords(df):\n",
    "    df['latitude']=df['point'].apply(lambda x:x['latitude'])\n",
    "    df['longitude']=df['point'].apply(lambda x:x['longitude'])\n",
    "    return df.drop('point',1)"
   ]
  },
  {
   "cell_type": "code",
   "execution_count": 4,
   "metadata": {},
   "outputs": [
    {
     "name": "stdout",
     "output_type": "stream",
     "text": [
      "Import\n",
      "Done in 134 sec\n"
     ]
    }
   ],
   "source": [
    "print('Import')\n",
    "start = timer()\n",
    "data_dirs=glob(os.path.join(path_to_data,source,'processed',country,'pings_geocoded','*'))\n",
    "pings_geocoded = pd.concat(\n",
    "    pd.read_parquet(parquet_file)\n",
    "    for data_dir in data_dirs for parquet_file in Path(data_dir).glob('*.parquet')\n",
    ")\n",
    "print(\"Done in\", round(timer()-start), \"sec\")  "
   ]
  },
  {
   "cell_type": "code",
   "execution_count": 5,
   "metadata": {
    "scrolled": true
   },
   "outputs": [
    {
     "name": "stdout",
     "output_type": "stream",
     "text": [
      "Process\n",
      "Done in 147 sec\n"
     ]
    }
   ],
   "source": [
    "print('Process')\n",
    "start = timer()\n",
    "pings_geocoded['date']=pd.to_datetime(pings_geocoded.time.dt.date)\n",
    "pings_geocoded['hour']=pings_geocoded.time.dt.hour\n",
    "print(\"Done in\", round(timer()-start), \"sec\")  "
   ]
  },
  {
   "cell_type": "code",
   "execution_count": 6,
   "metadata": {},
   "outputs": [
    {
     "name": "stdout",
     "output_type": "stream",
     "text": [
      "Count neighborhood visits\n",
      "Done in 1184 sec\n"
     ]
    }
   ],
   "source": [
    "print('Count neighborhood visits')\n",
    "start = timer()\n",
    "n_admin_date_id=pings_geocoded.groupby(['date','cuebiq_id'])[admin_id].agg(['nunique','count'])\n",
    "n_admin_daytime_id=pings_geocoded[pings_geocoded.hour.isin(day)].groupby(['date','cuebiq_id'])[admin_id].agg(['nunique','count'])\n",
    "n_admin_nighttime_id=pings_geocoded[pings_geocoded.hour.isin(night)].groupby(['date','cuebiq_id'])[admin_id].agg(['nunique','count'])\n",
    "print(\"Done in\", round(timer()-start), \"sec\")"
   ]
  },
  {
   "cell_type": "code",
   "execution_count": 80,
   "metadata": {},
   "outputs": [],
   "source": [
    "print('Process')\n",
    "start = timer()\n",
    "n_admin_date_id['pct_unique']=n_admin_date_id['nunique'].divide(n_admin_date_id['count'])\n",
    "n_admin_daytime_id['pct_unique']=n_admin_daytime_id['nunique'].divide(n_admin_daytime_id['count'])\n",
    "n_admin_nighttime_id['pct_unique']=n_admin_nighttime_id['nunique'].divide(n_admin_nighttime_id['count'])\n",
    "n_admin_date_id=n_admin_date_id[n_admin_date_id.index.get_level_values('date').isin(pd.date_range(start_date,end_date))].copy()\n",
    "n_admin_daytime_id=n_admin_daytime_id[n_admin_daytime_id.index.get_level_values('date').isin(pd.date_range(start_date,end_date))].copy()\n",
    "n_admin_nighttime_id=n_admin_nighttime_id[n_admin_nighttime_id.index.get_level_values('date').isin(pd.date_range(start_date,end_date))].copy()\n",
    "n_admin_date_id.rename(columns={'count':'n_pings'},inplace=True)\n",
    "n_admin_daytime_id.rename(columns={'count':'n_pings'},inplace=True)\n",
    "n_admin_nighttime_id.rename(columns={'count':'n_pings'},inplace=True)\n",
    "print(\"Done in\", round(timer()-start), \"sec\")"
   ]
  },
  {
   "cell_type": "code",
   "execution_count": 8,
   "metadata": {},
   "outputs": [
    {
     "name": "stdout",
     "output_type": "stream",
     "text": [
      "Save\n",
      "Done in 66 sec\n"
     ]
    }
   ],
   "source": [
    "print('Save')\n",
    "start = timer()\n",
    "n_admin_date_id.to_csv(os.path.join(path_to_data,source,'processed',country,'n_admin_date_id.csv'))\n",
    "n_admin_daytime_id.to_csv(os.path.join(path_to_data,source,'processed',country,'n_admin_daytime_id.csv'))\n",
    "n_admin_nighttime_id.to_csv(os.path.join(path_to_data,source,'processed',country,'n_admin_nighttime_id.csv'))\n",
    "print(\"Done in\", round(timer()-start), \"sec\")"
   ]
  },
  {
   "cell_type": "markdown",
   "metadata": {},
   "source": [
    "# Figures"
   ]
  }
 ],
 "metadata": {
  "kernelspec": {
   "display_name": "Python 3",
   "language": "python",
   "name": "python3"
  },
  "language_info": {
   "codemirror_mode": {
    "name": "ipython",
    "version": 3
   },
   "file_extension": ".py",
   "mimetype": "text/x-python",
   "name": "python",
   "nbconvert_exporter": "python",
   "pygments_lexer": "ipython3",
   "version": "3.7.4"
  }
 },
 "nbformat": 4,
 "nbformat_minor": 4
}
