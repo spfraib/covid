{
 "cells": [
  {
   "cell_type": "code",
   "execution_count": 1,
   "metadata": {},
   "outputs": [
    {
     "name": "stderr",
     "output_type": "stream",
     "text": [
      "/share/apps/anaconda3/2019.10/lib/python3.7/site-packages/statsmodels/tools/_testing.py:19: FutureWarning: pandas.util.testing is deprecated. Use the functions in the public API at pandas.testing instead.\n",
      "  import pandas.util.testing as tm\n"
     ]
    }
   ],
   "source": [
    "import os\n",
    "import matplotlib as mpl\n",
    "if os.environ.get('DISPLAY','') == '':\n",
    "    mpl.use('Agg')\n",
    "\n",
    "import matplotlib.pyplot as plt\n",
    "import seaborn as sns\n",
    "from glob import glob\n",
    "import pandas as pd\n",
    "from timeit import default_timer as timer\n",
    "\n",
    "from pyspark.sql import SparkSession\n",
    "from pyspark.sql.functions import udf,desc,row_number,col,year,month,dayofmonth,hour,dayofweek,to_timestamp,size,isnan,lit,date_format,to_timestamp,struct,expr,explode,collect_list\n",
    "from pyspark.sql.types import MapType, StringType, IntegerType, StructType, StructField, FloatType, ArrayType, DoubleType\n",
    "import pyspark.sql.functions as F\n",
    "from pyspark.sql import Window"
   ]
  },
  {
   "cell_type": "code",
   "execution_count": 2,
   "metadata": {},
   "outputs": [
    {
     "name": "stdout",
     "output_type": "stream",
     "text": [
      "Create Spark\n"
     ]
    }
   ],
   "source": [
    "try:\n",
    "    spark\n",
    "except NameError:\n",
    "    print('Create Spark')\n",
    "    spark=SparkSession.builder.appName(\"\").getOrCreate()"
   ]
  },
  {
   "cell_type": "code",
   "execution_count": 3,
   "metadata": {},
   "outputs": [],
   "source": [
    "source='cuebiq'\n",
    "country='US'\n",
    "cutoff_morning=8\n",
    "cutoff_night=22\n",
    "\n",
    "if os.getenv('CLUSTER')=='PRINCE':\n",
    "    path_to_data='/scratch/spf248/covid/data'\n",
    "    file_week='*00-099fe598-7adb-4411-b68c-a60d0c28cb7a-c000.snappy.parquet'\n",
    "    file_weekend='*00-54e95071-216b-4a7a-89f3-de881c0bf379-c000.snappy.parquet'\n",
    "    file_users='*0-ca003b73-1dea-4468-acde-e43360e39ed4-c000.snappy.parquet'\n",
    "else:\n",
    "    path_to_data='/user/spf248/covid/data'\n",
    "    file_week='*'\n",
    "    file_weekend='*'\n",
    "    file_users='*'"
   ]
  },
  {
   "cell_type": "markdown",
   "metadata": {},
   "source": [
    "# Distributions of Personal Hours"
   ]
  },
  {
   "cell_type": "code",
   "execution_count": 25,
   "metadata": {},
   "outputs": [],
   "source": [
    "# Personal Locations: 34273578\n",
    "# Users with personal locations: 21417460\n",
    "# Home detected: 20992177\n",
    "# Non-home locations: 13281401\n",
    "# Non-home locations: 11624061"
   ]
  },
  {
   "cell_type": "code",
   "execution_count": 4,
   "metadata": {},
   "outputs": [
    {
     "data": {
      "text/plain": [
       "DataFrame[cuebiq_id: string, n_days: bigint, device_type: float, n_pings: bigint]"
      ]
     },
     "execution_count": 4,
     "metadata": {},
     "output_type": "execute_result"
    }
   ],
   "source": [
    "users=spark.read.parquet(os.path.join(path_to_data,source,country,'users',file_users))\n",
    "users.cache()"
   ]
  },
  {
   "cell_type": "code",
   "execution_count": 5,
   "metadata": {},
   "outputs": [
    {
     "data": {
      "text/plain": [
       "DataFrame[cuebiq_id: string, point: struct<longitude:float,latitude:float>, hour: int, count: bigint]"
      ]
     },
     "execution_count": 5,
     "metadata": {},
     "output_type": "execute_result"
    }
   ],
   "source": [
    "personal_week=spark.read.parquet(os.path.join(path_to_data,source,country,'personal_week',file_week))\n",
    "personal_week.cache()\n",
    "personal_weekend=spark.read.parquet(os.path.join(path_to_data,source,country,'personal_weekend',file_weekend))\n",
    "personal_weekend.cache()"
   ]
  },
  {
   "cell_type": "code",
   "execution_count": 6,
   "metadata": {},
   "outputs": [],
   "source": [
    "personal_counts=(personal_week.unionByName(personal_weekend)).groupby(\n",
    "'cuebiq_id','point').agg({'count':'sum'}).withColumnRenamed('sum(count)','count')\n",
    "print('# Personal Locations:',personal_counts.count())#34273578\n",
    "\n",
    "users=users.join(personal_counts.groupby('cuebiq_id').count().withColumnRenamed(\n",
    "'count','n_personal'),on='cuebiq_id')\n",
    "print('# Users with personal locations:',users.count())#21417460"
   ]
  },
  {
   "cell_type": "code",
   "execution_count": 12,
   "metadata": {},
   "outputs": [],
   "source": [
    "personal_hours=personal_week.unionByName(personal_weekend)\n",
    "\n",
    "personal_night=personal_hours.filter(\n",
    "(personal_hours['hour']<=cutoff_morning)|(personal_hours['hour']>=cutoff_night)).groupby(\n",
    "'cuebiq_id','point').agg({'count':'sum'}).withColumnRenamed('sum(count)','count')\n",
    "\n",
    "personal_night_max=personal_night.groupby('cuebiq_id').agg(\n",
    "{'count':'max'}).withColumnRenamed('max(count)','count')\n",
    "\n",
    "personal_home=personal_night.join(\n",
    "personal_night_max,on=['cuebiq_id','count']).drop_duplicates(\n",
    "subset=['cuebiq_id','count']).select('cuebiq_id','point')\n",
    "print('# Home detected:',personal_home.count())#21091919\n",
    "\n",
    "personal_home.write.mode(\"overwrite\").parquet(os.path.join(path_to_data,source,country,'personal_home'))"
   ]
  },
  {
   "cell_type": "code",
   "execution_count": 52,
   "metadata": {},
   "outputs": [],
   "source": [
    "personal_other=personal_counts.join(personal_home,on=['cuebiq_id','point'],how='left_anti')\n",
    "print('# Non-home locations:',personal_other.count())#13181659\n",
    "\n",
    "personal_most_freq_other=personal_other.groupby('cuebiq_id').agg(\n",
    "{'count':'max'}).withColumnRenamed('max(count)','count')\n",
    "\n",
    "personal_secondary=personal_other.join(\n",
    "personal_most_freq_other,on=['cuebiq_id','count']).drop_duplicates(\n",
    "subset=['cuebiq_id','count']).select('cuebiq_id','point')\n",
    "print('# Non-home locations:',personal_secondary.count())#11529108\n",
    "\n",
    "personal_secondary.write.mode(\"overwrite\").parquet(os.path.join(path_to_data,source,country,'personal_secondary'))"
   ]
  },
  {
   "cell_type": "code",
   "execution_count": null,
   "metadata": {},
   "outputs": [],
   "source": [
    "hours_week={}\n",
    "hours_weekend={}\n",
    "\n",
    "for personal_value in range(1,4):\n",
    "    \n",
    "    print('Personal Value:', personal_value)\n",
    "    \n",
    "    for device_type in [0,1]:\n",
    "        \n",
    "        print('Device:', device_type)\n",
    "    \n",
    "        hours_week[(personal_value,device_type)]=(personal_week.join(users.filter(users['n_personal']==personal_value).filter(users['device_type']==device_type),on='cuebiq_id')).groupby('hour').agg({'count':'sum'}).withColumnRenamed('sum(count)','count')\n",
    "        \n",
    "        hours_week[(personal_value,device_type)].write.mode(\"overwrite\").parquet(os.path.join(path_to_data,source,country,'personal_hours','week',str(personal_value),str(device_type)))\n",
    "\n",
    "        hours_weekend[(personal_value,device_type)]=(personal_weekend.join(users.filter(users['n_personal']==personal_value).filter(users['device_type']==device_type),on='cuebiq_id')).groupby('hour').agg({'count':'sum'}).withColumnRenamed('sum(count)','count')\n",
    "        \n",
    "        hours_weekend[(personal_value,device_type)].write.mode(\"overwrite\").parquet(os.path.join(path_to_data,source,country,'personal_hours','weekend',str(personal_value),str(device_type)))"
   ]
  },
  {
   "cell_type": "code",
   "execution_count": null,
   "metadata": {},
   "outputs": [],
   "source": [
    "hours_week={}\n",
    "hours_weekend={}\n",
    "\n",
    "for personal_value in range(1,4):\n",
    "    \n",
    "    print('Personal Value:', personal_value)\n",
    "    \n",
    "    for device_type in [0,1]:\n",
    "        \n",
    "        print('Device:', device_type)\n",
    "    \n",
    "        for (location_name,location_type) in zip(['home','secondary'],[personal_home,personal_secondary]):\n",
    "            \n",
    "            print('Location:', location_name)\n",
    "            \n",
    "            hours_week[(personal_value,device_type,location_name)]=((personal_week.join(users.filter(users['n_personal']==personal_value).filter(users['device_type']==device_type),on='cuebiq_id')).join(location_type,on=['cuebiq_id','point'])).groupby('hour').agg({'count':'sum'}).withColumnRenamed('sum(count)','count')\n",
    "            \n",
    "            hours_week[(personal_value,device_type,location_name)].write.mode(\"overwrite\").parquet(os.path.join(path_to_data,source,country,'personal_hours','week',str(personal_value),str(device_type),location_name))\n",
    "\n",
    "            hours_weekend[(personal_value,device_type,location_name)]=((personal_weekend.join(users.filter(users['n_personal']==personal_value).filter(users['device_type']==device_type),on='cuebiq_id')).join(location_type,on=['cuebiq_id','point'])).groupby('hour').agg({'count':'sum'}).withColumnRenamed('sum(count)','count')\n",
    "            \n",
    "            hours_weekend[(personal_value,device_type,location_name)].write.mode(\"overwrite\").parquet(os.path.join(path_to_data,source,country,'personal_hours','weekend',str(personal_value),str(device_type),location_name))"
   ]
  },
  {
   "cell_type": "markdown",
   "metadata": {},
   "source": [
    "# Load and Plots"
   ]
  },
  {
   "cell_type": "code",
   "execution_count": 20,
   "metadata": {},
   "outputs": [
    {
     "name": "stdout",
     "output_type": "stream",
     "text": [
      "Personal Value: 1\n",
      "Device: 0\n",
      "Device: 1\n",
      "Personal Value: 2\n",
      "Device: 0\n",
      "Device: 1\n",
      "Personal Value: 3\n",
      "Device: 0\n",
      "Device: 1\n"
     ]
    }
   ],
   "source": [
    "hours_week={}\n",
    "hours_weekend={}\n",
    "\n",
    "for personal_value in range(1,4):\n",
    "    \n",
    "    print('Personal Value:', personal_value)\n",
    "    \n",
    "    for device_type in [0,1]:\n",
    "        \n",
    "        print('Device:', device_type)\n",
    "    \n",
    "        hours_week[(personal_value,device_type)]=spark.read.parquet(os.path.join(path_to_data,source,country,'personal_hours','week',str(personal_value),str(device_type))).toPandas()\n",
    "\n",
    "        hours_weekend[(personal_value,device_type)]=spark.read.parquet(os.path.join(path_to_data,source,country,'personal_hours','weekend',str(personal_value),str(device_type))).toPandas()"
   ]
  },
  {
   "cell_type": "code",
   "execution_count": 21,
   "metadata": {},
   "outputs": [
    {
     "name": "stdout",
     "output_type": "stream",
     "text": [
      "Personal Value: 1\n",
      "Device: 0\n"
     ]
    },
    {
     "name": "stderr",
     "output_type": "stream",
     "text": [
      "/scratch/spf248/pyenv/py3.7/lib/python3.7/site-packages/ipykernel_launcher.py:9: RuntimeWarning: More than 20 figures have been opened. Figures created through the pyplot interface (`matplotlib.pyplot.figure`) are retained until explicitly closed and may consume too much memory. (To control this warning, see the rcParam `figure.max_open_warning`).\n",
      "  if __name__ == '__main__':\n",
      "/scratch/spf248/pyenv/py3.7/lib/python3.7/site-packages/ipykernel_launcher.py:17: RuntimeWarning: More than 20 figures have been opened. Figures created through the pyplot interface (`matplotlib.pyplot.figure`) are retained until explicitly closed and may consume too much memory. (To control this warning, see the rcParam `figure.max_open_warning`).\n"
     ]
    },
    {
     "name": "stdout",
     "output_type": "stream",
     "text": [
      "Device: 1\n"
     ]
    },
    {
     "name": "stderr",
     "output_type": "stream",
     "text": [
      "/scratch/spf248/pyenv/py3.7/lib/python3.7/site-packages/ipykernel_launcher.py:9: RuntimeWarning: More than 20 figures have been opened. Figures created through the pyplot interface (`matplotlib.pyplot.figure`) are retained until explicitly closed and may consume too much memory. (To control this warning, see the rcParam `figure.max_open_warning`).\n",
      "  if __name__ == '__main__':\n",
      "/scratch/spf248/pyenv/py3.7/lib/python3.7/site-packages/ipykernel_launcher.py:17: RuntimeWarning: More than 20 figures have been opened. Figures created through the pyplot interface (`matplotlib.pyplot.figure`) are retained until explicitly closed and may consume too much memory. (To control this warning, see the rcParam `figure.max_open_warning`).\n"
     ]
    },
    {
     "name": "stdout",
     "output_type": "stream",
     "text": [
      "Personal Value: 2\n",
      "Device: 0\n"
     ]
    },
    {
     "name": "stderr",
     "output_type": "stream",
     "text": [
      "/scratch/spf248/pyenv/py3.7/lib/python3.7/site-packages/ipykernel_launcher.py:9: RuntimeWarning: More than 20 figures have been opened. Figures created through the pyplot interface (`matplotlib.pyplot.figure`) are retained until explicitly closed and may consume too much memory. (To control this warning, see the rcParam `figure.max_open_warning`).\n",
      "  if __name__ == '__main__':\n",
      "/scratch/spf248/pyenv/py3.7/lib/python3.7/site-packages/ipykernel_launcher.py:17: RuntimeWarning: More than 20 figures have been opened. Figures created through the pyplot interface (`matplotlib.pyplot.figure`) are retained until explicitly closed and may consume too much memory. (To control this warning, see the rcParam `figure.max_open_warning`).\n"
     ]
    },
    {
     "name": "stdout",
     "output_type": "stream",
     "text": [
      "Device: 1\n"
     ]
    },
    {
     "name": "stderr",
     "output_type": "stream",
     "text": [
      "/scratch/spf248/pyenv/py3.7/lib/python3.7/site-packages/ipykernel_launcher.py:9: RuntimeWarning: More than 20 figures have been opened. Figures created through the pyplot interface (`matplotlib.pyplot.figure`) are retained until explicitly closed and may consume too much memory. (To control this warning, see the rcParam `figure.max_open_warning`).\n",
      "  if __name__ == '__main__':\n",
      "/scratch/spf248/pyenv/py3.7/lib/python3.7/site-packages/ipykernel_launcher.py:17: RuntimeWarning: More than 20 figures have been opened. Figures created through the pyplot interface (`matplotlib.pyplot.figure`) are retained until explicitly closed and may consume too much memory. (To control this warning, see the rcParam `figure.max_open_warning`).\n"
     ]
    },
    {
     "name": "stdout",
     "output_type": "stream",
     "text": [
      "Personal Value: 3\n",
      "Device: 0\n"
     ]
    },
    {
     "name": "stderr",
     "output_type": "stream",
     "text": [
      "/scratch/spf248/pyenv/py3.7/lib/python3.7/site-packages/ipykernel_launcher.py:9: RuntimeWarning: More than 20 figures have been opened. Figures created through the pyplot interface (`matplotlib.pyplot.figure`) are retained until explicitly closed and may consume too much memory. (To control this warning, see the rcParam `figure.max_open_warning`).\n",
      "  if __name__ == '__main__':\n",
      "/scratch/spf248/pyenv/py3.7/lib/python3.7/site-packages/ipykernel_launcher.py:17: RuntimeWarning: More than 20 figures have been opened. Figures created through the pyplot interface (`matplotlib.pyplot.figure`) are retained until explicitly closed and may consume too much memory. (To control this warning, see the rcParam `figure.max_open_warning`).\n"
     ]
    },
    {
     "name": "stdout",
     "output_type": "stream",
     "text": [
      "Device: 1\n"
     ]
    },
    {
     "name": "stderr",
     "output_type": "stream",
     "text": [
      "/scratch/spf248/pyenv/py3.7/lib/python3.7/site-packages/ipykernel_launcher.py:9: RuntimeWarning: More than 20 figures have been opened. Figures created through the pyplot interface (`matplotlib.pyplot.figure`) are retained until explicitly closed and may consume too much memory. (To control this warning, see the rcParam `figure.max_open_warning`).\n",
      "  if __name__ == '__main__':\n",
      "/scratch/spf248/pyenv/py3.7/lib/python3.7/site-packages/ipykernel_launcher.py:17: RuntimeWarning: More than 20 figures have been opened. Figures created through the pyplot interface (`matplotlib.pyplot.figure`) are retained until explicitly closed and may consume too much memory. (To control this warning, see the rcParam `figure.max_open_warning`).\n"
     ]
    }
   ],
   "source": [
    "for personal_value in range(1,4):\n",
    "    \n",
    "    print('Personal Value:', personal_value)\n",
    "    \n",
    "    for device_type in [0,1]:\n",
    "        \n",
    "        print('Device:', device_type)\n",
    "    \n",
    "        fig,ax=plt.subplots(figsize=(8,5))\n",
    "        hours_week[(personal_value,device_type)].set_index('hour')['count'].sort_index().plot(ax=ax,kind='bar',color='k')\n",
    "        ax.tick_params(which='both',direction='in',pad=3)\n",
    "        plt.xticks(rotation=0)\n",
    "        ax.set_xlabel('Hour at Personal Location')\n",
    "        ax.set_ylabel('Number of Pings')\n",
    "        plt.savefig(os.path.join(path_to_data+'/../fig','hours-week-'+str(personal_value)+'-personal-device-'+str(device_type)+'.pdf'),bbox_inches='tight')\n",
    "\n",
    "        fig,ax=plt.subplots(figsize=(8,5))\n",
    "        hours_weekend[(personal_value,device_type)].set_index('hour')['count'].sort_index().plot(ax=ax,kind='bar',color='k')\n",
    "        ax.tick_params(which='both',direction='in',pad=3)\n",
    "        plt.xticks(rotation=0)\n",
    "        ax.set_xlabel('Hour at Personal Location')\n",
    "        ax.set_ylabel('Number of Pings')\n",
    "        plt.savefig(os.path.join(path_to_data+'/../fig','hours-weekend-'+str(personal_value)+'-personal-device-'+str(device_type)+'.pdf'),bbox_inches='tight')"
   ]
  },
  {
   "cell_type": "code",
   "execution_count": 22,
   "metadata": {},
   "outputs": [
    {
     "name": "stdout",
     "output_type": "stream",
     "text": [
      "Personal Value: 1\n",
      "Device: 0\n",
      "Location: home\n",
      "Location: secondary\n",
      "Device: 1\n",
      "Location: home\n",
      "Location: secondary\n",
      "Personal Value: 2\n",
      "Device: 0\n",
      "Location: home\n",
      "Location: secondary\n",
      "Device: 1\n",
      "Location: home\n",
      "Location: secondary\n"
     ]
    }
   ],
   "source": [
    "hours_week={}\n",
    "hours_weekend={}\n",
    "\n",
    "for personal_value in range(1,3):\n",
    "    \n",
    "    print('Personal Value:', personal_value)\n",
    "    \n",
    "    for device_type in [0,1]:\n",
    "        \n",
    "        print('Device:', device_type)\n",
    "        \n",
    "        for location_name in ['home','secondary']:\n",
    "            \n",
    "            print('Location:', location_name)\n",
    "            \n",
    "            hours_week[(personal_value,device_type,location_name)]=spark.read.parquet(os.path.join(path_to_data,source,country,'personal_hours','week',str(personal_value),str(device_type),location_name)).toPandas()\n",
    "\n",
    "            hours_weekend[(personal_value,device_type,location_name)]=spark.read.parquet(os.path.join(path_to_data,source,country,'personal_hours','weekend',str(personal_value),str(device_type),location_name)).toPandas()"
   ]
  },
  {
   "cell_type": "code",
   "execution_count": 24,
   "metadata": {
    "scrolled": false
   },
   "outputs": [
    {
     "name": "stdout",
     "output_type": "stream",
     "text": [
      "Personal Value: 1\n",
      "Device: 0\n",
      "Location: home\n"
     ]
    },
    {
     "name": "stderr",
     "output_type": "stream",
     "text": [
      "/scratch/spf248/pyenv/py3.7/lib/python3.7/site-packages/ipykernel_launcher.py:13: RuntimeWarning: More than 20 figures have been opened. Figures created through the pyplot interface (`matplotlib.pyplot.figure`) are retained until explicitly closed and may consume too much memory. (To control this warning, see the rcParam `figure.max_open_warning`).\n",
      "  del sys.path[0]\n",
      "/scratch/spf248/pyenv/py3.7/lib/python3.7/site-packages/ipykernel_launcher.py:21: RuntimeWarning: More than 20 figures have been opened. Figures created through the pyplot interface (`matplotlib.pyplot.figure`) are retained until explicitly closed and may consume too much memory. (To control this warning, see the rcParam `figure.max_open_warning`).\n"
     ]
    },
    {
     "name": "stdout",
     "output_type": "stream",
     "text": [
      "Location: secondary\n"
     ]
    },
    {
     "name": "stderr",
     "output_type": "stream",
     "text": [
      "/scratch/spf248/pyenv/py3.7/lib/python3.7/site-packages/ipykernel_launcher.py:13: RuntimeWarning: More than 20 figures have been opened. Figures created through the pyplot interface (`matplotlib.pyplot.figure`) are retained until explicitly closed and may consume too much memory. (To control this warning, see the rcParam `figure.max_open_warning`).\n",
      "  del sys.path[0]\n",
      "/scratch/spf248/pyenv/py3.7/lib/python3.7/site-packages/ipykernel_launcher.py:21: RuntimeWarning: More than 20 figures have been opened. Figures created through the pyplot interface (`matplotlib.pyplot.figure`) are retained until explicitly closed and may consume too much memory. (To control this warning, see the rcParam `figure.max_open_warning`).\n"
     ]
    },
    {
     "name": "stdout",
     "output_type": "stream",
     "text": [
      "Device: 1\n",
      "Location: home\n"
     ]
    },
    {
     "name": "stderr",
     "output_type": "stream",
     "text": [
      "/scratch/spf248/pyenv/py3.7/lib/python3.7/site-packages/ipykernel_launcher.py:13: RuntimeWarning: More than 20 figures have been opened. Figures created through the pyplot interface (`matplotlib.pyplot.figure`) are retained until explicitly closed and may consume too much memory. (To control this warning, see the rcParam `figure.max_open_warning`).\n",
      "  del sys.path[0]\n",
      "/scratch/spf248/pyenv/py3.7/lib/python3.7/site-packages/ipykernel_launcher.py:21: RuntimeWarning: More than 20 figures have been opened. Figures created through the pyplot interface (`matplotlib.pyplot.figure`) are retained until explicitly closed and may consume too much memory. (To control this warning, see the rcParam `figure.max_open_warning`).\n"
     ]
    },
    {
     "name": "stdout",
     "output_type": "stream",
     "text": [
      "Location: secondary\n"
     ]
    },
    {
     "name": "stderr",
     "output_type": "stream",
     "text": [
      "/scratch/spf248/pyenv/py3.7/lib/python3.7/site-packages/ipykernel_launcher.py:13: RuntimeWarning: More than 20 figures have been opened. Figures created through the pyplot interface (`matplotlib.pyplot.figure`) are retained until explicitly closed and may consume too much memory. (To control this warning, see the rcParam `figure.max_open_warning`).\n",
      "  del sys.path[0]\n",
      "/scratch/spf248/pyenv/py3.7/lib/python3.7/site-packages/ipykernel_launcher.py:21: RuntimeWarning: More than 20 figures have been opened. Figures created through the pyplot interface (`matplotlib.pyplot.figure`) are retained until explicitly closed and may consume too much memory. (To control this warning, see the rcParam `figure.max_open_warning`).\n"
     ]
    },
    {
     "name": "stdout",
     "output_type": "stream",
     "text": [
      "Personal Value: 2\n",
      "Device: 0\n",
      "Location: home\n"
     ]
    },
    {
     "name": "stderr",
     "output_type": "stream",
     "text": [
      "/scratch/spf248/pyenv/py3.7/lib/python3.7/site-packages/ipykernel_launcher.py:13: RuntimeWarning: More than 20 figures have been opened. Figures created through the pyplot interface (`matplotlib.pyplot.figure`) are retained until explicitly closed and may consume too much memory. (To control this warning, see the rcParam `figure.max_open_warning`).\n",
      "  del sys.path[0]\n",
      "/scratch/spf248/pyenv/py3.7/lib/python3.7/site-packages/ipykernel_launcher.py:21: RuntimeWarning: More than 20 figures have been opened. Figures created through the pyplot interface (`matplotlib.pyplot.figure`) are retained until explicitly closed and may consume too much memory. (To control this warning, see the rcParam `figure.max_open_warning`).\n"
     ]
    },
    {
     "name": "stdout",
     "output_type": "stream",
     "text": [
      "Location: secondary\n"
     ]
    },
    {
     "name": "stderr",
     "output_type": "stream",
     "text": [
      "/scratch/spf248/pyenv/py3.7/lib/python3.7/site-packages/ipykernel_launcher.py:13: RuntimeWarning: More than 20 figures have been opened. Figures created through the pyplot interface (`matplotlib.pyplot.figure`) are retained until explicitly closed and may consume too much memory. (To control this warning, see the rcParam `figure.max_open_warning`).\n",
      "  del sys.path[0]\n",
      "/scratch/spf248/pyenv/py3.7/lib/python3.7/site-packages/ipykernel_launcher.py:21: RuntimeWarning: More than 20 figures have been opened. Figures created through the pyplot interface (`matplotlib.pyplot.figure`) are retained until explicitly closed and may consume too much memory. (To control this warning, see the rcParam `figure.max_open_warning`).\n"
     ]
    },
    {
     "name": "stdout",
     "output_type": "stream",
     "text": [
      "Device: 1\n",
      "Location: home\n"
     ]
    },
    {
     "name": "stderr",
     "output_type": "stream",
     "text": [
      "/scratch/spf248/pyenv/py3.7/lib/python3.7/site-packages/ipykernel_launcher.py:13: RuntimeWarning: More than 20 figures have been opened. Figures created through the pyplot interface (`matplotlib.pyplot.figure`) are retained until explicitly closed and may consume too much memory. (To control this warning, see the rcParam `figure.max_open_warning`).\n",
      "  del sys.path[0]\n",
      "/scratch/spf248/pyenv/py3.7/lib/python3.7/site-packages/ipykernel_launcher.py:21: RuntimeWarning: More than 20 figures have been opened. Figures created through the pyplot interface (`matplotlib.pyplot.figure`) are retained until explicitly closed and may consume too much memory. (To control this warning, see the rcParam `figure.max_open_warning`).\n"
     ]
    },
    {
     "name": "stdout",
     "output_type": "stream",
     "text": [
      "Location: secondary\n"
     ]
    },
    {
     "name": "stderr",
     "output_type": "stream",
     "text": [
      "/scratch/spf248/pyenv/py3.7/lib/python3.7/site-packages/ipykernel_launcher.py:13: RuntimeWarning: More than 20 figures have been opened. Figures created through the pyplot interface (`matplotlib.pyplot.figure`) are retained until explicitly closed and may consume too much memory. (To control this warning, see the rcParam `figure.max_open_warning`).\n",
      "  del sys.path[0]\n",
      "/scratch/spf248/pyenv/py3.7/lib/python3.7/site-packages/ipykernel_launcher.py:21: RuntimeWarning: More than 20 figures have been opened. Figures created through the pyplot interface (`matplotlib.pyplot.figure`) are retained until explicitly closed and may consume too much memory. (To control this warning, see the rcParam `figure.max_open_warning`).\n"
     ]
    },
    {
     "name": "stdout",
     "output_type": "stream",
     "text": [
      "Personal Value: 3\n",
      "Device: 0\n",
      "Location: home\n"
     ]
    },
    {
     "name": "stderr",
     "output_type": "stream",
     "text": [
      "/scratch/spf248/pyenv/py3.7/lib/python3.7/site-packages/ipykernel_launcher.py:13: RuntimeWarning: More than 20 figures have been opened. Figures created through the pyplot interface (`matplotlib.pyplot.figure`) are retained until explicitly closed and may consume too much memory. (To control this warning, see the rcParam `figure.max_open_warning`).\n",
      "  del sys.path[0]\n"
     ]
    },
    {
     "ename": "KeyError",
     "evalue": "(3, 0, 'home')",
     "output_type": "error",
     "traceback": [
      "\u001b[0;31m---------------------------------------------------------------------------\u001b[0m",
      "\u001b[0;31mKeyError\u001b[0m                                  Traceback (most recent call last)",
      "\u001b[0;32m<ipython-input-24-4520913e5365>\u001b[0m in \u001b[0;36m<module>\u001b[0;34m\u001b[0m\n\u001b[1;32m     12\u001b[0m \u001b[0;34m\u001b[0m\u001b[0m\n\u001b[1;32m     13\u001b[0m             \u001b[0mfig\u001b[0m\u001b[0;34m,\u001b[0m\u001b[0max\u001b[0m\u001b[0;34m=\u001b[0m\u001b[0mplt\u001b[0m\u001b[0;34m.\u001b[0m\u001b[0msubplots\u001b[0m\u001b[0;34m(\u001b[0m\u001b[0mfigsize\u001b[0m\u001b[0;34m=\u001b[0m\u001b[0;34m(\u001b[0m\u001b[0;36m8\u001b[0m\u001b[0;34m,\u001b[0m\u001b[0;36m5\u001b[0m\u001b[0;34m)\u001b[0m\u001b[0;34m)\u001b[0m\u001b[0;34m\u001b[0m\u001b[0;34m\u001b[0m\u001b[0m\n\u001b[0;32m---> 14\u001b[0;31m             \u001b[0mhours_week\u001b[0m\u001b[0;34m[\u001b[0m\u001b[0;34m(\u001b[0m\u001b[0mpersonal_value\u001b[0m\u001b[0;34m,\u001b[0m\u001b[0mdevice_type\u001b[0m\u001b[0;34m,\u001b[0m\u001b[0mlocation_name\u001b[0m\u001b[0;34m)\u001b[0m\u001b[0;34m]\u001b[0m\u001b[0;34m.\u001b[0m\u001b[0mset_index\u001b[0m\u001b[0;34m(\u001b[0m\u001b[0;34m'hour'\u001b[0m\u001b[0;34m)\u001b[0m\u001b[0;34m[\u001b[0m\u001b[0;34m'count'\u001b[0m\u001b[0;34m]\u001b[0m\u001b[0;34m.\u001b[0m\u001b[0msort_index\u001b[0m\u001b[0;34m(\u001b[0m\u001b[0;34m)\u001b[0m\u001b[0;34m.\u001b[0m\u001b[0mplot\u001b[0m\u001b[0;34m(\u001b[0m\u001b[0max\u001b[0m\u001b[0;34m=\u001b[0m\u001b[0max\u001b[0m\u001b[0;34m,\u001b[0m\u001b[0mkind\u001b[0m\u001b[0;34m=\u001b[0m\u001b[0;34m'bar'\u001b[0m\u001b[0;34m,\u001b[0m\u001b[0mcolor\u001b[0m\u001b[0;34m=\u001b[0m\u001b[0;34m'k'\u001b[0m\u001b[0;34m)\u001b[0m\u001b[0;34m\u001b[0m\u001b[0;34m\u001b[0m\u001b[0m\n\u001b[0m\u001b[1;32m     15\u001b[0m             \u001b[0max\u001b[0m\u001b[0;34m.\u001b[0m\u001b[0mtick_params\u001b[0m\u001b[0;34m(\u001b[0m\u001b[0mwhich\u001b[0m\u001b[0;34m=\u001b[0m\u001b[0;34m'both'\u001b[0m\u001b[0;34m,\u001b[0m\u001b[0mdirection\u001b[0m\u001b[0;34m=\u001b[0m\u001b[0;34m'in'\u001b[0m\u001b[0;34m,\u001b[0m\u001b[0mpad\u001b[0m\u001b[0;34m=\u001b[0m\u001b[0;36m3\u001b[0m\u001b[0;34m)\u001b[0m\u001b[0;34m\u001b[0m\u001b[0;34m\u001b[0m\u001b[0m\n\u001b[1;32m     16\u001b[0m             \u001b[0mplt\u001b[0m\u001b[0;34m.\u001b[0m\u001b[0mxticks\u001b[0m\u001b[0;34m(\u001b[0m\u001b[0mrotation\u001b[0m\u001b[0;34m=\u001b[0m\u001b[0;36m0\u001b[0m\u001b[0;34m)\u001b[0m\u001b[0;34m\u001b[0m\u001b[0;34m\u001b[0m\u001b[0m\n",
      "\u001b[0;31mKeyError\u001b[0m: (3, 0, 'home')"
     ]
    }
   ],
   "source": [
    "for personal_value in range(1,4):\n",
    "    \n",
    "    print('Personal Value:', personal_value)\n",
    "    \n",
    "    for device_type in [0,1]:\n",
    "        \n",
    "        print('Device:', device_type)\n",
    "        \n",
    "        for location_name in ['home','secondary']:\n",
    "            \n",
    "            print('Location:', location_name)\n",
    "\n",
    "            fig,ax=plt.subplots(figsize=(8,5))\n",
    "            hours_week[(personal_value,device_type,location_name)].set_index('hour')['count'].sort_index().plot(ax=ax,kind='bar',color='k')\n",
    "            ax.tick_params(which='both',direction='in',pad=3)\n",
    "            plt.xticks(rotation=0)\n",
    "            ax.set_xlabel('Hour at Personal Location')\n",
    "            ax.set_ylabel('Number of Pings')\n",
    "            plt.savefig(os.path.join(path_to_data+'/../fig','hours-week-'+str(personal_value)+'-personal-device-'+str(device_type)+'-'+str(location_name)+'.pdf'),bbox_inches='tight')\n",
    "\n",
    "            fig,ax=plt.subplots(figsize=(8,5))\n",
    "            hours_weekend[(personal_value,device_type,location_name)].set_index('hour')['count'].sort_index().plot(ax=ax,kind='bar',color='k')\n",
    "            ax.tick_params(which='both',direction='in',pad=3)\n",
    "            plt.xticks(rotation=0)\n",
    "            ax.set_xlabel('Hour at Personal Location')\n",
    "            ax.set_ylabel('Number of Pings')\n",
    "            plt.savefig(os.path.join(path_to_data+'/../fig','hours-weekend-'+str(personal_value)+'-personal-device-'+str(device_type)+'-'+str(location_name)+'.pdf'),bbox_inches='tight')"
   ]
  },
  {
   "cell_type": "code",
   "execution_count": null,
   "metadata": {},
   "outputs": [],
   "source": []
  }
 ],
 "metadata": {
  "kernelspec": {
   "display_name": "Python 3",
   "language": "python",
   "name": "python3"
  },
  "language_info": {
   "codemirror_mode": {
    "name": "ipython",
    "version": 3
   },
   "file_extension": ".py",
   "mimetype": "text/x-python",
   "name": "python",
   "nbconvert_exporter": "python",
   "pygments_lexer": "ipython3",
   "version": "3.7.4"
  }
 },
 "nbformat": 4,
 "nbformat_minor": 4
}
