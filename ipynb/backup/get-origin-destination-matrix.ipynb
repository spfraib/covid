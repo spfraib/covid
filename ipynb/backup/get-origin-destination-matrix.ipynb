{
 "cells": [
  {
   "cell_type": "code",
   "execution_count": null,
   "metadata": {},
   "outputs": [],
   "source": [
    "import os\n",
    "from timeit import default_timer as timer\n",
    "import pandas as pd\n",
    "from datetime import datetime, timedelta\n",
    "from glob import glob\n",
    "from pathlib import Path\n",
    "import pandas as pd\n",
    "import numpy as np"
   ]
  },
  {
   "cell_type": "code",
   "execution_count": null,
   "metadata": {},
   "outputs": [],
   "source": [
    "path_to_data='/scratch/spf248/covid/data'\n",
    "start_date='01/01/2020'\n",
    "end_date='04/16/2020'\n",
    "source='cuebiq'\n",
    "country='ID'\n",
    "admin_id='ADM4_PCODE'\n",
    "city_id='UC_NM_MN'\n",
    "city_name='Jakarta'"
   ]
  },
  {
   "cell_type": "markdown",
   "metadata": {},
   "source": [
    "# Import Data"
   ]
  },
  {
   "cell_type": "code",
   "execution_count": null,
   "metadata": {},
   "outputs": [],
   "source": [
    "print('Import')\n",
    "start = timer()\n",
    "data_dirs=glob(os.path.join(path_to_data,source,'processed',country,'pings_geocoded','*'))\n",
    "pings_geocoded=pd.concat(\n",
    "    pd.read_parquet(parquet_file)\n",
    "    for data_dir in data_dirs for parquet_file in Path(data_dir).glob('*.parquet')\n",
    ")\n",
    "print(\"Done in\", round(timer()-start), \"sec\")  "
   ]
  },
  {
   "cell_type": "code",
   "execution_count": null,
   "metadata": {},
   "outputs": [],
   "source": [
    "print('Import')\n",
    "start = timer()\n",
    "admin2city=pd.read_excel(os.path.join(path_to_data,'admin',country,'city2adminGHSL.xlsx'))[[city_id,admin_id]].drop_duplicates(admin_id)\n",
    "print(\"Done in\", round(timer()-start), \"sec\")  "
   ]
  },
  {
   "cell_type": "markdown",
   "metadata": {},
   "source": [
    "# Data processing"
   ]
  },
  {
   "cell_type": "code",
   "execution_count": null,
   "metadata": {},
   "outputs": [],
   "source": [
    "print('Process')\n",
    "start = timer()\n",
    "pings_geocoded['date']=pd.to_datetime(pings_geocoded.time.dt.date)\n",
    "print(\"Done in\", round(timer()-start), \"sec\")  "
   ]
  },
  {
   "cell_type": "code",
   "execution_count": null,
   "metadata": {},
   "outputs": [],
   "source": [
    "print('Select pings within city')\n",
    "start = timer()\n",
    "pings_city=pings_geocoded.merge(admin2city[admin2city[city_id]==city_name])[['time','date','cuebiq_id',admin_id]]\n",
    "print(\"Done in\", round(timer()-start), \"sec\")"
   ]
  },
  {
   "cell_type": "code",
   "execution_count": null,
   "metadata": {},
   "outputs": [],
   "source": [
    "print('Process')\n",
    "start = timer()\n",
    "pings_city=pings_city[(pings_city.date>=pd.to_datetime(start_date))&(pings_city.date<=pd.to_datetime(end_date))].copy()\n",
    "pings_city.sort_values(by=['cuebiq_id','time'],inplace=True)\n",
    "pings_city.drop('time',1,inplace=True)\n",
    "print(\"Done in\", round(timer()-start), \"sec\")"
   ]
  },
  {
   "cell_type": "markdown",
   "metadata": {},
   "source": [
    "# Count trips between admins"
   ]
  },
  {
   "cell_type": "code",
   "execution_count": null,
   "metadata": {},
   "outputs": [],
   "source": [
    "print('Count Trips')\n",
    "start = timer()\n",
    "trips=pd.concat([pings_city.drop('cuebiq_id',1).rename(columns=lambda x:x+'_origin').reset_index(drop=True),\n",
    "pings_city.groupby('cuebiq_id').shift(-1).rename(columns=lambda x:x+'_destination').reset_index(drop=True)],1)\n",
    "trips=trips[trips.date_origin==trips.date_destination].copy()\n",
    "trips=trips.groupby(['date_origin',admin_id+'_origin',admin_id+'_destination']\n",
    ")['date_destination'].count().rename('trip').reset_index().rename(columns={'date_origin':'date'})\n",
    "print(\"Done in\", round(timer()-start), \"sec\")"
   ]
  },
  {
   "cell_type": "code",
   "execution_count": null,
   "metadata": {},
   "outputs": [],
   "source": [
    "print('Save')\n",
    "start = timer()\n",
    "trips.to_csv(os.path.join(path_to_data,source,'processed',country,'OD_'+city_name+'.csv'))\n",
    "print(\"Done in\", round(timer()-start), \"sec\")"
   ]
  },
  {
   "cell_type": "code",
   "execution_count": null,
   "metadata": {},
   "outputs": [],
   "source": [
    "trips.head()"
   ]
  }
 ],
 "metadata": {
  "kernelspec": {
   "display_name": "Python 3",
   "language": "python",
   "name": "python3"
  },
  "language_info": {
   "codemirror_mode": {
    "name": "ipython",
    "version": 3
   },
   "file_extension": ".py",
   "mimetype": "text/x-python",
   "name": "python",
   "nbconvert_exporter": "python",
   "pygments_lexer": "ipython3",
   "version": "3.7.4"
  }
 },
 "nbformat": 4,
 "nbformat_minor": 4
}
