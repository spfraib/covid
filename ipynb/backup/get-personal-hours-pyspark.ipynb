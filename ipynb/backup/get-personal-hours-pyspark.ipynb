{
 "cells": [
  {
   "cell_type": "markdown",
   "metadata": {},
   "source": [
    "spark-submit --master yarn --deploy-mode cluster  --conf spark.yarn.submit.waitAppCompletion=false --conf spark.serializer=org.apache.spark.serializer.KryoSerializer --conf spark.speculation=false --conf spark.executorEnv.LANG=en_US.UTF-8 --conf spark.yarn.appMasterEnv.LANG=en_US.UTF-8 --driver-cores 20 --driver-memory 20G --num-executors 40 --executor-cores 15 --executor-memory 25G ./covid/py/get-personal-locations-pyspark.py"
   ]
  },
  {
   "cell_type": "code",
   "execution_count": 1,
   "metadata": {},
   "outputs": [
    {
     "name": "stdout",
     "output_type": "stream",
     "text": [
      "Computing Time: 3941.828 sec\n"
     ]
    }
   ],
   "source": [
    "print('Computing Time:',(1585581654521-1585577712693)/1000,'sec')"
   ]
  },
  {
   "cell_type": "code",
   "execution_count": 2,
   "metadata": {},
   "outputs": [],
   "source": [
    "import os\n",
    "from timeit import default_timer as timer\n",
    "\n",
    "from pyspark.sql import SparkSession\n",
    "from pyspark.sql.functions import udf,desc,row_number,col,year,month,dayofmonth,hour,dayofweek,to_timestamp,size,isnan,lit,date_format,to_timestamp,struct,expr,array,max\n",
    "from pyspark.sql.types import MapType, StringType, IntegerType, StructType, StructField, FloatType, ArrayType, DoubleType"
   ]
  },
  {
   "cell_type": "code",
   "execution_count": 3,
   "metadata": {},
   "outputs": [],
   "source": [
    "try:\n",
    "    spark\n",
    "except NameError:\n",
    "    spark=SparkSession.builder.appName(\"\").getOrCreate()"
   ]
  },
  {
   "cell_type": "code",
   "execution_count": 4,
   "metadata": {},
   "outputs": [],
   "source": [
    "source='cuebiq'\n",
    "country='US'\n",
    "\n",
    "if os.getenv('CLUSTER')=='PRINCE':\n",
    "    path_to_data='/scratch/spf248/covid/data'\n",
    "    directories=['*'+str(x)+'00' for x in range(10)][1:2]\n",
    "    file='part-00000-0428e20d-9019-4cbf-b5ce-bc9414007fec-c000.csv.gz'\n",
    "else:\n",
    "    path_to_data='/user/spf248/covid/data'\n",
    "    directories=['*'+str(x)+'00' for x in range(10)]\n",
    "    file='*'"
   ]
  },
  {
   "cell_type": "markdown",
   "metadata": {},
   "source": [
    "# Load Dataset"
   ]
  },
  {
   "cell_type": "code",
   "execution_count": 5,
   "metadata": {},
   "outputs": [],
   "source": [
    "schema= StructType([\n",
    "StructField(\"_c0\", FloatType(), False),\n",
    "StructField(\"_c1\", StringType(), False),\n",
    "StructField(\"_c2\", FloatType(), False),\n",
    "StructField(\"_c3\", FloatType(), False),\n",
    "StructField(\"_c4\", FloatType(), False),\n",
    "StructField(\"_c5\", FloatType(), False),\n",
    "StructField(\"_c6\", FloatType(), False),\n",
    "StructField(\"_c7\", StringType(), False),\n",
    "StructField(\"_c8\", StringType(), False),])"
   ]
  },
  {
   "cell_type": "code",
   "execution_count": 21,
   "metadata": {},
   "outputs": [],
   "source": [
    "def load_data(directory):\n",
    "    \n",
    "    df=spark.read.option(\n",
    "    'compression', 'gzip').option(\n",
    "    'header', 'false').option(\n",
    "    \"multiLine\", \"true\").option(\n",
    "    'escape','\"').option(\n",
    "    \"encoding\", \"UTF-8\").option(\n",
    "    \"delimiter\", \"\\t\").schema(schema).csv(\n",
    "    os.path.join(\n",
    "    path_to_data,\n",
    "    source,\n",
    "    country,\n",
    "    directory,\n",
    "    file))\n",
    "    \n",
    "    column_names=[\n",
    "    'timestamp',\n",
    "    'cuebiq_id',\n",
    "    'device_type',\n",
    "    'latitude',\n",
    "    'longitude',\n",
    "    'accuracy',\n",
    "    'time_zone_offset',\n",
    "    'classification_type',\n",
    "    'transformation_type']\n",
    "    df=df.toDF(*column_names)\n",
    "\n",
    "    df=df.withColumn(\"time\",to_timestamp(df[\"timestamp\"]+df[\"time_zone_offset\"]))# Use local timezone\n",
    "    df=df.filter(df['classification_type']=='PERSONAL_AREA')\n",
    "    df=df.withColumn('hour',hour(\"time\")) \n",
    "    df=df.withColumn('dayofweek',dayofweek(\"time\")-1)\n",
    "    df=df.withColumn('point',struct('longitude','latitude'))\n",
    "    return df.select('cuebiq_id','point','dayofweek','hour')"
   ]
  },
  {
   "cell_type": "code",
   "execution_count": 24,
   "metadata": {},
   "outputs": [
    {
     "name": "stdout",
     "output_type": "stream",
     "text": [
      "Directory: 0\n",
      "Done in 1 sec\n"
     ]
    }
   ],
   "source": [
    "for i,directory in enumerate(directories):\n",
    "    print('Directory:',i)\n",
    "    start = timer()\n",
    "    df=load_data(directory)\n",
    "    if not i:\n",
    "        hours_week=df.filter(df['dayofweek']<6).groupby('cuebiq_id','point','hour').count()\n",
    "        hours_weekend=df.filter(df['dayofweek']>=6).groupby('cuebiq_id','point','hour').count()\n",
    "    else:\n",
    "        hours_week=hours_week.unionByName(\n",
    "        df.filter(df['dayofweek']<6).groupby('cuebiq_id','point','hour').count())\n",
    "        hours_weekend=hours_weekend.unionByName(\n",
    "        df.filter(df['dayofweek']>=6).groupby('cuebiq_id','point','hour').count())\n",
    "    print(\"Done in\", round(timer()-start), \"sec\")"
   ]
  },
  {
   "cell_type": "code",
   "execution_count": 25,
   "metadata": {},
   "outputs": [
    {
     "name": "stdout",
     "output_type": "stream",
     "text": [
      "Save Weekday Hours\n",
      "Done in 0 sec\n"
     ]
    }
   ],
   "source": [
    "print('Save Weekday Hours')\n",
    "start = timer()\n",
    "hours_week=hours_week.groupby('cuebiq_id','point','hour').agg(\n",
    "{'count':'sum'}).withColumnRenamed('sum(count)','count')\n",
    "hours_week.write.mode(\"overwrite\").parquet(os.path.join(path_to_data,source,country,'personal_week'))\n",
    "print(\"Done in\", round(timer()-start), \"sec\")"
   ]
  },
  {
   "cell_type": "code",
   "execution_count": 26,
   "metadata": {},
   "outputs": [
    {
     "name": "stdout",
     "output_type": "stream",
     "text": [
      "+--------------------+--------------------+----+-----+\n",
      "|           cuebiq_id|               point|hour|count|\n",
      "+--------------------+--------------------+----+-----+\n",
      "|e9de98d34c1033666...|[-119.065704, 35....|  21|   23|\n",
      "|941a6ed8314972278...|[-90.682556, 29.5...|  23|    3|\n",
      "|b9a5f598ab9566819...|[-76.62132, 39.17...|  13|    6|\n",
      "|4ceb457337b65dcc5...|[-88.087524, 39.9...|   6|    2|\n",
      "|9883f2f68789cdfdb...|[-85.49249, 38.23...|  16|    4|\n",
      "|2b8bc177e9d3fbbb5...|[-122.56232, 45.1...|   7|    1|\n",
      "|d447feb07db2d5bd3...|[-122.14287, 37.8...|  22|    6|\n",
      "|63478062c03b7f6c0...|[-101.89764, 35.1...|   4|    4|\n",
      "|9d95eb0e0e4c6c280...|[-93.33092, 37.13...|  13|    1|\n",
      "|85f44a52d7ed5f322...|[-117.09156, 33.4...|   7|    1|\n",
      "|0d513b99fcc54ba2d...|[-101.72858, 34.1...|  15|    7|\n",
      "|187ab762032491b88...|[-97.707596, 30.3...|  10|   42|\n",
      "|cd9fd5c259f261f51...|[-95.18838, 29.48...|  10|    2|\n",
      "|04ee726a919cd0f44...|[-96.831314, 34.8...|  14|    8|\n",
      "|68f5a0ffd3238796f...|[-82.23125, 37.62...|   4|    5|\n",
      "|e7f9dcef4a064e37f...|[-86.912415, 33.5...|  14|    4|\n",
      "|0351ad87f51cb1d4c...|[-111.58264, 33.2...|   5|    1|\n",
      "|57f86722a10f6f8e1...|[-117.61835, 33.6...|   3|    8|\n",
      "|2830da053edcdc08a...|[-71.222755, 42.5...|  20|    3|\n",
      "|ee73ad0ddbec6b1be...|[-82.569855, 28.1...|  10|    4|\n",
      "+--------------------+--------------------+----+-----+\n",
      "only showing top 20 rows\n",
      "\n"
     ]
    }
   ],
   "source": [
    "hours_week.show()"
   ]
  },
  {
   "cell_type": "code",
   "execution_count": 10,
   "metadata": {},
   "outputs": [
    {
     "name": "stdout",
     "output_type": "stream",
     "text": [
      "Save Weekends Hours\n"
     ]
    }
   ],
   "source": [
    "print('Save Weekends Hours')\n",
    "start = timer()\n",
    "hours_weekend=hours_weekend.groupby('cuebiq_id','point','hour').agg(\n",
    "{'count':'sum'}).withColumnRenamed('sum(count)','count')\n",
    "hours_weekend.write.mode(\"overwrite\").parquet(os.path.join(path_to_data,source,country,'personal_weekend'))\n",
    "print(\"Done in\", round(timer()-start), \"sec\")"
   ]
  },
  {
   "cell_type": "code",
   "execution_count": 12,
   "metadata": {},
   "outputs": [
    {
     "name": "stdout",
     "output_type": "stream",
     "text": [
      "+--------------------+--------------------+----+-----+\n",
      "|           cuebiq_id|               point|hour|count|\n",
      "+--------------------+--------------------+----+-----+\n",
      "|b96660af2a3b93bb1...|[-89.98306, 38.52...|  16|    1|\n",
      "|9ef6a2c7e2f1aafa4...|[-84.53045, 39.06...|  13|    1|\n",
      "|aed7e744134f3e36c...|[-87.66809, 42.01...|  23|    1|\n",
      "|81b43fbec387a132f...|[-121.44829, 38.4...|  10|    1|\n",
      "|ea79e7feab1986f03...|[-93.372635, 44.9...|  15|    2|\n",
      "|7ad2f2509b9d5857a...|[-111.76617, 33.4...|  21|    1|\n",
      "|7d172eded0fccee41...|[-80.32448, 26.00...|  10|    1|\n",
      "|992c2afd83d276e05...|[-117.87656, 33.8...|  11|    1|\n",
      "|edbde6dc915eb5bf1...|[-104.74783, 38.8...|   3|    1|\n",
      "|3f79aed557e438fb9...|[-120.38679, 35.6...|  14|    1|\n",
      "|16ba421959630a1bb...|[-74.04457, 43.11...|  15|    1|\n",
      "|3f79aed557e438fb9...|[-120.38679, 35.6...|  21|    2|\n",
      "|3f7d09b7048e79fa7...|[-117.08142, 33.4...|  12|    1|\n",
      "|edbde6dc915eb5bf1...|[-104.74783, 38.8...|   6|    1|\n",
      "|31cd3f94b267a0afa...|[-118.8976, 34.18...|  15|    1|\n",
      "|0beb5dab720c8c4d2...|[-117.71645, 33.4...|  21|    2|\n",
      "|0beb5dab720c8c4d2...|[-117.6552, 33.50...|   8|    2|\n",
      "|423a5d1b815245250...|[-88.027954, 42.9...|  16|    2|\n",
      "|2190860f63e81e30c...|[-90.71962, 30.22...|  12|    1|\n",
      "|f3de001fd2e57640d...|[-95.63583, 29.99...|  11|    1|\n",
      "+--------------------+--------------------+----+-----+\n",
      "only showing top 20 rows\n",
      "\n"
     ]
    }
   ],
   "source": [
    "# hours_weekend.show()"
   ]
  }
 ],
 "metadata": {
  "kernelspec": {
   "display_name": "Python 3",
   "language": "python",
   "name": "python3"
  },
  "language_info": {
   "codemirror_mode": {
    "name": "ipython",
    "version": 3
   },
   "file_extension": ".py",
   "mimetype": "text/x-python",
   "name": "python",
   "nbconvert_exporter": "python",
   "pygments_lexer": "ipython3",
   "version": "3.7.4"
  }
 },
 "nbformat": 4,
 "nbformat_minor": 2
}
