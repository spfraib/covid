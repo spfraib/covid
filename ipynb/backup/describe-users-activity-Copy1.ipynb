{
 "cells": [
  {
   "cell_type": "code",
   "execution_count": null,
   "metadata": {},
   "outputs": [],
   "source": [
    "%matplotlib inline\n",
    "import os\n",
    "from timeit import default_timer as timer\n",
    "import pandas as pd\n",
    "from datetime import datetime, timedelta\n",
    "from glob import glob\n",
    "from pathlib import Path\n",
    "import pandas as pd\n",
    "import numpy as np\n",
    "import geopandas as gpd\n",
    "import matplotlib.pyplot as plt\n",
    "import seaborn as sns"
   ]
  },
  {
   "cell_type": "code",
   "execution_count": null,
   "metadata": {},
   "outputs": [],
   "source": [
    "path_to_data='/scratch/spf248/covid/data'\n",
    "start_date='01/01/2020'\n",
    "end_date='04/16/2020'\n",
    "source='cuebiq'\n",
    "country='ID'\n",
    "admin_id='ADM4_PCODE'\n",
    "city_id='UC_NM_MN'\n",
    "demographics=[\n",
    "'wealth_index',\n",
    "'population_density',\n",
    "]\n",
    "q_days=0.5\n",
    "min_pings=20"
   ]
  },
  {
   "cell_type": "code",
   "execution_count": null,
   "metadata": {},
   "outputs": [],
   "source": [
    "def clean_dates(df,start_date=start_date,end_date=end_date):\n",
    "    currentYear = datetime.now().year\n",
    "    df['keep_date']=df.date.apply(lambda x:int(x.split('-')[0])==currentYear)\n",
    "    df=df[df.keep_date==True].copy()\n",
    "    df.drop('keep_date',1,inplace=True)\n",
    "    df.date=pd.to_datetime(df.date)\n",
    "    df=df[(df['date']>=pd.to_datetime(start_date))&(df['date']<=pd.to_datetime(end_date))].copy()\n",
    "    return df\n",
    "\n",
    "def get_coords(df):\n",
    "    df['latitude']=df['point'].apply(lambda x:x['latitude'])\n",
    "    df['longitude']=df['point'].apply(lambda x:x['longitude'])\n",
    "    return df.drop('point',1)"
   ]
  },
  {
   "cell_type": "markdown",
   "metadata": {},
   "source": [
    "# Users Activity Over Time"
   ]
  },
  {
   "cell_type": "code",
   "execution_count": null,
   "metadata": {},
   "outputs": [],
   "source": [
    "print('Import')\n",
    "start = timer()\n",
    "data_dir = Path(os.path.join(path_to_data,source,'processed',country,'n_pings_id_date_hour'))\n",
    "n_pings_id_date_hour = pd.concat(\n",
    "    pd.read_parquet(parquet_file)\n",
    "    for parquet_file in data_dir.glob('*.parquet')\n",
    ")\n",
    "print(\"Done in\", round(timer()-start), \"sec\")  "
   ]
  },
  {
   "cell_type": "code",
   "execution_count": null,
   "metadata": {},
   "outputs": [],
   "source": [
    "print('Process')\n",
    "start = timer()\n",
    "n_pings_id_date_hour=clean_dates(n_pings_id_date_hour)\n",
    "print(\"Done in\", round(timer()-start), \"sec\")"
   ]
  },
  {
   "cell_type": "code",
   "execution_count": null,
   "metadata": {},
   "outputs": [],
   "source": [
    "print('Group')\n",
    "start = timer()\n",
    "n_pings_users_date=n_pings_id_date_hour.groupby('date').agg({'cuebiq_id':'nunique','n_pings':'sum'})\n",
    "print(\"Done in\", round(timer()-start), \"sec\")"
   ]
  },
  {
   "cell_type": "code",
   "execution_count": null,
   "metadata": {},
   "outputs": [],
   "source": [
    "print('Figure')\n",
    "\n",
    "fig,ax1=plt.subplots(figsize=(8,5))\n",
    "ax2 = ax1.twinx()\n",
    "\n",
    "data1=n_pings_users_date['cuebiq_id'].truncate(after=end_date)\n",
    "ax1.plot(data1.index,data1.values,linewidth=1,color='black')\n",
    "data2=n_pings_users_date['n_pings'].divide(n_pings_users_date['cuebiq_id']).truncate(after=end_date)\n",
    "ax2.plot(data2.index,data2.values,linewidth=1,color='b',linestyle='dashed')\n",
    "\n",
    "ax1.tick_params(which='both',direction='in',pad=3)\n",
    "ax2.tick_params(which='both',direction='in',pad=3)\n",
    "ax1.locator_params(axis='y',nbins=6)\n",
    "ax2.locator_params(axis='y',nbins=6)\n",
    "\n",
    "ax1.set_xlabel('')\n",
    "ax1.set_ylabel('Number of users',fontweight='bold',color='black')\n",
    "ax2.set_ylabel('Average number of pings per user',fontweight='bold',color='b')\n",
    "fig.autofmt_xdate()\n",
    "\n",
    "plt.savefig(os.path.join(path_to_data+'/../fig',country,'activity-per-day.pdf'),bbox_inches='tight')"
   ]
  },
  {
   "cell_type": "markdown",
   "metadata": {},
   "source": [
    "# Home Presence"
   ]
  },
  {
   "cell_type": "code",
   "execution_count": null,
   "metadata": {},
   "outputs": [],
   "source": [
    "print('Import')\n",
    "start = timer()\n",
    "data_dir = Path(os.path.join(path_to_data,source,'processed',country,'n_pings_id_personal_date_hour'))\n",
    "n_pings_id_personal_date_hour = pd.concat(\n",
    "    pd.read_parquet(parquet_file)\n",
    "    for parquet_file in data_dir.glob('*.parquet')\n",
    ")\n",
    "print(\"Done in\", round(timer()-start), \"sec\")  "
   ]
  },
  {
   "cell_type": "code",
   "execution_count": null,
   "metadata": {},
   "outputs": [],
   "source": [
    "print('Process')\n",
    "start = timer()\n",
    "n_pings_id_personal_date_hour=clean_dates(n_pings_id_personal_date_hour)\n",
    "n_pings_id_personal_date_hour=get_coords(n_pings_id_personal_date_hour)\n",
    "print(\"Done in\", round(timer()-start), \"sec\")  "
   ]
  },
  {
   "cell_type": "code",
   "execution_count": null,
   "metadata": {},
   "outputs": [],
   "source": [
    "print('Import')\n",
    "start = timer()\n",
    "data_dir = Path(os.path.join(path_to_data,source,'processed',country,'primary_home'))\n",
    "primary_home = pd.concat(\n",
    "    pd.read_parquet(parquet_file)\n",
    "    for parquet_file in data_dir.glob('*.parquet')\n",
    ")\n",
    "print(\"Done in\", round(timer()-start), \"sec\")  "
   ]
  },
  {
   "cell_type": "code",
   "execution_count": null,
   "metadata": {},
   "outputs": [],
   "source": [
    "print('Process')\n",
    "start = timer()\n",
    "primary_home=get_coords(primary_home)\n",
    "print(\"Done in\", round(timer()-start), \"sec\")  "
   ]
  },
  {
   "cell_type": "code",
   "execution_count": null,
   "metadata": {},
   "outputs": [],
   "source": [
    "print('Merge')\n",
    "start = timer()\n",
    "n_pings_id_home_date_hour=n_pings_id_personal_date_hour.merge(\n",
    "primary_home,on=['cuebiq_id','latitude','longitude']).drop(\n",
    "['perfect_match'],1).rename(columns={'n_pings':'n_home'}).merge(\n",
    "n_pings_id_date_hour,on=['cuebiq_id','date','hour'])\n",
    "print(\"Done in\", round(timer()-start), \"sec\")  "
   ]
  },
  {
   "cell_type": "code",
   "execution_count": null,
   "metadata": {},
   "outputs": [],
   "source": [
    "print('Compute share of users whose pings are all in their personal area')\n",
    "start = timer()\n",
    "n_pings_home_id_date=n_pings_id_home_date_hour.groupby(['date','cuebiq_id']).agg({'n_home':'sum','n_pings':'sum'})\n",
    "n_pings_home_id_date['pct_home']=n_pings_home_id_date['n_home'].divide(n_pings_home_id_date['n_pings'])\n",
    "print(\"Done in\", round(timer()-start), \"sec\")  "
   ]
  },
  {
   "cell_type": "code",
   "execution_count": null,
   "metadata": {},
   "outputs": [],
   "source": [
    "print('Days of Activity')\n",
    "start = timer()\n",
    "ndays=n_pings_home_id_date.reset_index().groupby('cuebiq_id')['date'].nunique()\n",
    "print(\"Done in\", round(timer()-start), \"sec\")"
   ]
  },
  {
   "cell_type": "code",
   "execution_count": null,
   "metadata": {},
   "outputs": [],
   "source": [
    "print('Figure')\n",
    "fig,ax=plt.subplots(figsize=(8,5))\n",
    "n_pings_home_id_date[(n_pings_home_id_date['n_pings']>min_pings)&\\\n",
    "(n_pings_home_id_date.index.get_level_values('cuebiq_id').isin(\n",
    "ndays[ndays>=ndays.quantile(q_days)].index))\n",
    "].groupby('date')['pct_home'].apply(lambda x:(x>=1).sum()/x.count()).plot(\n",
    "ax=ax,linewidth=1,color='k')\n",
    "ax.locator_params(axis='y',nbins=6)\n",
    "ax.tick_params(which='both',direction='in',pad=3)\n",
    "ax.set_xlabel('')\n",
    "ax.set_ylabel('Share of users staying at home',fontweight='bold')\n",
    "fig.autofmt_xdate()\n",
    "plt.savefig(os.path.join(path_to_data+'/../fig',country,'share-of-users-staying-at-home.pdf'),bbox_inches='tight')"
   ]
  },
  {
   "cell_type": "markdown",
   "metadata": {},
   "source": [
    "# Match Homes to Demographics"
   ]
  },
  {
   "cell_type": "code",
   "execution_count": null,
   "metadata": {},
   "outputs": [],
   "source": [
    "print('Import admin data')\n",
    "start = timer()\n",
    "admin=gpd.read_file(os.path.join(path_to_data,'admin',country,'admin.geojson'))\n",
    "admin2city=pd.read_excel(os.path.join(path_to_data,'admin',country,'city2adminGHSL.xlsx'))[[city_id,admin_id]].drop_duplicates(admin_id)\n",
    "print(\"Done in\", round(timer()-start), \"sec\")  "
   ]
  },
  {
   "cell_type": "code",
   "execution_count": null,
   "metadata": {},
   "outputs": [],
   "source": [
    "print('Merge admin and home data')\n",
    "start = timer()\n",
    "primary_home=gpd.GeoDataFrame(primary_home,geometry=gpd.points_from_xy(primary_home.longitude,primary_home.latitude))\n",
    "primary_home.crs='epsg:4326'\n",
    "geocoded_home=gpd.sjoin(primary_home[['cuebiq_id','geometry']],admin,op='intersects')\n",
    "geocoded_home=geocoded_home.merge(admin2city,on=admin_id,how='left')\n",
    "geocoded_home['population_density']=geocoded_home['total_population'].divide(geocoded_home['a_km2'])\n",
    "for col in demographics:\n",
    "    print(col)\n",
    "    geocoded_home[col+'_quantile']=pd.qcut(geocoded_home[col],2,range(1,3))\n",
    "print(\"Done in\", round(timer()-start), \"sec\")  "
   ]
  },
  {
   "cell_type": "markdown",
   "metadata": {},
   "source": [
    "# Home Presence by Demographic Groups"
   ]
  },
  {
   "cell_type": "code",
   "execution_count": null,
   "metadata": {},
   "outputs": [],
   "source": [
    "print('Merge Home Indicator With Demographics')\n",
    "start = timer()\n",
    "n_pings_home_id_date_demog=n_pings_home_id_date.reset_index().merge(\n",
    "geocoded_home[['cuebiq_id',city_id]+[x+'_quantile' for x in demographics]],on=['cuebiq_id'])\n",
    "print(\"Done in\", round(timer()-start), \"sec\") "
   ]
  },
  {
   "cell_type": "code",
   "execution_count": null,
   "metadata": {},
   "outputs": [],
   "source": [
    "print('Figure')\n",
    "fig,ax=plt.subplots(figsize=(8,5))\n",
    "\n",
    "n_pings_home_id_date[(n_pings_home_id_date['n_pings']>min_pings)&\\\n",
    "(n_pings_home_id_date.index.get_level_values('cuebiq_id').isin(\n",
    "ndays[ndays>=ndays.quantile(q_days)].index))\n",
    "].groupby('date')['pct_home'].apply(lambda x:(x>=1).sum()/x.count()).plot(\n",
    "ax=ax,linewidth=1,color='k',label='All users')\n",
    "\n",
    "for i,(val,name) in enumerate(zip([1,2],['Low wealth users','Highest wealth users'])):\n",
    "    n_pings_home_id_date_demog[(n_pings_home_id_date_demog['n_pings']>min_pings)&\\\n",
    "    (n_pings_home_id_date_demog['cuebiq_id'].isin(\n",
    "    ndays[ndays>=ndays.quantile(q_days)].index))].groupby(\n",
    "    ['wealth_index_quantile','date'])['pct_home'].apply(lambda x:(x==1).sum()/x.count()).loc[val].plot(\n",
    "    ax=ax,linewidth=1,color=sns.color_palette(\"coolwarm\", 2)[i],label=name)\n",
    "ax.tick_params(which='both',direction='in',pad=3)\n",
    "ax.locator_params(axis='y',nbins=6)\n",
    "ax.set_xlabel('')\n",
    "ax.set_ylabel('Share of users staying at home',fontweight='bold')\n",
    "ax.legend(loc='best')\n",
    "fig.autofmt_xdate()\n",
    "plt.savefig(os.path.join(path_to_data+'/../fig',country,'share-of-users-staying-at-home-by-wealth.pdf'),bbox_inches='tight')"
   ]
  },
  {
   "cell_type": "code",
   "execution_count": null,
   "metadata": {},
   "outputs": [],
   "source": [
    "print('Figure')\n",
    "fig,ax=plt.subplots(figsize=(8,5))\n",
    "\n",
    "n_pings_home_id_date[(n_pings_home_id_date['n_pings']>min_pings)&\\\n",
    "(n_pings_home_id_date.index.get_level_values('cuebiq_id').isin(\n",
    "ndays[ndays>=ndays.quantile(q_days)].index))\n",
    "].groupby('date')['pct_home'].apply(lambda x:(x==1).sum()/x.count()).plot(\n",
    "ax=ax,linewidth=1,color='k',label='All users')\n",
    "\n",
    "top_cities=geocoded_home.UC_NM_MN.value_counts().index[:3]\n",
    "for i,name in enumerate(top_cities):\n",
    "    \n",
    "    n_pings_home_id_date_demog[(n_pings_home_id_date_demog['n_pings']>min_pings)&\\\n",
    "    (n_pings_home_id_date_demog['cuebiq_id'].isin(\n",
    "    ndays[ndays>=ndays.quantile(q_days)].index))].groupby(\n",
    "    ['UC_NM_MN','date'])['pct_home'].apply(lambda x:(x>=1).sum()/x.count()).loc[name].plot(\n",
    "    ax=ax,linewidth=1,color=sns.color_palette(\"hls\", len(top_cities))[i],label='Users in '+name)\n",
    "    \n",
    "ax.tick_params(which='both',direction='in',pad=3)\n",
    "ax.locator_params(axis='y',nbins=6)\n",
    "ax.set_xlabel('')\n",
    "ax.set_ylabel('Share of users staying at home',fontweight='bold')\n",
    "ax.legend(loc='best')\n",
    "fig.autofmt_xdate()\n",
    "plt.savefig(os.path.join(path_to_data+'/../fig',country,'share-of-users-staying-at-home-by-city.pdf'),bbox_inches='tight')"
   ]
  }
 ],
 "metadata": {
  "kernelspec": {
   "display_name": "Python 3",
   "language": "python",
   "name": "python3"
  },
  "language_info": {
   "codemirror_mode": {
    "name": "ipython",
    "version": 3
   },
   "file_extension": ".py",
   "mimetype": "text/x-python",
   "name": "python",
   "nbconvert_exporter": "python",
   "pygments_lexer": "ipython3",
   "version": "3.7.4"
  }
 },
 "nbformat": 4,
 "nbformat_minor": 4
}
