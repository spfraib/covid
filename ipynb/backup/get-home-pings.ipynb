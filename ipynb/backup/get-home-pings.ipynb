{
 "cells": [
  {
   "cell_type": "code",
   "execution_count": 1,
   "metadata": {},
   "outputs": [],
   "source": [
    "import os\n",
    "from datetime import datetime\n",
    "import pandas as pd\n",
    "import numpy as np\n",
    "\n",
    "from pyspark.sql import SparkSession\n",
    "from pyspark.sql.functions import udf,desc,row_number,col,year,month,hour,dayofmonth,dayofweek,to_timestamp,size,isnan,lit,date_format,to_timestamp,struct\n",
    "from pyspark.sql.types import MapType, StringType, IntegerType, StructType, StructField, FloatType, ArrayType, DoubleType"
   ]
  },
  {
   "cell_type": "code",
   "execution_count": 2,
   "metadata": {},
   "outputs": [],
   "source": [
    "try:\n",
    "    spark\n",
    "except NameError:\n",
    "    spark=SparkSession.builder.appName(\"\").getOrCreate()"
   ]
  },
  {
   "cell_type": "code",
   "execution_count": 3,
   "metadata": {},
   "outputs": [],
   "source": [
    "source='cuebiq'\n",
    "country='ID'\n",
    "\n",
    "if os.getenv('CLUSTER')=='PRINCE':\n",
    "    path_to_data='/scratch/spf248/covid/data' \n",
    "else:\n",
    "    path_to_data='/user/spf248/covid/data'"
   ]
  },
  {
   "cell_type": "code",
   "execution_count": 23,
   "metadata": {},
   "outputs": [],
   "source": [
    "pings=spark.read.parquet(os.path.join(path_to_data,source,'processed',country,'pings_geocoded','*'))\n",
    "homes=spark.read.parquet(os.path.join(path_to_data,source,'processed',country,'primary_home'))\n",
    "homes=homes.withColumn('latitude',col('point.latitude'))\n",
    "homes=homes.withColumn('longitude',col('point.longitude'))\n",
    "homes=homes.drop('point')\n",
    "df=pings.join(homes,on=['cuebiq_id','latitude','longitude'],how='left')\n",
    "df=df.withColumnRenamed('perfect_match','is_home')\n",
    "df=df.fillna(0, subset=['is_home'])\n",
    "df.write.mode(\"overwrite\").parquet(os.path.join(path_to_data,source,'processed',country,'pings_home'))"
   ]
  }
 ],
 "metadata": {
  "kernelspec": {
   "display_name": "Python 3",
   "language": "python",
   "name": "python3"
  },
  "language_info": {
   "codemirror_mode": {
    "name": "ipython",
    "version": 3
   },
   "file_extension": ".py",
   "mimetype": "text/x-python",
   "name": "python",
   "nbconvert_exporter": "python",
   "pygments_lexer": "ipython3",
   "version": "3.7.4"
  }
 },
 "nbformat": 4,
 "nbformat_minor": 4
}
