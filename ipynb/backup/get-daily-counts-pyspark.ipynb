{
 "cells": [
  {
   "cell_type": "markdown",
   "metadata": {},
   "source": [
    "spark-submit --master yarn --deploy-mode cluster  --conf spark.yarn.submit.waitAppCompletion=false --conf spark.serializer=org.apache.spark.serializer.KryoSerializer --conf spark.speculation=false --conf spark.executorEnv.LANG=en_US.UTF-8 --conf spark.yarn.appMasterEnv.LANG=en_US.UTF-8 --driver-cores 20 --driver-memory 20G --num-executors 40 --executor-cores 15 --executor-memory 25G ./covid/py/get-daily-counts-pyspark.py"
   ]
  },
  {
   "cell_type": "code",
   "execution_count": 1,
   "metadata": {},
   "outputs": [],
   "source": [
    "import os\n",
    "\n",
    "from pyspark.sql import SparkSession\n",
    "from pyspark.sql.functions import udf,desc,row_number,col,year,month,dayofmonth,hour,dayofweek,to_timestamp,size,isnan,lit,date_format,to_timestamp,struct,expr\n",
    "from pyspark.sql.types import MapType, StringType, IntegerType, StructType, StructField, FloatType, ArrayType, DoubleType"
   ]
  },
  {
   "cell_type": "code",
   "execution_count": 2,
   "metadata": {},
   "outputs": [],
   "source": [
    "try:\n",
    "    spark\n",
    "except NameError:\n",
    "    spark=SparkSession.builder.appName(\"\").getOrCreate()"
   ]
  },
  {
   "cell_type": "code",
   "execution_count": 3,
   "metadata": {},
   "outputs": [],
   "source": [
    "source='cuebiq'\n",
    "country='US'\n",
    "\n",
    "if os.getenv('CLUSTER')=='PRINCE':\n",
    "    path_to_data='/scratch/spf248/covid/data'\n",
    "    directories=['*'+str(x)+'00' for x in range(10)][1:2]\n",
    "    file='part-00000-0428e20d-9019-4cbf-b5ce-bc9414007fec-c000.csv.gz'\n",
    "else:\n",
    "    path_to_data='/user/spf248/covid/data'\n",
    "    directories=['*'+str(x)+'00' for x in range(10)]\n",
    "    file='*'"
   ]
  },
  {
   "cell_type": "code",
   "execution_count": 4,
   "metadata": {},
   "outputs": [],
   "source": [
    "schema= StructType([\n",
    "StructField(\"_c0\", FloatType(), False),\n",
    "StructField(\"_c1\", StringType(), False),\n",
    "StructField(\"_c2\", FloatType(), False),\n",
    "StructField(\"_c3\", FloatType(), False),\n",
    "StructField(\"_c4\", FloatType(), False),\n",
    "StructField(\"_c5\", FloatType(), False),\n",
    "StructField(\"_c6\", FloatType(), False),\n",
    "StructField(\"_c7\", StringType(), False),\n",
    "StructField(\"_c8\", StringType(), False),])"
   ]
  },
  {
   "cell_type": "markdown",
   "metadata": {},
   "source": [
    "# Load Dataset"
   ]
  },
  {
   "cell_type": "code",
   "execution_count": 5,
   "metadata": {},
   "outputs": [],
   "source": [
    "def load_data(directory):\n",
    "\n",
    "    df=spark.read.option(\n",
    "    'compression', 'gzip').option(\n",
    "    'header', 'false').option(\n",
    "    \"multiLine\", \"true\").option(\n",
    "    'escape','\"').option(\n",
    "    \"encoding\", \"UTF-8\").option(\n",
    "    \"delimiter\", \"\\t\").schema(schema).csv(\n",
    "    os.path.join(\n",
    "    path_to_data,\n",
    "    source,\n",
    "    country,\n",
    "    directory,\n",
    "    file))\n",
    "\n",
    "    df.cache()\n",
    "\n",
    "    column_names=[\n",
    "    'timestamp',\n",
    "    'cuebiq_id',\n",
    "    'device_type',\n",
    "    'latitude',\n",
    "    'longitude',\n",
    "    'accuracy',\n",
    "    'time_zone_offset',\n",
    "    'classification_type',\n",
    "    'transformation_type']\n",
    "    df=df.toDF(*column_names)\n",
    "\n",
    "    df=df.withColumn(\"time\",to_timestamp(df[\"timestamp\"]+df[\"time_zone_offset\"]))\n",
    "    df=df.withColumn(\"date\", date_format(col(\"time\"), \"yyyy-MM-dd\"))\n",
    "    df=df.withColumn('point', struct('longitude','latitude'))\n",
    "    df=df.drop('timestamp','device_type','accuracy','time_zone_offset','transformation_type','time','latitude','longitude')\n",
    "    \n",
    "    return df"
   ]
  },
  {
   "cell_type": "code",
   "execution_count": 6,
   "metadata": {},
   "outputs": [],
   "source": [
    "for i,directory in enumerate(directories):\n",
    "    \n",
    "    df=load_data(directory)\n",
    "    \n",
    "    if not i:\n",
    "        \n",
    "        counts_daily=df.groupby(\n",
    "        'cuebiq_id','date').count()\n",
    "        counts_daily.cache()\n",
    "        \n",
    "        counts_personal=df.filter(df['classification_type']=='PERSONAL_AREA').groupby(\n",
    "        'cuebiq_id','point','date').count()\n",
    "        counts_personal.cache()\n",
    "        \n",
    "    else:\n",
    "        \n",
    "        counts_daily=counts_daily.unionByName(\n",
    "        df.groupby('cuebiq_id','date').count())\n",
    "        \n",
    "        counts_personal=counts_personal.unionByName(\n",
    "        df.filter(df['classification_type']=='PERSONAL_AREA').groupby('cuebiq_id','point','date').count())"
   ]
  },
  {
   "cell_type": "code",
   "execution_count": 7,
   "metadata": {},
   "outputs": [
    {
     "name": "stdout",
     "output_type": "stream",
     "text": [
      "Compute Pings per Day\n"
     ]
    }
   ],
   "source": [
    "print('Compute Pings per Day')\n",
    "counts_daily=counts_daily.groupby('cuebiq_id','date').agg(\n",
    "{'count':'sum'}).withColumnRenamed('sum(count)','n_pings')\n",
    "counts_daily.write.mode(\"overwrite\").parquet(os.path.join(path_to_data,source,country,'counts_daily'))"
   ]
  },
  {
   "cell_type": "code",
   "execution_count": 9,
   "metadata": {},
   "outputs": [
    {
     "name": "stdout",
     "output_type": "stream",
     "text": [
      "+--------------------+----------+-------+\n",
      "|           cuebiq_id|      date|n_pings|\n",
      "+--------------------+----------+-------+\n",
      "|40c5cd542fd6e8e2a...|2019-12-31|    247|\n",
      "|43f7982855fa3f980...|2019-12-31|    139|\n",
      "|3f56e7349f32b5aca...|2019-12-31|     16|\n",
      "|a764905f3693b62bb...|2020-01-01|     88|\n",
      "|dd8c17e237cc95a83...|2019-12-31|     85|\n",
      "|451265a51d3a6fdeb...|2019-12-31|    107|\n",
      "|647ce70cd7dc52820...|2020-01-01|     25|\n",
      "|f2a0e7e72ca6d9355...|2019-12-31|     10|\n",
      "|e01b1035cbc48408d...|2019-12-31|    216|\n",
      "|83820e28dd1c20bd7...|2019-12-30|      7|\n",
      "|6073f2c828b93f8b7...|2020-01-01|     21|\n",
      "|7a3f48a5e285c94aa...|2020-01-01|      6|\n",
      "|1c53ada43dd4efc3d...|2020-01-01|    120|\n",
      "|2eeea3efb7e743314...|2020-01-01|     42|\n",
      "|3a4f6447d98999bcd...|2020-01-01|     23|\n",
      "|322e84c668f308e32...|2020-01-01|     36|\n",
      "|d0353d8a36ea0145a...|2020-01-01|     54|\n",
      "|45ba4f9d53917c4aa...|2019-12-31|    304|\n",
      "|fce8fc42d3eb452cc...|2020-01-01|     51|\n",
      "|ba899e2158a42b8bd...|2020-01-01|     41|\n",
      "+--------------------+----------+-------+\n",
      "only showing top 20 rows\n",
      "\n"
     ]
    }
   ],
   "source": [
    "# counts_daily.show()"
   ]
  },
  {
   "cell_type": "code",
   "execution_count": 8,
   "metadata": {},
   "outputs": [
    {
     "name": "stdout",
     "output_type": "stream",
     "text": [
      "Compute Pings per Day at Personal Areas\n"
     ]
    }
   ],
   "source": [
    "print('Compute Pings per Day at Personal Areas')\n",
    "counts_personal=counts_personal.groupby('cuebiq_id','point','date').agg(\n",
    "{'count':'sum'}).withColumnRenamed('sum(count)','n_pings')\n",
    "counts_personal.write.mode(\"overwrite\").parquet(os.path.join(path_to_data,source,country,'counts_personal'))"
   ]
  },
  {
   "cell_type": "code",
   "execution_count": 10,
   "metadata": {},
   "outputs": [
    {
     "name": "stdout",
     "output_type": "stream",
     "text": [
      "+--------------------+--------------------+----------+-------+\n",
      "|           cuebiq_id|               point|      date|n_pings|\n",
      "+--------------------+--------------------+----------+-------+\n",
      "|5fc29c86f16874927...|[-102.17165, 31.9...|2020-01-01|     18|\n",
      "|3d9027dc8c309ecaf...|[-80.26523, 25.93...|2019-12-31|     22|\n",
      "|0c3ef66ce5d83906e...|[-77.74162, 36.18...|2019-12-31|     62|\n",
      "|e01b1035cbc48408d...|[-117.39334, 47.6...|2019-12-31|     67|\n",
      "|b5be0aa82ddd9c575...|[-86.17238, 36.98...|2020-01-01|     11|\n",
      "|16ba421959630a1bb...|[-74.04457, 43.11...|2020-01-01|      2|\n",
      "|b944a212c59fdf4d8...|[-98.39095, 29.51...|2019-12-31|     37|\n",
      "|7462e464f98265547...|[-76.420265, 36.8...|2019-12-30|      3|\n",
      "|a647b7b9323c1afea...|[-104.95956, 39.9...|2019-12-31|      8|\n",
      "|f53f1ba18c490267e...|[-84.23694, 39.97...|2019-12-31|     17|\n",
      "|1d1dd9523fa53890a...|[-95.72366, 31.66...|2019-12-31|     72|\n",
      "|26c6731377df4f60f...|[-84.42471, 42.25...|2020-01-01|      3|\n",
      "|5f6bceb419f25fd2c...|[-84.38356, 33.74...|2019-12-31|     66|\n",
      "|d01240ed70e84ea8f...|  [-80.8015, 34.984]|2019-12-31|     28|\n",
      "|fe8f24c40e5e11f5f...|[-80.49075, 34.21...|2020-01-01|     11|\n",
      "|9e8f135335d57a55a...|[-117.93383, 33.7...|2020-01-01|     18|\n",
      "|847e19e1d03cd5cd2...|[-93.64922, 42.02...|2019-12-31|      3|\n",
      "|a825b869036ea684a...|[-84.57431, 33.85...|2019-12-31|     29|\n",
      "|5b9754799adce5df6...|[-89.95056, 34.29...|2020-01-01|     16|\n",
      "|9ef8170d019293718...|[-112.10515, 33.6...|2019-12-31|     28|\n",
      "+--------------------+--------------------+----------+-------+\n",
      "only showing top 20 rows\n",
      "\n"
     ]
    }
   ],
   "source": [
    "# counts_personal.show()"
   ]
  }
 ],
 "metadata": {
  "kernelspec": {
   "display_name": "Python 3",
   "language": "python",
   "name": "python3"
  },
  "language_info": {
   "codemirror_mode": {
    "name": "ipython",
    "version": 3
   },
   "file_extension": ".py",
   "mimetype": "text/x-python",
   "name": "python",
   "nbconvert_exporter": "python",
   "pygments_lexer": "ipython3",
   "version": "3.7.4"
  }
 },
 "nbformat": 4,
 "nbformat_minor": 2
}
