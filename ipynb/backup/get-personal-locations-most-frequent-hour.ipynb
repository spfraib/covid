{
 "cells": [
  {
   "cell_type": "code",
   "execution_count": 19,
   "metadata": {},
   "outputs": [],
   "source": [
    "import os\n",
    "from glob import glob\n",
    "import pandas as pd\n",
    "from timeit import default_timer as timer\n",
    "import numpy as np\n",
    "\n",
    "from pyspark.sql import SparkSession\n",
    "from pyspark.sql.functions import udf,desc,row_number,col,year,month,dayofmonth,hour,dayofweek,to_timestamp,size,isnan,lit,date_format,to_timestamp,struct,expr,explode,collect_list,array\n",
    "from pyspark.sql.types import MapType, StringType, IntegerType, StructType, StructField, FloatType, ArrayType, DoubleType"
   ]
  },
  {
   "cell_type": "code",
   "execution_count": 20,
   "metadata": {},
   "outputs": [],
   "source": [
    "try:\n",
    "    spark\n",
    "except NameError:\n",
    "    print('Create Spark')\n",
    "    spark=SparkSession.builder.appName(\"\").getOrCreate()"
   ]
  },
  {
   "cell_type": "code",
   "execution_count": 38,
   "metadata": {},
   "outputs": [
    {
     "name": "stderr",
     "output_type": "stream",
     "text": [
      "/share/apps/anaconda3/2019.10/lib/python3.7/site-packages/statsmodels/tools/_testing.py:19: FutureWarning: pandas.util.testing is deprecated. Use the functions in the public API at pandas.testing instead.\n",
      "  import pandas.util.testing as tm\n"
     ]
    }
   ],
   "source": [
    "source='cuebiq'\n",
    "country='MX'\n",
    "\n",
    "if os.getenv('CLUSTER')=='PRINCE':\n",
    "    path_to_data='/scratch/spf248/covid/data' \n",
    "    path_to_fig='/scratch/spf248/covid/fig'    \n",
    "    %matplotlib inline\n",
    "    import matplotlib.pyplot as plt\n",
    "    import seaborn as sns\n",
    "else:\n",
    "    path_to_data='/user/spf248/covid/data'\n",
    "    path_to_fig='/home/spf248/covid/fig'\n",
    "    import matplotlib as mpl\n",
    "    mpl.use('Agg')\n",
    "    import matplotlib.pyplot as plt\n",
    "    import seaborn as sns"
   ]
  },
  {
   "cell_type": "markdown",
   "metadata": {},
   "source": [
    "# Import Aggregated Data"
   ]
  },
  {
   "cell_type": "code",
   "execution_count": 4,
   "metadata": {},
   "outputs": [
    {
     "name": "stdout",
     "output_type": "stream",
     "text": [
      "# Personal Areas: 45837426\n"
     ]
    }
   ],
   "source": [
    "n_pings_id_day_hour=spark.read.parquet(os.path.join(path_to_data,source,'aggregates',country,'n_pings_id_day_hour'))\n",
    "n_pings_id_day_hour.cache()\n",
    "print('# Personal Areas:', n_pings_id_day_hour.count()) # 34963009"
   ]
  },
  {
   "cell_type": "code",
   "execution_count": 5,
   "metadata": {},
   "outputs": [
    {
     "name": "stdout",
     "output_type": "stream",
     "text": [
      "# Pings at personal Locations: 124822150\n"
     ]
    }
   ],
   "source": [
    "n_pings_id_personal_day_hour=spark.read.parquet(os.path.join(path_to_data,source,'aggregates',country,'n_pings_id_personal_day_hour'))\n",
    "n_pings_id_personal_day_hour.cache()\n",
    "total_pings=n_pings_id_personal_day_hour.select('n_pings').groupby().sum().collect()[0][0]\n",
    "print('# Pings at personal Locations:', total_pings) # 84668795782"
   ]
  },
  {
   "cell_type": "markdown",
   "metadata": {},
   "source": [
    "# Most Frequent Hour"
   ]
  },
  {
   "cell_type": "code",
   "execution_count": 6,
   "metadata": {},
   "outputs": [],
   "source": [
    "n_pings_id_personal_hour=n_pings_id_personal_day_hour.groupby('cuebiq_id','point','hour').agg(\n",
    "{'n_pings':'sum'}).withColumnRenamed('sum(n_pings)','n_personal').join(\n",
    "n_pings_id_day_hour.groupby('cuebiq_id','hour').agg(\n",
    "{'n_pings':'sum'}).withColumnRenamed('sum(n_pings)','n_pings'),on=['cuebiq_id','hour'])\n",
    "\n",
    "n_pings_id_personal_hour=n_pings_id_personal_hour.withColumn(\n",
    "\"pct_pings\", col(\"n_personal\")/col(\"n_pings\")).drop(\"n_personal\",\"n_pings\")\n",
    "\n",
    "n_pings_id_personal_hour_max=n_pings_id_personal_hour.groupby(\n",
    "'cuebiq_id','point').agg({'pct_pings':'max'}).withColumnRenamed('max(pct_pings)','pct_pings')\n",
    "\n",
    "id_personal_most_freq_hour=n_pings_id_personal_hour.join(\n",
    "n_pings_id_personal_hour_max,on=['cuebiq_id', 'point', 'pct_pings']).drop_duplicates(\n",
    "subset=['cuebiq_id', 'point', 'pct_pings']).drop('pct_pings').withColumnRenamed('hour','most_freq_hour')"
   ]
  },
  {
   "cell_type": "code",
   "execution_count": 7,
   "metadata": {},
   "outputs": [
    {
     "name": "stdout",
     "output_type": "stream",
     "text": [
      "Save\n",
      "Done in 281 sec\n"
     ]
    }
   ],
   "source": [
    "print('Save')\n",
    "start = timer()\n",
    "\n",
    "id_personal_most_freq_hour.write.mode(\"overwrite\").parquet(\n",
    "os.path.join(path_to_data,source,'aggregates',country,'id_personal_most_freq_hour'))\n",
    "\n",
    "print(\"Done in\", round(timer()-start), \"sec\")"
   ]
  },
  {
   "cell_type": "markdown",
   "metadata": {},
   "source": [
    "# Figures"
   ]
  },
  {
   "cell_type": "code",
   "execution_count": 22,
   "metadata": {},
   "outputs": [
    {
     "name": "stdout",
     "output_type": "stream",
     "text": [
      "# Personal Areas: 442269\n"
     ]
    }
   ],
   "source": [
    "id_personal_most_freq_hour=spark.read.parquet(os.path.join(path_to_data,source,'aggregates',country,'id_personal_most_freq_hour'))\n",
    "id_personal_most_freq_hour.cache()\n",
    "print('# Personal Areas:', id_personal_most_freq_hour.count()) # 34963009"
   ]
  },
  {
   "cell_type": "code",
   "execution_count": 23,
   "metadata": {},
   "outputs": [
    {
     "name": "stdout",
     "output_type": "stream",
     "text": [
      "# Non-home Locations: 286868\n"
     ]
    }
   ],
   "source": [
    "primary_home=spark.read.parquet(os.path.join(path_to_data,source,'aggregates',country,'primary_home'))\n",
    "primary_home.cache()\n",
    "print('# Non-home Locations:', primary_home.count())"
   ]
  },
  {
   "cell_type": "code",
   "execution_count": 29,
   "metadata": {},
   "outputs": [
    {
     "name": "stdout",
     "output_type": "stream",
     "text": [
      "# Non-home Locations: 286868\n"
     ]
    }
   ],
   "source": [
    "id_primary_home_most_freq_hour=id_personal_most_freq_hour.join(primary_home,on=['cuebiq_id','point'])\n",
    "id_primary_home_most_freq_hour.cache()\n",
    "print('# Non-home Locations:', id_primary_home_most_freq_hour.count())"
   ]
  },
  {
   "cell_type": "code",
   "execution_count": 25,
   "metadata": {},
   "outputs": [
    {
     "name": "stdout",
     "output_type": "stream",
     "text": [
      "# Non-home Locations: 155401\n"
     ]
    }
   ],
   "source": [
    "id_other_most_freq_hour=id_personal_most_freq_hour.join(primary_home,on=['cuebiq_id','point'],how='left_anti')\n",
    "id_other_most_freq_hour.cache()\n",
    "print('# Non-home Locations:', id_other_most_freq_hour.count())"
   ]
  },
  {
   "cell_type": "code",
   "execution_count": 30,
   "metadata": {},
   "outputs": [
    {
     "name": "stdout",
     "output_type": "stream",
     "text": [
      "Save\n",
      "Done in 5 sec\n"
     ]
    }
   ],
   "source": [
    "print('Save')\n",
    "start = timer()\n",
    "\n",
    "id_primary_home_most_freq_hour_pd=id_primary_home_most_freq_hour.toPandas()\n",
    "id_personal_most_freq_hour_pd=id_personal_most_freq_hour.toPandas()\n",
    "id_other_most_freq_hour_pd=id_other_most_freq_hour.toPandas()\n",
    "\n",
    "print(\"Done in\", round(timer()-start), \"sec\")"
   ]
  },
  {
   "cell_type": "code",
   "execution_count": 47,
   "metadata": {},
   "outputs": [
    {
     "data": {
      "image/png": "[encoded data removed]",
      "text/plain": [
       "<Figure size 576x360 with 1 Axes>"
      ]
     },
     "metadata": {
      "needs_background": "light"
     },
     "output_type": "display_data"
    }
   ],
   "source": [
    "fig,ax=plt.subplots(figsize=(8,5))\n",
    "id_primary_home_most_freq_hour_pd.groupby('most_freq_hour')['point'].count().plot(ax=ax,kind='bar',color='k',alpha=0.5,label='Primary home')\n",
    "id_other_most_freq_hour_pd.groupby('most_freq_hour')['point'].count().plot(ax=ax,kind='bar',color='k',alpha=1,label='Other personal areas')\n",
    "ax.tick_params(which='both',direction='in',pad=3)\n",
    "ax.locator_params(axis='y',nbins=5)\n",
    "plt.xticks(rotation=0)\n",
    "ax.set_xlabel('Most frequent hour')\n",
    "ax.set_ylabel('Number of personal areas')\n",
    "ax.set_xlim([-1,24])\n",
    "ax.legend(loc='best')\n",
    "plt.savefig(os.path.join(path_to_fig,country,'most-frequent-hours.pdf'),bbox_inches='tight')"
   ]
  }
 ],
 "metadata": {
  "kernelspec": {
   "display_name": "Python 3",
   "language": "python",
   "name": "python3"
  },
  "language_info": {
   "codemirror_mode": {
    "name": "ipython",
    "version": 3
   },
   "file_extension": ".py",
   "mimetype": "text/x-python",
   "name": "python",
   "nbconvert_exporter": "python",
   "pygments_lexer": "ipython3",
   "version": "3.7.4"
  }
 },
 "nbformat": 4,
 "nbformat_minor": 4
}
