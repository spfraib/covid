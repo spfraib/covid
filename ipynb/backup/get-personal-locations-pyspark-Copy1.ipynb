{
 "cells": [
  {
   "cell_type": "markdown",
   "metadata": {},
   "source": [
    "spark-submit --master yarn --deploy-mode cluster  --conf spark.yarn.submit.waitAppCompletion=false --conf spark.serializer=org.apache.spark.serializer.KryoSerializer --conf spark.speculation=false --conf spark.executorEnv.LANG=en_US.UTF-8 --conf spark.yarn.appMasterEnv.LANG=en_US.UTF-8 --driver-cores 20 --driver-memory 55G --num-executors 30 --executor-cores 15 --executor-memory 30G"
   ]
  },
  {
   "cell_type": "code",
   "execution_count": 6,
   "metadata": {},
   "outputs": [],
   "source": [
    "import os\n",
    "\n",
    "from pyspark.sql import SparkSession\n",
    "from pyspark.sql.functions import udf,desc,row_number,col,year,month,dayofmonth,hour,dayofweek,to_timestamp,size,isnan,lit,date_format,to_timestamp,struct,expr,array,max\n",
    "from pyspark.sql.types import MapType, StringType, IntegerType, StructType, StructField, FloatType, ArrayType, DoubleType"
   ]
  },
  {
   "cell_type": "code",
   "execution_count": 2,
   "metadata": {},
   "outputs": [],
   "source": [
    "try:\n",
    "    spark\n",
    "except NameError:\n",
    "    spark=SparkSession.builder.appName(\"\").getOrCreate()"
   ]
  },
  {
   "cell_type": "code",
   "execution_count": 3,
   "metadata": {},
   "outputs": [],
   "source": [
    "source='cuebiq'\n",
    "country='US'\n",
    "\n",
    "if os.getenv('CLUSTER')=='PRINCE':\n",
    "    path_to_data='/scratch/spf248/covid/data'\n",
    "    directory='2020010100'\n",
    "    file='part-00000-0428e20d-9019-4cbf-b5ce-bc9414007fec-c000.csv.gz'\n",
    "else:\n",
    "    path_to_data='/user/spf248/covid/data'\n",
    "    directory='*'\n",
    "    file='*'"
   ]
  },
  {
   "cell_type": "markdown",
   "metadata": {},
   "source": [
    "# Load Dataset"
   ]
  },
  {
   "cell_type": "code",
   "execution_count": 4,
   "metadata": {},
   "outputs": [
    {
     "name": "stdout",
     "output_type": "stream",
     "text": [
      "Load Dataset\n"
     ]
    }
   ],
   "source": [
    "print('Load Dataset')\n",
    "\n",
    "schema= StructType([\n",
    "StructField(\"_c0\", DoubleType(), False),\n",
    "StructField(\"_c1\", StringType(), False),\n",
    "StructField(\"_c2\", IntegerType(), False),\n",
    "StructField(\"_c3\", FloatType(), False),\n",
    "StructField(\"_c4\", FloatType(), False),\n",
    "StructField(\"_c5\", DoubleType(), False),\n",
    "StructField(\"_c6\", DoubleType(), False),\n",
    "StructField(\"_c7\", StringType(), False),\n",
    "StructField(\"_c8\", StringType(), False),])\n",
    "\n",
    "df=spark.read.option(\n",
    "'compression', 'gzip').option(\n",
    "'header', 'false').option(\n",
    "\"multiLine\", \"true\").option(\n",
    "'escape','\"').option(\n",
    "\"encoding\", \"UTF-8\").option(\n",
    "\"delimiter\", \"\\t\").schema(schema).csv(\n",
    "os.path.join(\n",
    "path_to_data,\n",
    "source,\n",
    "country,\n",
    "directory,\n",
    "file))"
   ]
  },
  {
   "cell_type": "code",
   "execution_count": 5,
   "metadata": {},
   "outputs": [
    {
     "name": "stdout",
     "output_type": "stream",
     "text": [
      "Preprocess Dataset\n"
     ]
    }
   ],
   "source": [
    "print('Preprocess Dataset')\n",
    "\n",
    "column_names=[\n",
    "'timestamp',\n",
    "'cuebiq_id',\n",
    "'device_type',\n",
    "'latitude',\n",
    "'longitude',\n",
    "'accuracy',\n",
    "'time_zone_offset',\n",
    "'classification_type',\n",
    "'transformation_type']\n",
    "df=df.toDF(*column_names)\n",
    "\n",
    "df=df.withColumn(\"time\",to_timestamp(df[\"timestamp\"]+df[\"time_zone_offset\"]))\n",
    "df=df.filter(df['classification_type']=='PERSONAL_AREA')\n",
    "df=df.withColumn('hour',hour(\"time\"))\n",
    "df=df.withColumn('point',struct('longitude','latitude'))\n",
    "df=df.drop('timestamp','device_type','accuracy','time_zone_offset','transformation_type','classification_type','time','latitude','longitude')"
   ]
  },
  {
   "cell_type": "code",
   "execution_count": 6,
   "metadata": {},
   "outputs": [
    {
     "name": "stdout",
     "output_type": "stream",
     "text": [
      "Save Personal Locations\n"
     ]
    }
   ],
   "source": [
    "print('Save Personal Locations')\n",
    "users=df.groupby('cuebiq_id','point','hour').count().withColumn(\n",
    "\"count_hour\", array(\"count\", \"hour\")).groupby(\n",
    "'cuebiq_id','point').agg(\n",
    "max(\"count_hour\").getItem(1).alias(\"most_freq_hour\"))\n",
    "users.write.mode(\"overwrite\").parquet(os.path.join(path_to_data,source,country,'personal'))"
   ]
  },
  {
   "cell_type": "code",
   "execution_count": 11,
   "metadata": {},
   "outputs": [
    {
     "name": "stdout",
     "output_type": "stream",
     "text": [
      "+--------------------+--------------------+--------------+\n",
      "|           cuebiq_id|               point|most_freq_hour|\n",
      "+--------------------+--------------------+--------------+\n",
      "|025ed431cb56ef2ad...|[-97.40806, 27.71...|            14|\n",
      "|02935969fc9db984b...|[-77.49745, 38.29...|             5|\n",
      "|06305350630236c29...|[-82.51925, 35.43...|             5|\n",
      "|0caea2e347fba488a...|[-94.69574, 38.86...|            11|\n",
      "|0f9bc4160d4ea9435...|[-82.39684, 34.87...|            10|\n",
      "|105d556951d46c802...|[-76.240875, 40.1...|            16|\n",
      "|1e6d8201bdb9543b6...|[-96.99278, 28.85...|            16|\n",
      "|20c6601b4fdece0d2...|[-93.64436, 36.59...|            14|\n",
      "|233bb51d8226ab036...|[-95.88674, 29.12...|            18|\n",
      "|25ccaba6d8291a7e4...|[-80.88046, 39.67...|            10|\n",
      "|2ada38aeda2495db4...|[-78.73021, 35.78...|            13|\n",
      "|317d2d0ee9880186b...|[-73.687065, 41.0...|            10|\n",
      "|39b7657b8e073bee0...|[-74.489044, 40.5...|            13|\n",
      "|3f7611f451e2a6321...|[-78.67569, 36.09...|            20|\n",
      "|44aa00f2c1e0bf4c5...|[-91.87545, 35.16...|            16|\n",
      "|45457176b988545ad...|[-85.72122, 38.22...|             8|\n",
      "|48180ecb7595facd0...|[-83.23308, 30.76...|            19|\n",
      "|49bbc26b27698b96e...|[-94.98346, 43.03...|            10|\n",
      "|4ebeca2e1b2ad841b...|[-95.81964, 30.98...|            23|\n",
      "|6355972325e22683d...|[-81.40665, 28.62...|             5|\n",
      "+--------------------+--------------------+--------------+\n",
      "only showing top 20 rows\n",
      "\n"
     ]
    }
   ],
   "source": [
    "users.show()"
   ]
  }
 ],
 "metadata": {
  "kernelspec": {
   "display_name": "Python 3",
   "language": "python",
   "name": "python3"
  },
  "language_info": {
   "codemirror_mode": {
    "name": "ipython",
    "version": 3
   },
   "file_extension": ".py",
   "mimetype": "text/x-python",
   "name": "python",
   "nbconvert_exporter": "python",
   "pygments_lexer": "ipython3",
   "version": "3.7.4"
  }
 },
 "nbformat": 4,
 "nbformat_minor": 2
}
