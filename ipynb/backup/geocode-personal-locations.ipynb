{
 "cells": [
  {
   "cell_type": "code",
   "execution_count": 1,
   "metadata": {},
   "outputs": [],
   "source": [
    "import os\n",
    "\n",
    "from pyspark.sql import SparkSession\n",
    "from pyspark.sql.functions import udf,desc,row_number,col,year,month,dayofmonth,hour,dayofweek,to_timestamp,size,isnan,lit,date_format,to_timestamp,struct,expr,explode\n",
    "from pyspark.sql.types import MapType, StringType, IntegerType, StructType, StructField, FloatType, ArrayType, DoubleType\n",
    "\n",
    "from geospark.register import GeoSparkRegistrator\n",
    "from geospark.utils import GeoSparkKryoRegistrator, KryoSerializer\n",
    "from geospark.register import upload_jars"
   ]
  },
  {
   "cell_type": "code",
   "execution_count": 2,
   "metadata": {},
   "outputs": [
    {
     "data": {
      "text/plain": [
       "True"
      ]
     },
     "execution_count": 2,
     "metadata": {},
     "output_type": "execute_result"
    }
   ],
   "source": [
    "upload_jars()"
   ]
  },
  {
   "cell_type": "code",
   "execution_count": 3,
   "metadata": {},
   "outputs": [
    {
     "name": "stdout",
     "output_type": "stream",
     "text": [
      "Create Spark\n"
     ]
    }
   ],
   "source": [
    "try:\n",
    "    spark\n",
    "except NameError:\n",
    "    print('Create Spark')\n",
    "    spark=SparkSession.builder.appName(\"\").config(\n",
    "    \"spark.serializer\", KryoSerializer.getName).config(\n",
    "    \"spark.kryo.registrator\", GeoSparkKryoRegistrator.getName).getOrCreate()"
   ]
  },
  {
   "cell_type": "code",
   "execution_count": 4,
   "metadata": {},
   "outputs": [
    {
     "data": {
      "text/plain": [
       "True"
      ]
     },
     "execution_count": 4,
     "metadata": {},
     "output_type": "execute_result"
    }
   ],
   "source": [
    "GeoSparkRegistrator.registerAll(spark)"
   ]
  },
  {
   "cell_type": "code",
   "execution_count": 5,
   "metadata": {},
   "outputs": [],
   "source": [
    "source='cuebiq'\n",
    "country='US'\n",
    "\n",
    "if os.getenv('CLUSTER')=='PRINCE':\n",
    "    path_to_data='/scratch/spf248/covid/data'\n",
    "    state='NJ'\n",
    "else:\n",
    "    path_to_data='/user/spf248/covid/data'\n",
    "    state='*'"
   ]
  },
  {
   "cell_type": "code",
   "execution_count": 7,
   "metadata": {},
   "outputs": [],
   "source": [
    "personal_locations=spark.read.parquet(os.path.join(path_to_data,source,country,'personal_locations'))\n",
    "\n",
    "personal_locations.createOrReplaceTempView(\"personal_locations\")\n",
    "\n",
    "personal_locations=spark.sql(\"\"\"select cuebiq_id\n",
    ", point.latitude as latitude\n",
    ", point.longitude as longitude\n",
    ", ST_Point(cast(personal_locations.point.longitude as Decimal(24,20))\n",
    ", cast(personal_locations.point.latitude as Decimal(24,20))) as point\n",
    "from personal_locations\n",
    "\"\"\")\n",
    "\n",
    "personal_locations.createOrReplaceTempView(\"personal_locations\")"
   ]
  },
  {
   "cell_type": "code",
   "execution_count": 9,
   "metadata": {},
   "outputs": [],
   "source": [
    "def load_admin(state):\n",
    "    \n",
    "    admin=spark.read.option(\n",
    "    \"header\", \"true\").csv(\n",
    "    os.path.join(\n",
    "    path_to_data,\n",
    "    'shapefiles',\n",
    "    country,\n",
    "    'polygons',\n",
    "    state+'.csv'))\n",
    "    admin.createOrReplaceTempView(\"admin\")\n",
    "\n",
    "    admin=spark.sql(\"\"\"select admin.GEOID10 as GEOID10\n",
    "    , ST_GeomFromText(admin.geometry) as polygon\n",
    "    from admin\n",
    "    \"\"\")\n",
    "    admin.createOrReplaceTempView(\"admin\")\n",
    "    \n",
    "    return admin"
   ]
  },
  {
   "cell_type": "code",
   "execution_count": 16,
   "metadata": {},
   "outputs": [],
   "source": [
    "admin=load_admin(state)\n",
    "\n",
    "personal_geocoded=spark.sql(\n",
    "\"\"\"\n",
    "    SELECT p.cuebiq_id\n",
    "    , p.latitude\n",
    "    , p.longitude\n",
    "    , s.GEOID10\n",
    "    FROM personal_locations AS p, admin AS s\n",
    "    WHERE ST_Intersects(p.point, s.polygon)\n",
    "\"\"\"\n",
    ")\n",
    "\n",
    "personal_geocoded.write.mode(\"overwrite\").parquet(\n",
    "os.path.join(path_to_data,source,country,'personal_geocoded'))"
   ]
  }
 ],
 "metadata": {
  "kernelspec": {
   "display_name": "Python 3",
   "language": "python",
   "name": "python3"
  },
  "language_info": {
   "codemirror_mode": {
    "name": "ipython",
    "version": 3
   },
   "file_extension": ".py",
   "mimetype": "text/x-python",
   "name": "python",
   "nbconvert_exporter": "python",
   "pygments_lexer": "ipython3",
   "version": "3.7.4"
  }
 },
 "nbformat": 4,
 "nbformat_minor": 4
}
