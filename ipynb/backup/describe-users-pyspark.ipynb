{
 "cells": [
  {
   "cell_type": "markdown",
   "metadata": {},
   "source": [
    "spark-submit --master yarn --deploy-mode cluster  --conf spark.yarn.submit.waitAppCompletion=false --conf spark.serializer=org.apache.spark.serializer.KryoSerializer --conf spark.speculation=false --conf spark.executorEnv.LANG=en_US.UTF-8 --conf spark.yarn.appMasterEnv.LANG=en_US.UTF-8 --driver-cores 20 --driver-memory 55G --num-executors 30 --executor-cores 15 --executor-memory 30G ./covid/py/get-summary-statistics-pyspark.py"
   ]
  },
  {
   "cell_type": "code",
   "execution_count": 1,
   "metadata": {},
   "outputs": [],
   "source": [
    "import os\n",
    "from glob import glob\n",
    "import pandas as pd\n",
    "from timeit import default_timer as timer\n",
    "\n",
    "from pyspark.sql import SparkSession\n",
    "from pyspark.sql.functions import udf,desc,row_number,col,year,month,dayofmonth,dayofweek,to_timestamp,size,isnan,lit,date_format,to_timestamp\n",
    "from pyspark.sql.types import MapType, StringType, IntegerType, StructType, StructField, FloatType, ArrayType, DoubleType"
   ]
  },
  {
   "cell_type": "code",
   "execution_count": 2,
   "metadata": {},
   "outputs": [],
   "source": [
    "try:\n",
    "    spark\n",
    "except NameError:\n",
    "    spark=SparkSession.builder.appName(\"\").getOrCreate()"
   ]
  },
  {
   "cell_type": "code",
   "execution_count": 3,
   "metadata": {},
   "outputs": [
    {
     "name": "stderr",
     "output_type": "stream",
     "text": [
      "/share/apps/anaconda3/2019.10/lib/python3.7/site-packages/statsmodels/tools/_testing.py:19: FutureWarning: pandas.util.testing is deprecated. Use the functions in the public API at pandas.testing instead.\n",
      "  import pandas.util.testing as tm\n"
     ]
    },
    {
     "name": "stdout",
     "output_type": "stream",
     "text": [
      "activity_threshold: 66\n"
     ]
    }
   ],
   "source": [
    "source='cuebiq'\n",
    "country='IN'\n",
    "\n",
    "if os.getenv('CLUSTER')=='PRINCE':\n",
    "    path_to_data='/scratch/spf248/covid/data'\n",
    "    %matplotlib inline\n",
    "    import matplotlib.pyplot as plt\n",
    "    import seaborn as sns\n",
    "else:\n",
    "    path_to_data='/user/spf248/covid/data'\n",
    "    import matplotlib as mpl\n",
    "    if os.environ.get('DISPLAY','') == '':\n",
    "        mpl.use('Agg')\n",
    "    import matplotlib.pyplot as plt\n",
    "    import seaborn as sns\n",
    "    \n",
    "date_range=pd.Series(sorted([\n",
    "pd.to_datetime(x.split('/')[-1][:-2],format='%Y%m%d') \n",
    "for x in glob(os.path.join(path_to_data,source,'s3',country,'2020*'))]))\n",
    "\n",
    "activity_threshold=(date_range.shape[0]+1)*3//4\n",
    "print('activity_threshold:',activity_threshold)"
   ]
  },
  {
   "cell_type": "markdown",
   "metadata": {},
   "source": [
    "# Users Activity"
   ]
  },
  {
   "cell_type": "code",
   "execution_count": 4,
   "metadata": {},
   "outputs": [
    {
     "data": {
      "text/plain": [
       "DataFrame[cuebiq_id: string, n_days: bigint, n_pings: bigint, n_personal: bigint, device_type: float]"
      ]
     },
     "execution_count": 4,
     "metadata": {},
     "output_type": "execute_result"
    }
   ],
   "source": [
    "users=spark.read.parquet(os.path.join(path_to_data,source,'aggregates',country,'users_profile'))\n",
    "users.cache()"
   ]
  },
  {
   "cell_type": "code",
   "execution_count": 5,
   "metadata": {},
   "outputs": [
    {
     "name": "stdout",
     "output_type": "stream",
     "text": [
      "Compute Users Statistics\n",
      "Done in 48 sec\n"
     ]
    }
   ],
   "source": [
    "print('Compute Users Statistics')\n",
    "start = timer()\n",
    "\n",
    "n_days=users.select('n_days').groupby('n_days').count().orderBy(desc('n_days')).toPandas()\n",
    "n_pings=users.select('n_pings').groupby('n_pings').count().orderBy(desc('n_pings')).toPandas()\n",
    "n_pings_active=users.filter(users['n_days']>=activity_threshold).groupby('n_pings').count().orderBy(desc('n_pings')).toPandas()\n",
    "pct_device=(users.groupby('device_type').count().toPandas().dropna().set_index('device_type')['count']/n_days['count'].sum()).round(2)\n",
    "n_personal=users.groupby('n_personal').count().toPandas()\n",
    "\n",
    "print(\"Done in\", round(timer()-start), \"sec\")"
   ]
  },
  {
   "cell_type": "code",
   "execution_count": 6,
   "metadata": {},
   "outputs": [
    {
     "name": "stdout",
     "output_type": "stream",
     "text": [
      "IN\n",
      "# Users: 157498\n",
      "# Daily Users: 65710\n",
      "# Pings: 444046539\n",
      "# Pings of Daily Users: 295791008\n",
      "% Device Type: device_type\n",
      "1.0    0.0\n",
      "0.0    1.0\n",
      "Name: count, dtype: float64\n"
     ]
    }
   ],
   "source": [
    "print(country)\n",
    "print('# Users:', n_days['count'].sum())\n",
    "print('# Daily Users:', n_days.loc[n_days['n_days']>=activity_threshold,'count'].sum())\n",
    "print('# Pings:', (n_pings['n_pings']*n_pings['count']).sum())\n",
    "print('# Pings of Daily Users:', (n_pings_active['n_pings']*n_pings_active['count']).sum())\n",
    "print('% Device Type:', pct_device)"
   ]
  },
  {
   "cell_type": "raw",
   "metadata": {},
   "source": [
    "IN\n",
    "Users: 157498\n",
    "Daily Users: 65710\n",
    "Pings: 444046539\n",
    "Pings of Daily Users: 295791008\n",
    "% Device Type: device_type\n",
    "1.0    0.0\n",
    "0.0    1.0\n",
    "Name: count, dtype: float64"
   ]
  },
  {
   "cell_type": "raw",
   "metadata": {},
   "source": [
    "ID\n",
    "Users: 58677\n",
    "Daily Users: 23708\n",
    "Pings: 149799855\n",
    "Pings of Daily Users: 96075105\n",
    "% Device Type: device_type\n",
    "1.0    0.0\n",
    "0.0    1.0\n",
    "Name: count, dtype: float64"
   ]
  },
  {
   "cell_type": "raw",
   "metadata": {},
   "source": [
    "MX\n",
    "Users: 301967\n",
    "Daily Users: 126143\n",
    "Pings: 926562305\n",
    "Pings of Daily Users: 616332172\n",
    "% Device Type: device_type\n",
    "1.0    0.08\n",
    "0.0    0.92"
   ]
  },
  {
   "cell_type": "code",
   "execution_count": 7,
   "metadata": {},
   "outputs": [
    {
     "data": {
      "image/png": "[encoded data removed]",
      "text/plain": [
       "<Figure size 576x360 with 1 Axes>"
      ]
     },
     "metadata": {
      "needs_background": "light"
     },
     "output_type": "display_data"
    }
   ],
   "source": [
    "fig,ax=plt.subplots(figsize=(8,5))\n",
    "n_days.set_index('n_days')['count'].plot(ax=ax,style='.',color='k', markersize=3)\n",
    "ax.set_yscale('log')\n",
    "ax.set_xscale('log')\n",
    "ax.tick_params(which='both',direction='in',pad=3)\n",
    "ax.set_xlabel('Number of Active Days')\n",
    "ax.set_ylabel('Number of Users')\n",
    "ax.axvline(x=(date_range.max()-date_range.min()).days+1, color='b', linewidth=1)\n",
    "ax.axvspan(0, activity_threshold, alpha=0.5, color='grey')\n",
    "plt.savefig(os.path.join(path_to_data+'/../fig',country,'number-of-active-days.pdf'),bbox_inches='tight')"
   ]
  },
  {
   "cell_type": "code",
   "execution_count": 8,
   "metadata": {},
   "outputs": [
    {
     "data": {
      "image/png": "[encoded data removed]",
      "text/plain": [
       "<Figure size 576x360 with 1 Axes>"
      ]
     },
     "metadata": {
      "needs_background": "light"
     },
     "output_type": "display_data"
    }
   ],
   "source": [
    "fig,ax=plt.subplots(figsize=(8,5))\n",
    "n_pings.set_index('n_pings')['count'].plot(ax=ax,style='*',markersize=2,alpha=0.75,color='k',label='All users')\n",
    "n_pings_active.set_index('n_pings')['count'].plot(ax=ax,style='.',markersize=2,alpha=0.75,color='b',label='Most active users')\n",
    "ax.set_yscale('log')\n",
    "ax.set_xscale('log')\n",
    "ax.tick_params(which='both',direction='in',pad=3)\n",
    "ax.set_xlabel('Number of Pings')\n",
    "ax.set_ylabel('Number of Users')\n",
    "ax.legend(loc='best')\n",
    "plt.savefig(os.path.join(path_to_data+'/../fig',country,'number-of-pings.pdf'),bbox_inches='tight')"
   ]
  },
  {
   "cell_type": "code",
   "execution_count": 9,
   "metadata": {},
   "outputs": [
    {
     "data": {
      "image/png": "[encoded data removed]",
      "text/plain": [
       "<Figure size 576x360 with 1 Axes>"
      ]
     },
     "metadata": {
      "needs_background": "light"
     },
     "output_type": "display_data"
    }
   ],
   "source": [
    "fig,ax=plt.subplots(figsize=(8,5))\n",
    "n_personal.set_index('n_personal')['count'].sort_index().plot(ax=ax,kind='bar',color='k')\n",
    "ax.tick_params(which='both',direction='in',pad=3)\n",
    "plt.xticks(rotation=0)\n",
    "ax.set_yscale('log')\n",
    "ax.set_xlabel('Number of Personal Locations')\n",
    "ax.set_ylabel('Number of Users')\n",
    "plt.savefig(os.path.join(path_to_data+'/../fig',country,'number-of-personal-locations.pdf'),bbox_inches='tight')"
   ]
  }
 ],
 "metadata": {
  "kernelspec": {
   "display_name": "Python 3",
   "language": "python",
   "name": "python3"
  },
  "language_info": {
   "codemirror_mode": {
    "name": "ipython",
    "version": 3
   },
   "file_extension": ".py",
   "mimetype": "text/x-python",
   "name": "python",
   "nbconvert_exporter": "python",
   "pygments_lexer": "ipython3",
   "version": "3.7.4"
  }
 },
 "nbformat": 4,
 "nbformat_minor": 2
}
