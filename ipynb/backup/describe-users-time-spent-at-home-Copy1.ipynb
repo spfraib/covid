{
 "cells": [
  {
   "cell_type": "code",
   "execution_count": null,
   "metadata": {},
   "outputs": [],
   "source": [
    "import os\n",
    "from timeit import default_timer as timer\n",
    "import pandas as pd\n",
    "from datetime import datetime, timedelta, date\n",
    "from glob import glob\n",
    "from pathlib import Path\n",
    "import pandas as pd\n",
    "import numpy as np"
   ]
  },
  {
   "cell_type": "code",
   "execution_count": null,
   "metadata": {},
   "outputs": [],
   "source": [
    "path_to_data='/scratch/spf248/covid/data'\n",
    "start_date='01/01/2020'\n",
    "end_date='04/16/2020'\n",
    "source='cuebiq'\n",
    "country='ID'\n",
    "admin_id='ADM4_PCODE'\n",
    "city_id='UC_NM_MN'\n",
    "demographics=[\n",
    "'wealth_index',\n",
    "'population_density',\n",
    "]\n",
    "q_days=0.5\n",
    "min_pings=20\n",
    "day=list(range(8,20))\n",
    "night=list(range(8))+list(range(20,24))"
   ]
  },
  {
   "cell_type": "markdown",
   "metadata": {},
   "source": [
    "# Compute time spent at home"
   ]
  },
  {
   "cell_type": "code",
   "execution_count": null,
   "metadata": {},
   "outputs": [],
   "source": [
    "print('Import data')\n",
    "start = timer()\n",
    "data_dir = Path(os.path.join(path_to_data,source,'processed',country,'pings_home'))\n",
    "pings_home = pd.concat(\n",
    "    pd.read_parquet(parquet_file)\n",
    "    for parquet_file in data_dir.glob('*.parquet')\n",
    ")\n",
    "print(\"Done in\", round(timer()-start), \"sec\")  "
   ]
  },
  {
   "cell_type": "markdown",
   "metadata": {},
   "source": [
    "# Data processing"
   ]
  },
  {
   "cell_type": "code",
   "execution_count": null,
   "metadata": {},
   "outputs": [],
   "source": [
    "print('Process')\n",
    "start = timer()\n",
    "pings_home.drop(['latitude','longitude','accuracy','classification_type','ADM4_PCODE'],1,inplace=True)\n",
    "pings_home.sort_values(by=['cuebiq_id','time'],inplace=True)\n",
    "pings_home['hour']=pings_home.time.dt.hour\n",
    "print(\"Done in\", round(timer()-start), \"sec\")  "
   ]
  },
  {
   "cell_type": "code",
   "execution_count": null,
   "metadata": {},
   "outputs": [],
   "source": [
    "print('Duration between users pings')\n",
    "start = timer()\n",
    "time_spent=pd.concat([pings_home.rename(columns={'time':'time_start','hour':'hour_start','is_home':'home_start'}),\n",
    "pings_home.groupby('cuebiq_id').shift(-1).rename(columns={'time':'time_end','hour':'hour_end','is_home':'home_end'})],1)\n",
    "time_spent.reset_index(drop=True,inplace=True)\n",
    "time_spent.dropna(inplace=True)\n",
    "time_spent['duration']=time_spent.time_end.subtract(time_spent.time_start)\n",
    "time_spent['is_home']=((time_spent.home_end.add(time_spent.home_start)==2).astype(int))\n",
    "print(\"Done in\", round(timer()-start), \"sec\")  "
   ]
  },
  {
   "cell_type": "code",
   "execution_count": null,
   "metadata": {},
   "outputs": [],
   "source": [
    "print('Compute time spent at home')\n",
    "start = timer()\n",
    "time_home=time_spent[(time_spent.is_home==1)&(time_spent.time_start>=pd.to_datetime(start_date))&(time_spent.time_start<=pd.to_datetime(end_date))].groupby(['cuebiq_id',pd.Grouper(key='time_start',freq='D')])['duration'].sum()\n",
    "daytime_home=time_spent[(time_spent.is_home==1)&(time_spent.hour_start.isin(day))&(time_spent.hour_end.isin(day))&(time_spent.time_start>=pd.to_datetime(start_date))&(time_spent.time_start<=pd.to_datetime(end_date))].groupby(['cuebiq_id',pd.Grouper(key='time_start',freq='D')])['duration'].sum()\n",
    "nighttime_home=time_spent[(time_spent.is_home==1)&(time_spent.hour_start.isin(night))&(time_spent.hour_end.isin(night))&(time_spent.time_start>=pd.to_datetime(start_date))&(time_spent.time_start<=pd.to_datetime(end_date))].groupby(['cuebiq_id',pd.Grouper(key='time_start',freq='D')])['duration'].sum()\n",
    "time_home.rename(columns={'time_start':'date'},inplace=True)\n",
    "daytime_home.rename(columns={'time_start':'date'},inplace=True)\n",
    "nighttime_home.rename(columns={'time_start':'date'},inplace=True)\n",
    "print(\"Done in\", round(timer()-start), \"sec\")"
   ]
  },
  {
   "cell_type": "code",
   "execution_count": null,
   "metadata": {},
   "outputs": [],
   "source": [
    "print('Save')\n",
    "start = timer()\n",
    "time_home.to_csv(os.path.join(path_to_data,source,'processed',country,'time_home_date_id.csv'))\n",
    "daytime_home.to_csv(os.path.join(path_to_data,source,'processed',country,'daytime_home_date_id.csv'))\n",
    "nighttime_home.to_csv(os.path.join(path_to_data,source,'processed',country,'nighttime_home_date_id.csv'))\n",
    "print(\"Done in\", round(timer()-start), \"sec\")"
   ]
  },
  {
   "cell_type": "markdown",
   "metadata": {},
   "source": [
    "# Figures"
   ]
  },
  {
   "cell_type": "code",
   "execution_count": null,
   "metadata": {},
   "outputs": [],
   "source": [
    "%matplotlib inline\n",
    "import geopandas as gpd\n",
    "import matplotlib.pyplot as plt\n",
    "import seaborn as sns"
   ]
  },
  {
   "cell_type": "code",
   "execution_count": null,
   "metadata": {},
   "outputs": [],
   "source": [
    "print('Load Results')\n",
    "start = timer()\n",
    "time_home=pd.read_csv(os.path.join(path_to_data,source,'processed',country,'time_home_date_id.csv'),index_col=0)\n",
    "print(\"Done in\", round(timer()-start), \"sec\")"
   ]
  },
  {
   "cell_type": "code",
   "execution_count": null,
   "metadata": {},
   "outputs": [],
   "source": [
    "print('Import')\n",
    "start = timer()\n",
    "data_dir = Path(os.path.join(path_to_data,source,'processed',country,'n_pings_id_date_hour'))\n",
    "n_pings_id_date_hour = pd.concat(\n",
    "    pd.read_parquet(parquet_file)\n",
    "    for parquet_file in data_dir.glob('*.parquet')\n",
    ")\n",
    "print(\"Done in\", round(timer()-start), \"sec\")  "
   ]
  },
  {
   "cell_type": "code",
   "execution_count": null,
   "metadata": {},
   "outputs": [],
   "source": [
    "print('Process')\n",
    "start = timer()\n",
    "time_home.date=pd.to_datetime(time_home.date)\n",
    "time_home.duration=pd.to_timedelta(time_home.duration)\n",
    "print(\"Done in\", round(timer()-start), \"sec\")"
   ]
  },
  {
   "cell_type": "code",
   "execution_count": null,
   "metadata": {},
   "outputs": [],
   "source": [
    "n_pings_id_date_hour.groupby('cuebiq_id').agg(n_days=('date','nunique'))"
   ]
  },
  {
   "cell_type": "code",
   "execution_count": null,
   "metadata": {},
   "outputs": [],
   "source": [
    "activity_id=time_home.groupby('cuebiq_id').agg(n_days=('date','count'),n_pings=('duration','count'))"
   ]
  },
  {
   "cell_type": "code",
   "execution_count": null,
   "metadata": {},
   "outputs": [],
   "source": [
    "time_home.head()"
   ]
  },
  {
   "cell_type": "code",
   "execution_count": null,
   "metadata": {},
   "outputs": [],
   "source": [
    "activity_id.head()"
   ]
  },
  {
   "cell_type": "code",
   "execution_count": null,
   "metadata": {},
   "outputs": [],
   "source": [
    "time_home[time_home.cuebiq_id.isin(activity_id[activity_id['n_days']>=activity_id['n_days'].quantile(0.0)].index)\n",
    "].groupby('date')['duration'].apply(lambda x:(x/np.timedelta64(1, 'h')).median()).plot()"
   ]
  },
  {
   "cell_type": "code",
   "execution_count": null,
   "metadata": {},
   "outputs": [],
   "source": [
    "(time_home / np.timedelta64(1, 'h')).describe()"
   ]
  },
  {
   "cell_type": "code",
   "execution_count": null,
   "metadata": {},
   "outputs": [],
   "source": [
    "time_spent.head()"
   ]
  },
  {
   "cell_type": "code",
   "execution_count": null,
   "metadata": {},
   "outputs": [],
   "source": [
    "time_spent.is_home.describe()"
   ]
  },
  {
   "cell_type": "code",
   "execution_count": null,
   "metadata": {},
   "outputs": [],
   "source": [
    "time_spent.loc[time_spent.is_home,'duration'].describe()"
   ]
  }
 ],
 "metadata": {
  "kernelspec": {
   "display_name": "Python 3",
   "language": "python",
   "name": "python3"
  },
  "language_info": {
   "codemirror_mode": {
    "name": "ipython",
    "version": 3
   },
   "file_extension": ".py",
   "mimetype": "text/x-python",
   "name": "python",
   "nbconvert_exporter": "python",
   "pygments_lexer": "ipython3",
   "version": "3.7.4"
  }
 },
 "nbformat": 4,
 "nbformat_minor": 4
}
