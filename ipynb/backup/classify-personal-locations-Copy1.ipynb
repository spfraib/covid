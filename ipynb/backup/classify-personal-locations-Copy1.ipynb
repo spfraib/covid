{
 "cells": [
  {
   "cell_type": "code",
   "execution_count": null,
   "metadata": {},
   "outputs": [],
   "source": [
    "import os\n",
    "from glob import glob\n",
    "import pandas as pd\n",
    "from timeit import default_timer as timer\n",
    "\n",
    "from pyspark.sql import SparkSession\n",
    "from pyspark.sql.functions import udf,desc,row_number,col,year,month,dayofmonth,hour,dayofweek,to_timestamp,size,isnan,lit,date_format,to_timestamp,struct,expr,explode,collect_list\n",
    "from pyspark.sql.types import MapType, StringType, IntegerType, StructType, StructField, FloatType, ArrayType, DoubleType\n",
    "import pyspark.sql.functions as F\n",
    "from pyspark.sql import Window"
   ]
  },
  {
   "cell_type": "code",
   "execution_count": null,
   "metadata": {},
   "outputs": [],
   "source": [
    "try:\n",
    "    spark\n",
    "except NameError:\n",
    "    print('Create Spark')\n",
    "    spark=SparkSession.builder.appName(\"\").getOrCreate()"
   ]
  },
  {
   "cell_type": "code",
   "execution_count": null,
   "metadata": {},
   "outputs": [],
   "source": [
    "source='cuebiq'\n",
    "country='US'\n",
    "\n",
    "if os.getenv('CLUSTER')=='PRINCE':\n",
    "    path_to_data='/scratch/spf248/covid/data' \n",
    "    path_to_fig='/scratch/spf248/covid/fig'    \n",
    "    %matplotlib inline\n",
    "    import matplotlib.pyplot as plt\n",
    "    import seaborn as sns\n",
    "\n",
    "else:\n",
    "    path_to_data='/user/spf248/covid/data'\n",
    "    path_to_fig='/home/spf248/covid/fig'\n",
    "    import matplotlib as mpl\n",
    "    mpl.use('Agg')\n",
    "    import matplotlib.pyplot as plt\n",
    "    import seaborn as sns"
   ]
  },
  {
   "cell_type": "markdown",
   "metadata": {},
   "source": [
    "# Import"
   ]
  },
  {
   "cell_type": "code",
   "execution_count": null,
   "metadata": {},
   "outputs": [],
   "source": [
    "# Personal Locations: 34273578\n",
    "# Users with personal locations: 21417460\n",
    "# Home detected: 20992177\n",
    "# Non-home locations: 13281401\n",
    "# Non-home locations: 11624061"
   ]
  },
  {
   "cell_type": "code",
   "execution_count": null,
   "metadata": {},
   "outputs": [],
   "source": [
    "users=spark.read.parquet(os.path.join(path_to_data,source,'aggregates',country,'users'))\n",
    "users.cache()\n",
    "# print('# Users:', users.count()) # 21783569"
   ]
  },
  {
   "cell_type": "code",
   "execution_count": null,
   "metadata": {},
   "outputs": [],
   "source": [
    "users_personal=spark.read.parquet(os.path.join(path_to_data,source,'aggregates',country,'users_personal'))\n",
    "users_personal.cache()\n",
    "# print('# Users:', users_personal.count()) # 33664706"
   ]
  },
  {
   "cell_type": "code",
   "execution_count": null,
   "metadata": {},
   "outputs": [],
   "source": [
    "hourly_personal=spark.read.parquet(os.path.join(path_to_data,source,'aggregates',country,'hourly_personal'))\n",
    "hourly_personal.cache()\n",
    "# print('# Personal Pings on weekdays:', hourly_personal.count())"
   ]
  },
  {
   "cell_type": "markdown",
   "metadata": {},
   "source": [
    "# Classify Locations"
   ]
  },
  {
   "cell_type": "code",
   "execution_count": null,
   "metadata": {},
   "outputs": [],
   "source": [
    "total_hours=hourly_personal.select('n_pings').groupby().sum().collect()[0][0]\n",
    "total_locations=users.select('n_personal').groupby().sum().collect()[0][0]"
   ]
  },
  {
   "cell_type": "code",
   "execution_count": null,
   "metadata": {},
   "outputs": [],
   "source": [
    "users_home=users_personal.join(users_personal.groupby('cuebiq_id').agg(\n",
    "{'n_weeknights':'max'}).withColumnRenamed('max(n_weeknights)','n_weeknights'),\n",
    "on=['cuebiq_id','n_weeknights']).drop_duplicates(\n",
    "subset=['cuebiq_id','n_weeknights']).select('cuebiq_id','point')\n",
    "users_home.cache()\n",
    "# print('# Home detected:',users_home.count())#21335363"
   ]
  },
  {
   "cell_type": "code",
   "execution_count": null,
   "metadata": {},
   "outputs": [],
   "source": [
    "users_non_home=users_personal.join(users_home,on=['cuebiq_id','point'],how='left_anti')\n",
    "users_non_home.cache()\n",
    "# print('# Non-home locations:',users_non_home.count())#12329343"
   ]
  },
  {
   "cell_type": "code",
   "execution_count": null,
   "metadata": {
    "scrolled": false
   },
   "outputs": [],
   "source": [
    "print('Hour spent at personal location')\n",
    "start = timer()\n",
    "\n",
    "hours={}\n",
    "\n",
    "for personal_value in range(1,4):\n",
    "    \n",
    "    print('Personal Value:', personal_value)\n",
    "    \n",
    "    for device_type in [0,1]:\n",
    "        \n",
    "        print('Device:', device_type)\n",
    "        \n",
    "        for (location_name,location_type) in zip(['home','non_home'],[users_home,users_non_home]):\n",
    "            \n",
    "            print('Location:', location_name)\n",
    "            \n",
    "            try:\n",
    "\n",
    "                hours[(personal_value,device_type,location_name)]=\\\n",
    "                ((hourly_personal.join(users.filter(users['n_personal']==personal_value).filter(\n",
    "                users['device_type']==device_type).select('cuebiq_id'),on='cuebiq_id')).join(\n",
    "                location_type.select('cuebiq_id','point'),on=['cuebiq_id','point'])).groupby('hour').agg({'n_pings':'sum'}).withColumnRenamed('sum(n_pings)','n_pings').toPandas()\n",
    "\n",
    "                fig,ax=plt.subplots(figsize=(8,5))\n",
    "                hours[(personal_value,device_type,location_name)].set_index('hour')['n_pings'].sort_index().plot(\n",
    "                ax=ax,kind='bar',color='k')\n",
    "                ax.tick_params(which='both',direction='in',pad=3)\n",
    "                plt.xticks(rotation=0)\n",
    "                ax.set_xlabel('Weekday hour')\n",
    "                ax.set_ylabel('Number of pings')\n",
    "                plt.savefig(os.path.join(path_to_fig,country,'weekday-hours-'+str(personal_value)+'-personal-location-device-'+str(device_type)+'-'+str(location_name)+'.pdf'),bbox_inches='tight')\n",
    "                ax.set_ylim([0,total_hours])\n",
    "                ax.set_xlim([0,23])\n",
    "                print('Location:', location_name)\n",
    "\n",
    "            except:\n",
    "                \n",
    "                pass\n",
    "            \n",
    "print(\"Done in\", round(timer()-start), \"sec\")        "
   ]
  },
  {
   "cell_type": "code",
   "execution_count": null,
   "metadata": {},
   "outputs": [],
   "source": [
    "print('Most Frequent Hour')\n",
    "start = timer()\n",
    "\n",
    "most_freq_hour={}\n",
    "\n",
    "for personal_value in range(1,4):\n",
    "    \n",
    "    print('Personal Value:', personal_value)\n",
    "    \n",
    "    for device_type in [0,1]:\n",
    "        \n",
    "        print('Device:', device_type)\n",
    "    \n",
    "        for (location_name,location_type) in zip(['home','non_home'],[users_home,users_non_home]):\n",
    "            \n",
    "            print('Location:', location_name)\n",
    "            \n",
    "            try:\n",
    "\n",
    "                most_freq_hour[(personal_value,device_type,location_name)]=\\\n",
    "                ((users_personal.join(users.filter(users['n_personal']==personal_value).filter(users['device_type']==device_type).select('cuebiq_id'),on='cuebiq_id')).join(\n",
    "                location_type.select('cuebiq_id','point'),on=['cuebiq_id','point'])).groupby('most_freq_hour').count().toPandas()\n",
    "\n",
    "                fig,ax=plt.subplots(figsize=(8,5))\n",
    "                most_freq_hour[(personal_value,device_type,location_name)].set_index('most_freq_hour')['count'].sort_index().plot(\n",
    "                ax=ax,kind='bar',color='k')\n",
    "                ax.tick_params(which='both',direction='in',pad=3)\n",
    "                plt.xticks(rotation=0)\n",
    "                ax.set_xlabel('Most frequent weekday hour')\n",
    "                ax.set_ylabel('Number of locations')\n",
    "                plt.savefig(os.path.join(path_to_fig,country,'most-freq-weekday-hour-'+str(personal_value)+'-personal-location-device-'+str(device_type)+'-'+str(location_name)+'.pdf'),bbox_inches='tight')\n",
    "                ax.set_ylim([0,total_locations])\n",
    "                ax.set_xlim([0,23])\n",
    "                \n",
    "            except:\n",
    "                \n",
    "                pass\n",
    "            \n",
    "print(\"Done in\", round(timer()-start), \"sec\")        "
   ]
  },
  {
   "cell_type": "markdown",
   "metadata": {},
   "source": [
    "# Backup"
   ]
  },
  {
   "cell_type": "code",
   "execution_count": null,
   "metadata": {},
   "outputs": [],
   "source": [
    "personal_counts=(personal_week.unionByName(personal_weekend)).groupby(\n",
    "'cuebiq_id','point').agg({'count':'sum'}).withColumnRenamed('sum(count)','count')\n",
    "print('# Personal Locations:',personal_counts.count())#34273578\n",
    "\n",
    "users=users.join(personal_counts.groupby('cuebiq_id').count().withColumnRenamed(\n",
    "'count','n_personal'),on='cuebiq_id')\n",
    "print('# Users with personal locations:',users.count())#21417460"
   ]
  },
  {
   "cell_type": "code",
   "execution_count": null,
   "metadata": {},
   "outputs": [],
   "source": [
    "personal_hours=personal_week.unionByName(personal_weekend)\n",
    "\n",
    "personal_night=personal_hours.filter(\n",
    "(personal_hours['hour']<=cutoff_morning)|(personal_hours['hour']>=cutoff_night)).groupby(\n",
    "'cuebiq_id','point').agg({'count':'sum'}).withColumnRenamed('sum(count)','count')\n",
    "\n",
    "personal_night_max=personal_night.groupby('cuebiq_id').agg(\n",
    "{'count':'max'}).withColumnRenamed('max(count)','count')\n",
    "\n",
    "personal_home=personal_night.join(\n",
    "personal_night_max,on=['cuebiq_id','count']).drop_duplicates(\n",
    "subset=['cuebiq_id','count']).select('cuebiq_id','point')\n",
    "print('# Home detected:',personal_home.count())#21091919\n",
    "\n",
    "personal_home.write.mode(\"overwrite\").parquet(os.path.join(path_to_data,source,country,'personal_home'))"
   ]
  },
  {
   "cell_type": "code",
   "execution_count": null,
   "metadata": {},
   "outputs": [],
   "source": [
    "personal_other=personal_counts.join(personal_home,on=['cuebiq_id','point'],how='left_anti')\n",
    "print('# Non-home locations:',personal_other.count())#13181659\n",
    "\n",
    "personal_most_freq_other=personal_other.groupby('cuebiq_id').agg(\n",
    "{'count':'max'}).withColumnRenamed('max(count)','count')\n",
    "\n",
    "personal_secondary=personal_other.join(\n",
    "personal_most_freq_other,on=['cuebiq_id','count']).drop_duplicates(\n",
    "subset=['cuebiq_id','count']).select('cuebiq_id','point')\n",
    "print('# Non-home locations:',personal_secondary.count())#11529108\n",
    "\n",
    "personal_secondary.write.mode(\"overwrite\").parquet(os.path.join(path_to_data,source,country,'personal_secondary'))"
   ]
  },
  {
   "cell_type": "code",
   "execution_count": null,
   "metadata": {},
   "outputs": [],
   "source": [
    "hours_week={}\n",
    "hours_weekend={}\n",
    "\n",
    "for personal_value in range(1,4):\n",
    "    \n",
    "    print('Personal Value:', personal_value)\n",
    "    \n",
    "    for device_type in [0,1]:\n",
    "        \n",
    "        print('Device:', device_type)\n",
    "    \n",
    "        hours_week[(personal_value,device_type)]=(personal_week.join(users.filter(users['n_personal']==personal_value).filter(users['device_type']==device_type),on='cuebiq_id')).groupby('hour').agg({'count':'sum'}).withColumnRenamed('sum(count)','count')\n",
    "        \n",
    "        hours_week[(personal_value,device_type)].write.mode(\"overwrite\").parquet(os.path.join(path_to_data,source,country,'personal_hours','week',str(personal_value),str(device_type)))\n",
    "\n",
    "        hours_weekend[(personal_value,device_type)]=(personal_weekend.join(users.filter(users['n_personal']==personal_value).filter(users['device_type']==device_type),on='cuebiq_id')).groupby('hour').agg({'count':'sum'}).withColumnRenamed('sum(count)','count')\n",
    "        \n",
    "        hours_weekend[(personal_value,device_type)].write.mode(\"overwrite\").parquet(os.path.join(path_to_data,source,country,'personal_hours','weekend',str(personal_value),str(device_type)))"
   ]
  },
  {
   "cell_type": "code",
   "execution_count": null,
   "metadata": {},
   "outputs": [],
   "source": [
    "hours_week={}\n",
    "hours_weekend={}\n",
    "\n",
    "for personal_value in range(1,4):\n",
    "    \n",
    "    print('Personal Value:', personal_value)\n",
    "    \n",
    "    for device_type in [0,1]:\n",
    "        \n",
    "        print('Device:', device_type)\n",
    "    \n",
    "        for (location_name,location_type) in zip(['home','secondary'],[personal_home,personal_secondary]):\n",
    "            \n",
    "            print('Location:', location_name)\n",
    "            \n",
    "            hours_week[(personal_value,device_type,location_name)]=((personal_week.join(users.filter(users['n_personal']==personal_value).filter(users['device_type']==device_type),on='cuebiq_id')).join(location_type,on=['cuebiq_id','point'])).groupby('hour').agg({'count':'sum'}).withColumnRenamed('sum(count)','count')\n",
    "            \n",
    "            hours_week[(personal_value,device_type,location_name)].write.mode(\"overwrite\").parquet(os.path.join(path_to_data,source,country,'personal_hours','week',str(personal_value),str(device_type),location_name))\n",
    "\n",
    "            hours_weekend[(personal_value,device_type,location_name)]=((personal_weekend.join(users.filter(users['n_personal']==personal_value).filter(users['device_type']==device_type),on='cuebiq_id')).join(location_type,on=['cuebiq_id','point'])).groupby('hour').agg({'count':'sum'}).withColumnRenamed('sum(count)','count')\n",
    "            \n",
    "            hours_weekend[(personal_value,device_type,location_name)].write.mode(\"overwrite\").parquet(os.path.join(path_to_data,source,country,'personal_hours','weekend',str(personal_value),str(device_type),location_name))"
   ]
  },
  {
   "cell_type": "markdown",
   "metadata": {},
   "source": [
    "# Load and Plots"
   ]
  },
  {
   "cell_type": "code",
   "execution_count": null,
   "metadata": {},
   "outputs": [],
   "source": [
    "hours_week={}\n",
    "hours_weekend={}\n",
    "\n",
    "for personal_value in range(1,4):\n",
    "    \n",
    "    print('Personal Value:', personal_value)\n",
    "    \n",
    "    for device_type in [0,1]:\n",
    "        \n",
    "        print('Device:', device_type)\n",
    "    \n",
    "        hours_week[(personal_value,device_type)]=spark.read.parquet(os.path.join(path_to_data,source,country,'personal_hours','week',str(personal_value),str(device_type))).toPandas()\n",
    "\n",
    "        hours_weekend[(personal_value,device_type)]=spark.read.parquet(os.path.join(path_to_data,source,country,'personal_hours','weekend',str(personal_value),str(device_type))).toPandas()"
   ]
  },
  {
   "cell_type": "code",
   "execution_count": null,
   "metadata": {},
   "outputs": [],
   "source": [
    "for personal_value in range(1,4):\n",
    "    \n",
    "    print('Personal Value:', personal_value)\n",
    "    \n",
    "    for device_type in [0,1]:\n",
    "        \n",
    "        print('Device:', device_type)\n",
    "    \n",
    "        fig,ax=plt.subplots(figsize=(8,5))\n",
    "        hours_week[(personal_value,device_type)].set_index('hour')['count'].sort_index().plot(ax=ax,kind='bar',color='k')\n",
    "        ax.tick_params(which='both',direction='in',pad=3)\n",
    "        plt.xticks(rotation=0)\n",
    "        ax.set_xlabel('Hour at Personal Location')\n",
    "        ax.set_ylabel('Number of Pings')\n",
    "        plt.savefig(os.path.join(path_to_data+'/../fig','hours-week-'+str(personal_value)+'-personal-device-'+str(device_type)+'.pdf'),bbox_inches='tight')\n",
    "\n",
    "        fig,ax=plt.subplots(figsize=(8,5))\n",
    "        hours_weekend[(personal_value,device_type)].set_index('hour')['count'].sort_index().plot(ax=ax,kind='bar',color='k')\n",
    "        ax.tick_params(which='both',direction='in',pad=3)\n",
    "        plt.xticks(rotation=0)\n",
    "        ax.set_xlabel('Hour at Personal Location')\n",
    "        ax.set_ylabel('Number of Pings')\n",
    "        plt.savefig(os.path.join(path_to_data+'/../fig','hours-weekend-'+str(personal_value)+'-personal-device-'+str(device_type)+'.pdf'),bbox_inches='tight')"
   ]
  },
  {
   "cell_type": "code",
   "execution_count": null,
   "metadata": {},
   "outputs": [],
   "source": [
    "hours_week={}\n",
    "hours_weekend={}\n",
    "\n",
    "for personal_value in range(1,3):\n",
    "    \n",
    "    print('Personal Value:', personal_value)\n",
    "    \n",
    "    for device_type in [0,1]:\n",
    "        \n",
    "        print('Device:', device_type)\n",
    "        \n",
    "        for location_name in ['home','secondary']:\n",
    "            \n",
    "            print('Location:', location_name)\n",
    "            \n",
    "            hours_week[(personal_value,device_type,location_name)]=spark.read.parquet(os.path.join(path_to_data,source,country,'personal_hours','week',str(personal_value),str(device_type),location_name)).toPandas()\n",
    "\n",
    "            hours_weekend[(personal_value,device_type,location_name)]=spark.read.parquet(os.path.join(path_to_data,source,country,'personal_hours','weekend',str(personal_value),str(device_type),location_name)).toPandas()"
   ]
  },
  {
   "cell_type": "code",
   "execution_count": null,
   "metadata": {
    "scrolled": false
   },
   "outputs": [],
   "source": [
    "for personal_value in range(1,4):\n",
    "    \n",
    "    print('Personal Value:', personal_value)\n",
    "    \n",
    "    for device_type in [0,1]:\n",
    "        \n",
    "        print('Device:', device_type)\n",
    "        \n",
    "        for location_name in ['home','secondary']:\n",
    "            \n",
    "            print('Location:', location_name)\n",
    "\n",
    "            fig,ax=plt.subplots(figsize=(8,5))\n",
    "            hours_week[(personal_value,device_type,location_name)].set_index('hour')['count'].sort_index().plot(ax=ax,kind='bar',color='k')\n",
    "            ax.tick_params(which='both',direction='in',pad=3)\n",
    "            plt.xticks(rotation=0)\n",
    "            ax.set_xlabel('Hour at Personal Location')\n",
    "            ax.set_ylabel('Number of Pings')\n",
    "            plt.savefig(os.path.join(path_to_data+'/../fig','hours-week-'+str(personal_value)+'-personal-device-'+str(device_type)+'-'+str(location_name)+'.pdf'),bbox_inches='tight')\n",
    "\n",
    "            fig,ax=plt.subplots(figsize=(8,5))\n",
    "            hours_weekend[(personal_value,device_type,location_name)].set_index('hour')['count'].sort_index().plot(ax=ax,kind='bar',color='k')\n",
    "            ax.tick_params(which='both',direction='in',pad=3)\n",
    "            plt.xticks(rotation=0)\n",
    "            ax.set_xlabel('Hour at Personal Location')\n",
    "            ax.set_ylabel('Number of Pings')\n",
    "            plt.savefig(os.path.join(path_to_data+'/../fig','hours-weekend-'+str(personal_value)+'-personal-device-'+str(device_type)+'-'+str(location_name)+'.pdf'),bbox_inches='tight')"
   ]
  },
  {
   "cell_type": "code",
   "execution_count": null,
   "metadata": {},
   "outputs": [],
   "source": []
  }
 ],
 "metadata": {
  "kernelspec": {
   "display_name": "Python 3",
   "language": "python",
   "name": "python3"
  },
  "language_info": {
   "codemirror_mode": {
    "name": "ipython",
    "version": 3
   },
   "file_extension": ".py",
   "mimetype": "text/x-python",
   "name": "python",
   "nbconvert_exporter": "python",
   "pygments_lexer": "ipython3",
   "version": "3.7.4"
  }
 },
 "nbformat": 4,
 "nbformat_minor": 4
}
