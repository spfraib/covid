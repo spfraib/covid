{
 "cells": [
  {
   "cell_type": "markdown",
   "metadata": {},
   "source": [
    "spark-submit --master yarn --deploy-mode cluster  --conf spark.yarn.submit.waitAppCompletion=false --conf spark.serializer=org.apache.spark.serializer.KryoSerializer --conf spark.speculation=false --conf spark.executorEnv.LANG=en_US.UTF-8 --conf spark.yarn.appMasterEnv.LANG=en_US.UTF-8 --driver-cores 20 --driver-memory 20G --num-executors 40 --executor-cores 15 --executor-memory 25G ./covid/py/get-users-statistics-pyspark.py"
   ]
  },
  {
   "cell_type": "code",
   "execution_count": 9,
   "metadata": {},
   "outputs": [
    {
     "data": {
      "text/plain": [
       "2533.015"
      ]
     },
     "execution_count": 9,
     "metadata": {},
     "output_type": "execute_result"
    }
   ],
   "source": [
    "(1585594165677-1585591632662)/1000"
   ]
  },
  {
   "cell_type": "code",
   "execution_count": 1,
   "metadata": {},
   "outputs": [],
   "source": [
    "import os\n",
    "\n",
    "from pyspark.sql import SparkSession\n",
    "from pyspark.sql.functions import udf,desc,row_number,col,year,month,dayofmonth,dayofweek,to_timestamp,size,isnan,lit,date_format,to_timestamp\n",
    "from pyspark.sql.types import MapType, StringType, IntegerType, StructType, StructField, FloatType, ArrayType, DoubleType"
   ]
  },
  {
   "cell_type": "code",
   "execution_count": 2,
   "metadata": {},
   "outputs": [],
   "source": [
    "try:\n",
    "    spark\n",
    "except NameError:\n",
    "    spark=SparkSession.builder.appName(\"\").getOrCreate()"
   ]
  },
  {
   "cell_type": "code",
   "execution_count": 3,
   "metadata": {},
   "outputs": [],
   "source": [
    "source='cuebiq'\n",
    "country='US'\n",
    "\n",
    "if os.getenv('CLUSTER')=='PRINCE':\n",
    "    path_to_data='/scratch/spf248/covid/data'\n",
    "    directory='2020010100'\n",
    "    file='part-00000-0428e20d-9019-4cbf-b5ce-bc9414007fec-c000.csv.gz'\n",
    "else:\n",
    "    path_to_data='/user/spf248/covid/data'\n",
    "    directory='*'\n",
    "    file='*'"
   ]
  },
  {
   "cell_type": "markdown",
   "metadata": {},
   "source": [
    "# Load Dataset"
   ]
  },
  {
   "cell_type": "code",
   "execution_count": 4,
   "metadata": {},
   "outputs": [
    {
     "name": "stdout",
     "output_type": "stream",
     "text": [
      "Load Dataset\n"
     ]
    }
   ],
   "source": [
    "print('Load Dataset')\n",
    "\n",
    "schema= StructType([\n",
    "StructField(\"_c0\", FloatType(), False),\n",
    "StructField(\"_c1\", StringType(), False),\n",
    "StructField(\"_c2\", FloatType(), False),\n",
    "StructField(\"_c3\", FloatType(), False),\n",
    "StructField(\"_c4\", FloatType(), False),\n",
    "StructField(\"_c5\", FloatType(), False),\n",
    "StructField(\"_c6\", FloatType(), False),\n",
    "StructField(\"_c7\", StringType(), False),\n",
    "StructField(\"_c8\", StringType(), False),])\n",
    "\n",
    "df=spark.read.option(\n",
    "'compression', 'gzip').option(\n",
    "'header', 'false').option(\n",
    "\"multiLine\", \"true\").option(\n",
    "'escape','\"').option(\n",
    "\"encoding\", \"UTF-8\").option(\n",
    "\"delimiter\", \"\\t\").schema(schema).csv(\n",
    "os.path.join(\n",
    "path_to_data,\n",
    "source,\n",
    "country,\n",
    "directory,\n",
    "file))"
   ]
  },
  {
   "cell_type": "code",
   "execution_count": 5,
   "metadata": {},
   "outputs": [
    {
     "name": "stdout",
     "output_type": "stream",
     "text": [
      "Preprocess Dataset\n"
     ]
    }
   ],
   "source": [
    "print('Preprocess Dataset')\n",
    "\n",
    "column_names=[\n",
    "'timestamp',\n",
    "'cuebiq_id',\n",
    "'device_type',\n",
    "'latitude',\n",
    "'longitude',\n",
    "'accuracy',\n",
    "'time_zone_offset',\n",
    "'classification_type',\n",
    "'transformation_type']\n",
    "df=df.toDF(*column_names)\n",
    "\n",
    "df=df.withColumn(\"time\",to_timestamp(df[\"timestamp\"]+df[\"time_zone_offset\"]))\n",
    "df=df.withColumn(\"date\", date_format(col(\"time\"), \"yyyy-MM-dd\"))"
   ]
  },
  {
   "cell_type": "code",
   "execution_count": 7,
   "metadata": {},
   "outputs": [
    {
     "name": "stdout",
     "output_type": "stream",
     "text": [
      "Compute Users Statistics\n"
     ]
    }
   ],
   "source": [
    "print('Compute Users Statistics')\n",
    "users=df.groupBy('cuebiq_id','date').agg(\n",
    "{'time':'count','device_type':'first'}).groupBy('cuebiq_id').agg(\n",
    "{'date':'count','count(time)':'sum','first(device_type)':'first'}).withColumnRenamed(\n",
    "\"first(first(device_type))\", \"device_type\").withColumnRenamed(\n",
    "\"count(date)\", \"n_days\").withColumnRenamed(\n",
    "\"sum(count(time))\", \"n_pings\")"
   ]
  },
  {
   "cell_type": "code",
   "execution_count": null,
   "metadata": {},
   "outputs": [],
   "source": [
    "print('Save')\n",
    "users.write.mode(\"overwrite\").parquet(os.path.join(path_to_data,source,country,'users'))"
   ]
  },
  {
   "cell_type": "code",
   "execution_count": 6,
   "metadata": {},
   "outputs": [],
   "source": [
    "# '2020-03-31'\n",
    "# Pings: 236913719038\n",
    "# Pings within the time window: 235448985572"
   ]
  },
  {
   "cell_type": "code",
   "execution_count": 8,
   "metadata": {},
   "outputs": [
    {
     "name": "stdout",
     "output_type": "stream",
     "text": [
      "+--------------------+------+-----------+-------+\n",
      "|           cuebiq_id|n_days|device_type|n_pings|\n",
      "+--------------------+------+-----------+-------+\n",
      "|322e84c668f308e32...|     2|          0|     75|\n",
      "|5476c2d50fa3396a6...|     3|          0|     17|\n",
      "|a28a817158e80e35d...|     2|          0|     36|\n",
      "|39d3c113a30f1fd7a...|     2|          1|    179|\n",
      "|ba5844efcdf7b415a...|     2|          1|    135|\n",
      "|2b3f9d1040ff00bef...|     2|          1|    381|\n",
      "|80212d453ce93ce85...|     2|          1|    662|\n",
      "|b2e54fa9d2420ed40...|     2|          1|     80|\n",
      "|c05b4cf1328f36cce...|     2|          0|    234|\n",
      "|a63778ecb57bbe24c...|     2|          1|     56|\n",
      "|8eb9cdc18ed67ce85...|     2|          0|     29|\n",
      "|21f619f1cc118d432...|     2|          1|    185|\n",
      "|d8cd97ae992d235a1...|     4|          0|      6|\n",
      "|14c967be056940b6e...|     2|          1|    293|\n",
      "|20132c25e188c1543...|     2|          1|    159|\n",
      "|3415decfb70d9cb42...|     2|          0|     37|\n",
      "|0e59242866089fc17...|     2|          0|     39|\n",
      "|557871263c4d9be8c...|     2|          1|    122|\n",
      "|942edcc8e4e6154cb...|     2|          1|    102|\n",
      "|3af2bb8825ee211ca...|     2|          1|    217|\n",
      "+--------------------+------+-----------+-------+\n",
      "only showing top 20 rows\n",
      "\n"
     ]
    }
   ],
   "source": [
    "# users.show()"
   ]
  },
  {
   "cell_type": "code",
   "execution_count": 7,
   "metadata": {},
   "outputs": [
    {
     "name": "stdout",
     "output_type": "stream",
     "text": [
      "+----------------+------+\n",
      "|time_zone_offset| count|\n",
      "+----------------+------+\n",
      "|          3600.0|     8|\n",
      "|        -14400.0|     5|\n",
      "|        -32400.0|  1629|\n",
      "|        -25200.0| 77683|\n",
      "|        -36000.0|  3198|\n",
      "|        -21600.0|488452|\n",
      "|        -18000.0|605074|\n",
      "|        -28800.0|145252|\n",
      "|             0.0|   440|\n",
      "+----------------+------+\n",
      "\n"
     ]
    }
   ],
   "source": [
    "# df.groupby('time_zone_offset').count().show()"
   ]
  }
 ],
 "metadata": {
  "kernelspec": {
   "display_name": "Python 3",
   "language": "python",
   "name": "python3"
  },
  "language_info": {
   "codemirror_mode": {
    "name": "ipython",
    "version": 3
   },
   "file_extension": ".py",
   "mimetype": "text/x-python",
   "name": "python",
   "nbconvert_exporter": "python",
   "pygments_lexer": "ipython3",
   "version": "3.7.4"
  }
 },
 "nbformat": 4,
 "nbformat_minor": 2
}
